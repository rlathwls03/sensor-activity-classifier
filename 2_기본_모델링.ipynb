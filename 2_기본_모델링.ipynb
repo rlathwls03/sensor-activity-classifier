{
  "cells": [
    {
      "cell_type": "markdown",
      "metadata": {
        "id": "view-in-github",
        "colab_type": "text"
      },
      "source": [
        "<a href=\"https://colab.research.google.com/github/rlathwls03/sensor-activity-classifier/blob/main/2_%EA%B8%B0%EB%B3%B8_%EB%AA%A8%EB%8D%B8%EB%A7%81.ipynb\" target=\"_parent\"><img src=\"https://colab.research.google.com/assets/colab-badge.svg\" alt=\"Open In Colab\"/></a>"
      ]
    },
    {
      "cell_type": "markdown",
      "metadata": {
        "id": "NbI_RoQ9AP5r"
      },
      "source": [
        "#**스마트폰 센서 데이터 기반 모션 분류**\n",
        "# 단계2 : 기본 모델링\n"
      ]
    },
    {
      "cell_type": "markdown",
      "metadata": {
        "id": "D67PlTu4JGAY"
      },
      "source": [
        "## 0.미션3"
      ]
    },
    {
      "cell_type": "markdown",
      "metadata": {
        "id": "ubUjMgXEzTUv"
      },
      "source": [
        "* 데이터 전처리\n",
        "    * 가변수화, 데이터 분할, NaN 확인 및 조치, 스케일링 등 필요한 전처리 수행\n",
        "* 다양한 딥러닝 구조의 모델로 분류 모델 생성\n",
        "    * 최소 4개 이상 모델링 수행\n",
        "    * 각 모델별 최소 5회 반복수행해서 얻은 성능의 평균으로 비교\n",
        "    * 각 모델의 성능을 저장하는 별도 데이터 프레임을 만들고 비교\n",
        "* 옵션 : 다음 사항은 선택사항입니다. 시간이 허용하는 범위 내에서 수행하세요.\n",
        "    * 상위 N개 변수를 선정하여 모델링 및 성능 비교\n",
        "        * 모델링에 항상 모든 변수가 필요한 것은 아닙니다.\n",
        "        * 변수 중요도 상위 N개를 선정하여 모델링하고 타 모델과 성능을 비교하세요.\n",
        "        * 상위 N개를 선택하는 방법은, 변수를 하나씩 늘려가며 모델링 및 성능 검증을 수행하여 적절한 지점을 찾는 것입니다.\n",
        "* 성능 가이드\n",
        "    * Accuracy : 0.90 ~ 0.99"
      ]
    },
    {
      "cell_type": "markdown",
      "metadata": {
        "id": "a2oWtdJPzTUy"
      },
      "source": [
        "## 1.환경설정"
      ]
    },
    {
      "cell_type": "markdown",
      "metadata": {
        "id": "OUF6xQFZzTUz"
      },
      "source": [
        "* 세부 요구사항\n",
        "    - 경로 설정 : 구글콜랩\n",
        "        * 구글 드라이브 바로 밑에 project1 폴더를 만들고,\n",
        "        * 데이터 파일을 복사해 넣습니다.\n",
        "    - 기본적으로 필요한 라이브러리를 import 하도록 코드가 작성되어 있습니다.\n",
        "        * 필요하다고 판단되는 라이브러리를 추가하세요.\n"
      ]
    },
    {
      "cell_type": "markdown",
      "metadata": {
        "id": "4bg7tWxSzTU0"
      },
      "source": [
        "### (1) 경로 설정"
      ]
    },
    {
      "cell_type": "markdown",
      "metadata": {
        "id": "o86e1aHRzTU0"
      },
      "source": [
        "* 구글 드라이브 연결"
      ]
    },
    {
      "cell_type": "code",
      "execution_count": null,
      "metadata": {
        "id": "9G0Si0qDzTU0",
        "colab": {
          "base_uri": "https://localhost:8080/"
        },
        "outputId": "77493518-ab88-4d5c-952c-b4380b7b89cf"
      },
      "outputs": [
        {
          "output_type": "stream",
          "name": "stdout",
          "text": [
            "Drive already mounted at /content/drive; to attempt to forcibly remount, call drive.mount(\"/content/drive\", force_remount=True).\n"
          ]
        }
      ],
      "source": [
        "from google.colab import drive\n",
        "drive.mount('/content/drive')"
      ]
    },
    {
      "cell_type": "code",
      "execution_count": null,
      "metadata": {
        "id": "5i7K-4UGzTU3",
        "colab": {
          "base_uri": "https://localhost:8080/"
        },
        "outputId": "9ac4a937-551f-4343-8323-c6f106c7c15b"
      },
      "outputs": [
        {
          "output_type": "stream",
          "name": "stdout",
          "text": [
            "/content/drive/MyDrive/project2\n",
            "'1.탐색적 데이터 분석.ipynb'\t        data01_train.csv\n",
            "'1.탐색적 데이터 분석_추가과제.ipynb'   desktop.ini\n",
            "'2.기본 모델링.ipynb'\t\t        feature_importance_all.pkl\n",
            "'3.단계별 모델링.ipynb'\t\t        features.csv\n",
            "'AI 미프 1차 과제2_OO반_OO조.pptx'     'features 설명.xlsx'\n",
            " data01_test.csv\n"
          ]
        }
      ],
      "source": [
        "path = '/content/drive/MyDrive/project2/'\n",
        "\n",
        "%cd '/content/drive/MyDrive/project2/'\n",
        "!ls"
      ]
    },
    {
      "cell_type": "markdown",
      "metadata": {
        "id": "0Xnr5atSzTU4"
      },
      "source": [
        "### (2) 라이브러리 불러오기"
      ]
    },
    {
      "cell_type": "markdown",
      "metadata": {
        "id": "waGFA7e9zTU4"
      },
      "source": [
        "* 라이브러리 로딩\n",
        "     - pandas, numpy,matplotlib,seaborn, joblib, 모델링에 필요한 라이브러리를 로딩합니다."
      ]
    },
    {
      "cell_type": "code",
      "execution_count": null,
      "metadata": {
        "id": "cuVV49MizTU5"
      },
      "outputs": [],
      "source": [
        "import pandas as pd\n",
        "import numpy as np\n",
        "import matplotlib.pyplot as plt\n",
        "import seaborn as sns\n",
        "\n",
        "import joblib\n",
        "from tqdm import tqdm\n",
        "\n",
        "from sklearn.model_selection import train_test_split\n",
        "from sklearn.preprocessing import MinMaxScaler, LabelEncoder\n",
        "from sklearn.metrics import *\n",
        "\n",
        "from tensorflow.keras.models import Sequential\n",
        "from tensorflow.keras.layers import Dense, Flatten, Dropout, Input\n",
        "from tensorflow.keras.backend import clear_session\n",
        "from tensorflow.keras.optimizers import Adam"
      ]
    },
    {
      "cell_type": "code",
      "execution_count": null,
      "metadata": {
        "id": "3c4JgiEbNKfo"
      },
      "outputs": [],
      "source": [
        "# 학습곡선 함수\n",
        "def dl_history_plot(history):\n",
        "    plt.figure(figsize=(10,6))\n",
        "    plt.plot(history['loss'], label='train_err', marker = '.')\n",
        "    plt.plot(history['val_loss'], label='val_err', marker = '.')\n",
        "\n",
        "    plt.ylabel('Loss')\n",
        "    plt.xlabel('Epoch')\n",
        "    plt.legend()\n",
        "    plt.grid()\n",
        "    plt.show()"
      ]
    },
    {
      "cell_type": "markdown",
      "metadata": {
        "id": "bA-eHXdwBDCz"
      },
      "source": [
        "### (3) 데이터 불러오기"
      ]
    },
    {
      "cell_type": "markdown",
      "metadata": {
        "id": "HwIACQyupklv"
      },
      "source": [
        "* 주어진 데이터셋\n",
        "    * data01_train.csv : 학습 및 검증용\n",
        "    * data01_test.csv : 테스트용\n",
        "    * feature.csv : feature 이름을 계층구조로 정리한 데이터\n",
        "\n",
        "* 세부 요구사항\n",
        "    * 칼럼 삭제 : data01_train.csv와 data01_test.csv 에서 'subject' 칼럼은 불필요하므로 삭제합니다."
      ]
    },
    {
      "cell_type": "markdown",
      "metadata": {
        "id": "fmgUEGOipvG5"
      },
      "source": [
        "#### 1) 데이터로딩"
      ]
    },
    {
      "cell_type": "code",
      "execution_count": null,
      "metadata": {
        "id": "HdZCcSs6qfRC"
      },
      "outputs": [],
      "source": [
        "# 주어진 데이터 셋을 불러오세요.(3개)\n",
        "train = pd.read_csv('data01_train.csv')\n",
        "test = pd.read_csv('data01_test.csv')\n",
        "features = pd.read_csv('features.csv')"
      ]
    },
    {
      "cell_type": "code",
      "execution_count": null,
      "metadata": {
        "id": "V8tUE_fyqfRC"
      },
      "outputs": [],
      "source": [
        "#불필요한 칼럼을 삭제하세요. (subject)"
      ]
    },
    {
      "cell_type": "code",
      "execution_count": null,
      "metadata": {
        "id": "FcUbOi_-qfRC",
        "colab": {
          "base_uri": "https://localhost:8080/",
          "height": 272
        },
        "outputId": "1c97e142-c2a1-42a2-a9fb-2a7d08c8b804"
      },
      "outputs": [
        {
          "output_type": "execute_result",
          "data": {
            "text/plain": [
              "   tBodyAcc-mean()-X  tBodyAcc-mean()-Y  tBodyAcc-mean()-Z  tBodyAcc-std()-X  \\\n",
              "0           0.288508          -0.009196          -0.103362         -0.988986   \n",
              "1           0.265757          -0.016576          -0.098163         -0.989551   \n",
              "2           0.278709          -0.014511          -0.108717         -0.997720   \n",
              "3           0.289795          -0.035536          -0.150354         -0.231727   \n",
              "4           0.394807           0.034098           0.091229          0.088489   \n",
              "\n",
              "   tBodyAcc-std()-Y  tBodyAcc-std()-Z  tBodyAcc-mad()-X  tBodyAcc-mad()-Y  \\\n",
              "0         -0.962797         -0.967422         -0.989000         -0.962596   \n",
              "1         -0.994636         -0.987435         -0.990189         -0.993870   \n",
              "2         -0.981088         -0.994008         -0.997934         -0.982187   \n",
              "3         -0.006412         -0.338117         -0.273557          0.014245   \n",
              "4         -0.106636         -0.388502         -0.010469         -0.109680   \n",
              "\n",
              "   tBodyAcc-mad()-Z  tBodyAcc-max()-X  ...  fBodyBodyGyroJerkMag-skewness()  \\\n",
              "0         -0.965650         -0.929747  ...                        -0.487737   \n",
              "1         -0.987558         -0.937337  ...                        -0.237820   \n",
              "2         -0.995017         -0.942584  ...                        -0.535287   \n",
              "3         -0.347916          0.008288  ...                        -0.004012   \n",
              "4         -0.346372          0.584131  ...                        -0.157832   \n",
              "\n",
              "   fBodyBodyGyroJerkMag-kurtosis()  angle(tBodyAccMean,gravity)  \\\n",
              "0                        -0.816696                    -0.042494   \n",
              "1                        -0.693515                    -0.062899   \n",
              "2                        -0.829311                     0.000265   \n",
              "3                        -0.408956                    -0.255125   \n",
              "4                        -0.563437                    -0.044344   \n",
              "\n",
              "   angle(tBodyAccJerkMean),gravityMean)  angle(tBodyGyroMean,gravityMean)  \\\n",
              "0                             -0.044218                          0.307873   \n",
              "1                              0.388459                         -0.765014   \n",
              "2                             -0.525022                         -0.891875   \n",
              "3                              0.612804                          0.747381   \n",
              "4                             -0.845268                         -0.974650   \n",
              "\n",
              "   angle(tBodyGyroJerkMean,gravityMean)  angle(X,gravityMean)  \\\n",
              "0                              0.072790             -0.601120   \n",
              "1                              0.771524              0.345205   \n",
              "2                              0.021528             -0.833564   \n",
              "3                             -0.072944             -0.695819   \n",
              "4                             -0.887846             -0.705029   \n",
              "\n",
              "   angle(Y,gravityMean)  angle(Z,gravityMean)            Activity  \n",
              "0              0.331298              0.165163            STANDING  \n",
              "1             -0.769186             -0.147944              LAYING  \n",
              "2              0.202434             -0.032755            STANDING  \n",
              "3              0.287154              0.111388             WALKING  \n",
              "4              0.264952              0.137758  WALKING_DOWNSTAIRS  \n",
              "\n",
              "[5 rows x 562 columns]"
            ],
            "text/html": [
              "\n",
              "  <div id=\"df-b5a85b70-7e38-4759-aea9-249cb8736014\" class=\"colab-df-container\">\n",
              "    <div>\n",
              "<style scoped>\n",
              "    .dataframe tbody tr th:only-of-type {\n",
              "        vertical-align: middle;\n",
              "    }\n",
              "\n",
              "    .dataframe tbody tr th {\n",
              "        vertical-align: top;\n",
              "    }\n",
              "\n",
              "    .dataframe thead th {\n",
              "        text-align: right;\n",
              "    }\n",
              "</style>\n",
              "<table border=\"1\" class=\"dataframe\">\n",
              "  <thead>\n",
              "    <tr style=\"text-align: right;\">\n",
              "      <th></th>\n",
              "      <th>tBodyAcc-mean()-X</th>\n",
              "      <th>tBodyAcc-mean()-Y</th>\n",
              "      <th>tBodyAcc-mean()-Z</th>\n",
              "      <th>tBodyAcc-std()-X</th>\n",
              "      <th>tBodyAcc-std()-Y</th>\n",
              "      <th>tBodyAcc-std()-Z</th>\n",
              "      <th>tBodyAcc-mad()-X</th>\n",
              "      <th>tBodyAcc-mad()-Y</th>\n",
              "      <th>tBodyAcc-mad()-Z</th>\n",
              "      <th>tBodyAcc-max()-X</th>\n",
              "      <th>...</th>\n",
              "      <th>fBodyBodyGyroJerkMag-skewness()</th>\n",
              "      <th>fBodyBodyGyroJerkMag-kurtosis()</th>\n",
              "      <th>angle(tBodyAccMean,gravity)</th>\n",
              "      <th>angle(tBodyAccJerkMean),gravityMean)</th>\n",
              "      <th>angle(tBodyGyroMean,gravityMean)</th>\n",
              "      <th>angle(tBodyGyroJerkMean,gravityMean)</th>\n",
              "      <th>angle(X,gravityMean)</th>\n",
              "      <th>angle(Y,gravityMean)</th>\n",
              "      <th>angle(Z,gravityMean)</th>\n",
              "      <th>Activity</th>\n",
              "    </tr>\n",
              "  </thead>\n",
              "  <tbody>\n",
              "    <tr>\n",
              "      <th>0</th>\n",
              "      <td>0.288508</td>\n",
              "      <td>-0.009196</td>\n",
              "      <td>-0.103362</td>\n",
              "      <td>-0.988986</td>\n",
              "      <td>-0.962797</td>\n",
              "      <td>-0.967422</td>\n",
              "      <td>-0.989000</td>\n",
              "      <td>-0.962596</td>\n",
              "      <td>-0.965650</td>\n",
              "      <td>-0.929747</td>\n",
              "      <td>...</td>\n",
              "      <td>-0.487737</td>\n",
              "      <td>-0.816696</td>\n",
              "      <td>-0.042494</td>\n",
              "      <td>-0.044218</td>\n",
              "      <td>0.307873</td>\n",
              "      <td>0.072790</td>\n",
              "      <td>-0.601120</td>\n",
              "      <td>0.331298</td>\n",
              "      <td>0.165163</td>\n",
              "      <td>STANDING</td>\n",
              "    </tr>\n",
              "    <tr>\n",
              "      <th>1</th>\n",
              "      <td>0.265757</td>\n",
              "      <td>-0.016576</td>\n",
              "      <td>-0.098163</td>\n",
              "      <td>-0.989551</td>\n",
              "      <td>-0.994636</td>\n",
              "      <td>-0.987435</td>\n",
              "      <td>-0.990189</td>\n",
              "      <td>-0.993870</td>\n",
              "      <td>-0.987558</td>\n",
              "      <td>-0.937337</td>\n",
              "      <td>...</td>\n",
              "      <td>-0.237820</td>\n",
              "      <td>-0.693515</td>\n",
              "      <td>-0.062899</td>\n",
              "      <td>0.388459</td>\n",
              "      <td>-0.765014</td>\n",
              "      <td>0.771524</td>\n",
              "      <td>0.345205</td>\n",
              "      <td>-0.769186</td>\n",
              "      <td>-0.147944</td>\n",
              "      <td>LAYING</td>\n",
              "    </tr>\n",
              "    <tr>\n",
              "      <th>2</th>\n",
              "      <td>0.278709</td>\n",
              "      <td>-0.014511</td>\n",
              "      <td>-0.108717</td>\n",
              "      <td>-0.997720</td>\n",
              "      <td>-0.981088</td>\n",
              "      <td>-0.994008</td>\n",
              "      <td>-0.997934</td>\n",
              "      <td>-0.982187</td>\n",
              "      <td>-0.995017</td>\n",
              "      <td>-0.942584</td>\n",
              "      <td>...</td>\n",
              "      <td>-0.535287</td>\n",
              "      <td>-0.829311</td>\n",
              "      <td>0.000265</td>\n",
              "      <td>-0.525022</td>\n",
              "      <td>-0.891875</td>\n",
              "      <td>0.021528</td>\n",
              "      <td>-0.833564</td>\n",
              "      <td>0.202434</td>\n",
              "      <td>-0.032755</td>\n",
              "      <td>STANDING</td>\n",
              "    </tr>\n",
              "    <tr>\n",
              "      <th>3</th>\n",
              "      <td>0.289795</td>\n",
              "      <td>-0.035536</td>\n",
              "      <td>-0.150354</td>\n",
              "      <td>-0.231727</td>\n",
              "      <td>-0.006412</td>\n",
              "      <td>-0.338117</td>\n",
              "      <td>-0.273557</td>\n",
              "      <td>0.014245</td>\n",
              "      <td>-0.347916</td>\n",
              "      <td>0.008288</td>\n",
              "      <td>...</td>\n",
              "      <td>-0.004012</td>\n",
              "      <td>-0.408956</td>\n",
              "      <td>-0.255125</td>\n",
              "      <td>0.612804</td>\n",
              "      <td>0.747381</td>\n",
              "      <td>-0.072944</td>\n",
              "      <td>-0.695819</td>\n",
              "      <td>0.287154</td>\n",
              "      <td>0.111388</td>\n",
              "      <td>WALKING</td>\n",
              "    </tr>\n",
              "    <tr>\n",
              "      <th>4</th>\n",
              "      <td>0.394807</td>\n",
              "      <td>0.034098</td>\n",
              "      <td>0.091229</td>\n",
              "      <td>0.088489</td>\n",
              "      <td>-0.106636</td>\n",
              "      <td>-0.388502</td>\n",
              "      <td>-0.010469</td>\n",
              "      <td>-0.109680</td>\n",
              "      <td>-0.346372</td>\n",
              "      <td>0.584131</td>\n",
              "      <td>...</td>\n",
              "      <td>-0.157832</td>\n",
              "      <td>-0.563437</td>\n",
              "      <td>-0.044344</td>\n",
              "      <td>-0.845268</td>\n",
              "      <td>-0.974650</td>\n",
              "      <td>-0.887846</td>\n",
              "      <td>-0.705029</td>\n",
              "      <td>0.264952</td>\n",
              "      <td>0.137758</td>\n",
              "      <td>WALKING_DOWNSTAIRS</td>\n",
              "    </tr>\n",
              "  </tbody>\n",
              "</table>\n",
              "<p>5 rows × 562 columns</p>\n",
              "</div>\n",
              "    <div class=\"colab-df-buttons\">\n",
              "\n",
              "  <div class=\"colab-df-container\">\n",
              "    <button class=\"colab-df-convert\" onclick=\"convertToInteractive('df-b5a85b70-7e38-4759-aea9-249cb8736014')\"\n",
              "            title=\"Convert this dataframe to an interactive table.\"\n",
              "            style=\"display:none;\">\n",
              "\n",
              "  <svg xmlns=\"http://www.w3.org/2000/svg\" height=\"24px\" viewBox=\"0 -960 960 960\">\n",
              "    <path d=\"M120-120v-720h720v720H120Zm60-500h600v-160H180v160Zm220 220h160v-160H400v160Zm0 220h160v-160H400v160ZM180-400h160v-160H180v160Zm440 0h160v-160H620v160ZM180-180h160v-160H180v160Zm440 0h160v-160H620v160Z\"/>\n",
              "  </svg>\n",
              "    </button>\n",
              "\n",
              "  <style>\n",
              "    .colab-df-container {\n",
              "      display:flex;\n",
              "      gap: 12px;\n",
              "    }\n",
              "\n",
              "    .colab-df-convert {\n",
              "      background-color: #E8F0FE;\n",
              "      border: none;\n",
              "      border-radius: 50%;\n",
              "      cursor: pointer;\n",
              "      display: none;\n",
              "      fill: #1967D2;\n",
              "      height: 32px;\n",
              "      padding: 0 0 0 0;\n",
              "      width: 32px;\n",
              "    }\n",
              "\n",
              "    .colab-df-convert:hover {\n",
              "      background-color: #E2EBFA;\n",
              "      box-shadow: 0px 1px 2px rgba(60, 64, 67, 0.3), 0px 1px 3px 1px rgba(60, 64, 67, 0.15);\n",
              "      fill: #174EA6;\n",
              "    }\n",
              "\n",
              "    .colab-df-buttons div {\n",
              "      margin-bottom: 4px;\n",
              "    }\n",
              "\n",
              "    [theme=dark] .colab-df-convert {\n",
              "      background-color: #3B4455;\n",
              "      fill: #D2E3FC;\n",
              "    }\n",
              "\n",
              "    [theme=dark] .colab-df-convert:hover {\n",
              "      background-color: #434B5C;\n",
              "      box-shadow: 0px 1px 3px 1px rgba(0, 0, 0, 0.15);\n",
              "      filter: drop-shadow(0px 1px 2px rgba(0, 0, 0, 0.3));\n",
              "      fill: #FFFFFF;\n",
              "    }\n",
              "  </style>\n",
              "\n",
              "    <script>\n",
              "      const buttonEl =\n",
              "        document.querySelector('#df-b5a85b70-7e38-4759-aea9-249cb8736014 button.colab-df-convert');\n",
              "      buttonEl.style.display =\n",
              "        google.colab.kernel.accessAllowed ? 'block' : 'none';\n",
              "\n",
              "      async function convertToInteractive(key) {\n",
              "        const element = document.querySelector('#df-b5a85b70-7e38-4759-aea9-249cb8736014');\n",
              "        const dataTable =\n",
              "          await google.colab.kernel.invokeFunction('convertToInteractive',\n",
              "                                                    [key], {});\n",
              "        if (!dataTable) return;\n",
              "\n",
              "        const docLinkHtml = 'Like what you see? Visit the ' +\n",
              "          '<a target=\"_blank\" href=https://colab.research.google.com/notebooks/data_table.ipynb>data table notebook</a>'\n",
              "          + ' to learn more about interactive tables.';\n",
              "        element.innerHTML = '';\n",
              "        dataTable['output_type'] = 'display_data';\n",
              "        await google.colab.output.renderOutput(dataTable, element);\n",
              "        const docLink = document.createElement('div');\n",
              "        docLink.innerHTML = docLinkHtml;\n",
              "        element.appendChild(docLink);\n",
              "      }\n",
              "    </script>\n",
              "  </div>\n",
              "\n",
              "\n",
              "    <div id=\"df-62b5c295-8c9d-4a74-aa8d-672ed34de55d\">\n",
              "      <button class=\"colab-df-quickchart\" onclick=\"quickchart('df-62b5c295-8c9d-4a74-aa8d-672ed34de55d')\"\n",
              "                title=\"Suggest charts\"\n",
              "                style=\"display:none;\">\n",
              "\n",
              "<svg xmlns=\"http://www.w3.org/2000/svg\" height=\"24px\"viewBox=\"0 0 24 24\"\n",
              "     width=\"24px\">\n",
              "    <g>\n",
              "        <path d=\"M19 3H5c-1.1 0-2 .9-2 2v14c0 1.1.9 2 2 2h14c1.1 0 2-.9 2-2V5c0-1.1-.9-2-2-2zM9 17H7v-7h2v7zm4 0h-2V7h2v10zm4 0h-2v-4h2v4z\"/>\n",
              "    </g>\n",
              "</svg>\n",
              "      </button>\n",
              "\n",
              "<style>\n",
              "  .colab-df-quickchart {\n",
              "      --bg-color: #E8F0FE;\n",
              "      --fill-color: #1967D2;\n",
              "      --hover-bg-color: #E2EBFA;\n",
              "      --hover-fill-color: #174EA6;\n",
              "      --disabled-fill-color: #AAA;\n",
              "      --disabled-bg-color: #DDD;\n",
              "  }\n",
              "\n",
              "  [theme=dark] .colab-df-quickchart {\n",
              "      --bg-color: #3B4455;\n",
              "      --fill-color: #D2E3FC;\n",
              "      --hover-bg-color: #434B5C;\n",
              "      --hover-fill-color: #FFFFFF;\n",
              "      --disabled-bg-color: #3B4455;\n",
              "      --disabled-fill-color: #666;\n",
              "  }\n",
              "\n",
              "  .colab-df-quickchart {\n",
              "    background-color: var(--bg-color);\n",
              "    border: none;\n",
              "    border-radius: 50%;\n",
              "    cursor: pointer;\n",
              "    display: none;\n",
              "    fill: var(--fill-color);\n",
              "    height: 32px;\n",
              "    padding: 0;\n",
              "    width: 32px;\n",
              "  }\n",
              "\n",
              "  .colab-df-quickchart:hover {\n",
              "    background-color: var(--hover-bg-color);\n",
              "    box-shadow: 0 1px 2px rgba(60, 64, 67, 0.3), 0 1px 3px 1px rgba(60, 64, 67, 0.15);\n",
              "    fill: var(--button-hover-fill-color);\n",
              "  }\n",
              "\n",
              "  .colab-df-quickchart-complete:disabled,\n",
              "  .colab-df-quickchart-complete:disabled:hover {\n",
              "    background-color: var(--disabled-bg-color);\n",
              "    fill: var(--disabled-fill-color);\n",
              "    box-shadow: none;\n",
              "  }\n",
              "\n",
              "  .colab-df-spinner {\n",
              "    border: 2px solid var(--fill-color);\n",
              "    border-color: transparent;\n",
              "    border-bottom-color: var(--fill-color);\n",
              "    animation:\n",
              "      spin 1s steps(1) infinite;\n",
              "  }\n",
              "\n",
              "  @keyframes spin {\n",
              "    0% {\n",
              "      border-color: transparent;\n",
              "      border-bottom-color: var(--fill-color);\n",
              "      border-left-color: var(--fill-color);\n",
              "    }\n",
              "    20% {\n",
              "      border-color: transparent;\n",
              "      border-left-color: var(--fill-color);\n",
              "      border-top-color: var(--fill-color);\n",
              "    }\n",
              "    30% {\n",
              "      border-color: transparent;\n",
              "      border-left-color: var(--fill-color);\n",
              "      border-top-color: var(--fill-color);\n",
              "      border-right-color: var(--fill-color);\n",
              "    }\n",
              "    40% {\n",
              "      border-color: transparent;\n",
              "      border-right-color: var(--fill-color);\n",
              "      border-top-color: var(--fill-color);\n",
              "    }\n",
              "    60% {\n",
              "      border-color: transparent;\n",
              "      border-right-color: var(--fill-color);\n",
              "    }\n",
              "    80% {\n",
              "      border-color: transparent;\n",
              "      border-right-color: var(--fill-color);\n",
              "      border-bottom-color: var(--fill-color);\n",
              "    }\n",
              "    90% {\n",
              "      border-color: transparent;\n",
              "      border-bottom-color: var(--fill-color);\n",
              "    }\n",
              "  }\n",
              "</style>\n",
              "\n",
              "      <script>\n",
              "        async function quickchart(key) {\n",
              "          const quickchartButtonEl =\n",
              "            document.querySelector('#' + key + ' button');\n",
              "          quickchartButtonEl.disabled = true;  // To prevent multiple clicks.\n",
              "          quickchartButtonEl.classList.add('colab-df-spinner');\n",
              "          try {\n",
              "            const charts = await google.colab.kernel.invokeFunction(\n",
              "                'suggestCharts', [key], {});\n",
              "          } catch (error) {\n",
              "            console.error('Error during call to suggestCharts:', error);\n",
              "          }\n",
              "          quickchartButtonEl.classList.remove('colab-df-spinner');\n",
              "          quickchartButtonEl.classList.add('colab-df-quickchart-complete');\n",
              "        }\n",
              "        (() => {\n",
              "          let quickchartButtonEl =\n",
              "            document.querySelector('#df-62b5c295-8c9d-4a74-aa8d-672ed34de55d button');\n",
              "          quickchartButtonEl.style.display =\n",
              "            google.colab.kernel.accessAllowed ? 'block' : 'none';\n",
              "        })();\n",
              "      </script>\n",
              "    </div>\n",
              "\n",
              "    </div>\n",
              "  </div>\n"
            ],
            "application/vnd.google.colaboratory.intrinsic+json": {
              "type": "dataframe",
              "variable_name": "train"
            }
          },
          "metadata": {},
          "execution_count": 45
        }
      ],
      "source": [
        "for df in (train, test):\n",
        "  if 'subject' in df.columns:\n",
        "    df.drop(columns=['subject'], inplace=True)\n",
        "\n",
        "train.head()"
      ]
    },
    {
      "cell_type": "markdown",
      "metadata": {
        "id": "aI7qJqz3pr3m"
      },
      "source": [
        "#### 2) 기본 정보 조회"
      ]
    },
    {
      "cell_type": "code",
      "execution_count": null,
      "metadata": {
        "id": "yFVSAGNhpr3m",
        "colab": {
          "base_uri": "https://localhost:8080/"
        },
        "outputId": "8853dfa7-dfeb-4e22-ee76-a5c76f2af0f1"
      },
      "outputs": [
        {
          "output_type": "stream",
          "name": "stdout",
          "text": [
            "train 데이터의 shape: (5881, 562)\n",
            "test 데이터의 shape: (1471, 562)\n"
          ]
        }
      ],
      "source": [
        "#전체 데이터의 행,열 개수 확인\n",
        "print(\"train 데이터의 shape:\", train.shape)\n",
        "print(\"test 데이터의 shape:\", test.shape)"
      ]
    },
    {
      "cell_type": "code",
      "execution_count": null,
      "metadata": {
        "id": "xJnnr8K-pr3m",
        "colab": {
          "base_uri": "https://localhost:8080/",
          "height": 272
        },
        "outputId": "9bfb90ad-e207-4dfd-8622-2e8cd21fb887"
      },
      "outputs": [
        {
          "output_type": "execute_result",
          "data": {
            "text/plain": [
              "   tBodyAcc-mean()-X  tBodyAcc-mean()-Y  tBodyAcc-mean()-Z  tBodyAcc-std()-X  \\\n",
              "0           0.288508          -0.009196          -0.103362         -0.988986   \n",
              "1           0.265757          -0.016576          -0.098163         -0.989551   \n",
              "2           0.278709          -0.014511          -0.108717         -0.997720   \n",
              "3           0.289795          -0.035536          -0.150354         -0.231727   \n",
              "4           0.394807           0.034098           0.091229          0.088489   \n",
              "\n",
              "   tBodyAcc-std()-Y  tBodyAcc-std()-Z  tBodyAcc-mad()-X  tBodyAcc-mad()-Y  \\\n",
              "0         -0.962797         -0.967422         -0.989000         -0.962596   \n",
              "1         -0.994636         -0.987435         -0.990189         -0.993870   \n",
              "2         -0.981088         -0.994008         -0.997934         -0.982187   \n",
              "3         -0.006412         -0.338117         -0.273557          0.014245   \n",
              "4         -0.106636         -0.388502         -0.010469         -0.109680   \n",
              "\n",
              "   tBodyAcc-mad()-Z  tBodyAcc-max()-X  ...  fBodyBodyGyroJerkMag-skewness()  \\\n",
              "0         -0.965650         -0.929747  ...                        -0.487737   \n",
              "1         -0.987558         -0.937337  ...                        -0.237820   \n",
              "2         -0.995017         -0.942584  ...                        -0.535287   \n",
              "3         -0.347916          0.008288  ...                        -0.004012   \n",
              "4         -0.346372          0.584131  ...                        -0.157832   \n",
              "\n",
              "   fBodyBodyGyroJerkMag-kurtosis()  angle(tBodyAccMean,gravity)  \\\n",
              "0                        -0.816696                    -0.042494   \n",
              "1                        -0.693515                    -0.062899   \n",
              "2                        -0.829311                     0.000265   \n",
              "3                        -0.408956                    -0.255125   \n",
              "4                        -0.563437                    -0.044344   \n",
              "\n",
              "   angle(tBodyAccJerkMean),gravityMean)  angle(tBodyGyroMean,gravityMean)  \\\n",
              "0                             -0.044218                          0.307873   \n",
              "1                              0.388459                         -0.765014   \n",
              "2                             -0.525022                         -0.891875   \n",
              "3                              0.612804                          0.747381   \n",
              "4                             -0.845268                         -0.974650   \n",
              "\n",
              "   angle(tBodyGyroJerkMean,gravityMean)  angle(X,gravityMean)  \\\n",
              "0                              0.072790             -0.601120   \n",
              "1                              0.771524              0.345205   \n",
              "2                              0.021528             -0.833564   \n",
              "3                             -0.072944             -0.695819   \n",
              "4                             -0.887846             -0.705029   \n",
              "\n",
              "   angle(Y,gravityMean)  angle(Z,gravityMean)            Activity  \n",
              "0              0.331298              0.165163            STANDING  \n",
              "1             -0.769186             -0.147944              LAYING  \n",
              "2              0.202434             -0.032755            STANDING  \n",
              "3              0.287154              0.111388             WALKING  \n",
              "4              0.264952              0.137758  WALKING_DOWNSTAIRS  \n",
              "\n",
              "[5 rows x 562 columns]"
            ],
            "text/html": [
              "\n",
              "  <div id=\"df-7dd338db-e88e-4464-a9e0-36d28a472740\" class=\"colab-df-container\">\n",
              "    <div>\n",
              "<style scoped>\n",
              "    .dataframe tbody tr th:only-of-type {\n",
              "        vertical-align: middle;\n",
              "    }\n",
              "\n",
              "    .dataframe tbody tr th {\n",
              "        vertical-align: top;\n",
              "    }\n",
              "\n",
              "    .dataframe thead th {\n",
              "        text-align: right;\n",
              "    }\n",
              "</style>\n",
              "<table border=\"1\" class=\"dataframe\">\n",
              "  <thead>\n",
              "    <tr style=\"text-align: right;\">\n",
              "      <th></th>\n",
              "      <th>tBodyAcc-mean()-X</th>\n",
              "      <th>tBodyAcc-mean()-Y</th>\n",
              "      <th>tBodyAcc-mean()-Z</th>\n",
              "      <th>tBodyAcc-std()-X</th>\n",
              "      <th>tBodyAcc-std()-Y</th>\n",
              "      <th>tBodyAcc-std()-Z</th>\n",
              "      <th>tBodyAcc-mad()-X</th>\n",
              "      <th>tBodyAcc-mad()-Y</th>\n",
              "      <th>tBodyAcc-mad()-Z</th>\n",
              "      <th>tBodyAcc-max()-X</th>\n",
              "      <th>...</th>\n",
              "      <th>fBodyBodyGyroJerkMag-skewness()</th>\n",
              "      <th>fBodyBodyGyroJerkMag-kurtosis()</th>\n",
              "      <th>angle(tBodyAccMean,gravity)</th>\n",
              "      <th>angle(tBodyAccJerkMean),gravityMean)</th>\n",
              "      <th>angle(tBodyGyroMean,gravityMean)</th>\n",
              "      <th>angle(tBodyGyroJerkMean,gravityMean)</th>\n",
              "      <th>angle(X,gravityMean)</th>\n",
              "      <th>angle(Y,gravityMean)</th>\n",
              "      <th>angle(Z,gravityMean)</th>\n",
              "      <th>Activity</th>\n",
              "    </tr>\n",
              "  </thead>\n",
              "  <tbody>\n",
              "    <tr>\n",
              "      <th>0</th>\n",
              "      <td>0.288508</td>\n",
              "      <td>-0.009196</td>\n",
              "      <td>-0.103362</td>\n",
              "      <td>-0.988986</td>\n",
              "      <td>-0.962797</td>\n",
              "      <td>-0.967422</td>\n",
              "      <td>-0.989000</td>\n",
              "      <td>-0.962596</td>\n",
              "      <td>-0.965650</td>\n",
              "      <td>-0.929747</td>\n",
              "      <td>...</td>\n",
              "      <td>-0.487737</td>\n",
              "      <td>-0.816696</td>\n",
              "      <td>-0.042494</td>\n",
              "      <td>-0.044218</td>\n",
              "      <td>0.307873</td>\n",
              "      <td>0.072790</td>\n",
              "      <td>-0.601120</td>\n",
              "      <td>0.331298</td>\n",
              "      <td>0.165163</td>\n",
              "      <td>STANDING</td>\n",
              "    </tr>\n",
              "    <tr>\n",
              "      <th>1</th>\n",
              "      <td>0.265757</td>\n",
              "      <td>-0.016576</td>\n",
              "      <td>-0.098163</td>\n",
              "      <td>-0.989551</td>\n",
              "      <td>-0.994636</td>\n",
              "      <td>-0.987435</td>\n",
              "      <td>-0.990189</td>\n",
              "      <td>-0.993870</td>\n",
              "      <td>-0.987558</td>\n",
              "      <td>-0.937337</td>\n",
              "      <td>...</td>\n",
              "      <td>-0.237820</td>\n",
              "      <td>-0.693515</td>\n",
              "      <td>-0.062899</td>\n",
              "      <td>0.388459</td>\n",
              "      <td>-0.765014</td>\n",
              "      <td>0.771524</td>\n",
              "      <td>0.345205</td>\n",
              "      <td>-0.769186</td>\n",
              "      <td>-0.147944</td>\n",
              "      <td>LAYING</td>\n",
              "    </tr>\n",
              "    <tr>\n",
              "      <th>2</th>\n",
              "      <td>0.278709</td>\n",
              "      <td>-0.014511</td>\n",
              "      <td>-0.108717</td>\n",
              "      <td>-0.997720</td>\n",
              "      <td>-0.981088</td>\n",
              "      <td>-0.994008</td>\n",
              "      <td>-0.997934</td>\n",
              "      <td>-0.982187</td>\n",
              "      <td>-0.995017</td>\n",
              "      <td>-0.942584</td>\n",
              "      <td>...</td>\n",
              "      <td>-0.535287</td>\n",
              "      <td>-0.829311</td>\n",
              "      <td>0.000265</td>\n",
              "      <td>-0.525022</td>\n",
              "      <td>-0.891875</td>\n",
              "      <td>0.021528</td>\n",
              "      <td>-0.833564</td>\n",
              "      <td>0.202434</td>\n",
              "      <td>-0.032755</td>\n",
              "      <td>STANDING</td>\n",
              "    </tr>\n",
              "    <tr>\n",
              "      <th>3</th>\n",
              "      <td>0.289795</td>\n",
              "      <td>-0.035536</td>\n",
              "      <td>-0.150354</td>\n",
              "      <td>-0.231727</td>\n",
              "      <td>-0.006412</td>\n",
              "      <td>-0.338117</td>\n",
              "      <td>-0.273557</td>\n",
              "      <td>0.014245</td>\n",
              "      <td>-0.347916</td>\n",
              "      <td>0.008288</td>\n",
              "      <td>...</td>\n",
              "      <td>-0.004012</td>\n",
              "      <td>-0.408956</td>\n",
              "      <td>-0.255125</td>\n",
              "      <td>0.612804</td>\n",
              "      <td>0.747381</td>\n",
              "      <td>-0.072944</td>\n",
              "      <td>-0.695819</td>\n",
              "      <td>0.287154</td>\n",
              "      <td>0.111388</td>\n",
              "      <td>WALKING</td>\n",
              "    </tr>\n",
              "    <tr>\n",
              "      <th>4</th>\n",
              "      <td>0.394807</td>\n",
              "      <td>0.034098</td>\n",
              "      <td>0.091229</td>\n",
              "      <td>0.088489</td>\n",
              "      <td>-0.106636</td>\n",
              "      <td>-0.388502</td>\n",
              "      <td>-0.010469</td>\n",
              "      <td>-0.109680</td>\n",
              "      <td>-0.346372</td>\n",
              "      <td>0.584131</td>\n",
              "      <td>...</td>\n",
              "      <td>-0.157832</td>\n",
              "      <td>-0.563437</td>\n",
              "      <td>-0.044344</td>\n",
              "      <td>-0.845268</td>\n",
              "      <td>-0.974650</td>\n",
              "      <td>-0.887846</td>\n",
              "      <td>-0.705029</td>\n",
              "      <td>0.264952</td>\n",
              "      <td>0.137758</td>\n",
              "      <td>WALKING_DOWNSTAIRS</td>\n",
              "    </tr>\n",
              "  </tbody>\n",
              "</table>\n",
              "<p>5 rows × 562 columns</p>\n",
              "</div>\n",
              "    <div class=\"colab-df-buttons\">\n",
              "\n",
              "  <div class=\"colab-df-container\">\n",
              "    <button class=\"colab-df-convert\" onclick=\"convertToInteractive('df-7dd338db-e88e-4464-a9e0-36d28a472740')\"\n",
              "            title=\"Convert this dataframe to an interactive table.\"\n",
              "            style=\"display:none;\">\n",
              "\n",
              "  <svg xmlns=\"http://www.w3.org/2000/svg\" height=\"24px\" viewBox=\"0 -960 960 960\">\n",
              "    <path d=\"M120-120v-720h720v720H120Zm60-500h600v-160H180v160Zm220 220h160v-160H400v160Zm0 220h160v-160H400v160ZM180-400h160v-160H180v160Zm440 0h160v-160H620v160ZM180-180h160v-160H180v160Zm440 0h160v-160H620v160Z\"/>\n",
              "  </svg>\n",
              "    </button>\n",
              "\n",
              "  <style>\n",
              "    .colab-df-container {\n",
              "      display:flex;\n",
              "      gap: 12px;\n",
              "    }\n",
              "\n",
              "    .colab-df-convert {\n",
              "      background-color: #E8F0FE;\n",
              "      border: none;\n",
              "      border-radius: 50%;\n",
              "      cursor: pointer;\n",
              "      display: none;\n",
              "      fill: #1967D2;\n",
              "      height: 32px;\n",
              "      padding: 0 0 0 0;\n",
              "      width: 32px;\n",
              "    }\n",
              "\n",
              "    .colab-df-convert:hover {\n",
              "      background-color: #E2EBFA;\n",
              "      box-shadow: 0px 1px 2px rgba(60, 64, 67, 0.3), 0px 1px 3px 1px rgba(60, 64, 67, 0.15);\n",
              "      fill: #174EA6;\n",
              "    }\n",
              "\n",
              "    .colab-df-buttons div {\n",
              "      margin-bottom: 4px;\n",
              "    }\n",
              "\n",
              "    [theme=dark] .colab-df-convert {\n",
              "      background-color: #3B4455;\n",
              "      fill: #D2E3FC;\n",
              "    }\n",
              "\n",
              "    [theme=dark] .colab-df-convert:hover {\n",
              "      background-color: #434B5C;\n",
              "      box-shadow: 0px 1px 3px 1px rgba(0, 0, 0, 0.15);\n",
              "      filter: drop-shadow(0px 1px 2px rgba(0, 0, 0, 0.3));\n",
              "      fill: #FFFFFF;\n",
              "    }\n",
              "  </style>\n",
              "\n",
              "    <script>\n",
              "      const buttonEl =\n",
              "        document.querySelector('#df-7dd338db-e88e-4464-a9e0-36d28a472740 button.colab-df-convert');\n",
              "      buttonEl.style.display =\n",
              "        google.colab.kernel.accessAllowed ? 'block' : 'none';\n",
              "\n",
              "      async function convertToInteractive(key) {\n",
              "        const element = document.querySelector('#df-7dd338db-e88e-4464-a9e0-36d28a472740');\n",
              "        const dataTable =\n",
              "          await google.colab.kernel.invokeFunction('convertToInteractive',\n",
              "                                                    [key], {});\n",
              "        if (!dataTable) return;\n",
              "\n",
              "        const docLinkHtml = 'Like what you see? Visit the ' +\n",
              "          '<a target=\"_blank\" href=https://colab.research.google.com/notebooks/data_table.ipynb>data table notebook</a>'\n",
              "          + ' to learn more about interactive tables.';\n",
              "        element.innerHTML = '';\n",
              "        dataTable['output_type'] = 'display_data';\n",
              "        await google.colab.output.renderOutput(dataTable, element);\n",
              "        const docLink = document.createElement('div');\n",
              "        docLink.innerHTML = docLinkHtml;\n",
              "        element.appendChild(docLink);\n",
              "      }\n",
              "    </script>\n",
              "  </div>\n",
              "\n",
              "\n",
              "    <div id=\"df-830f713a-b442-46e1-956a-e27bcd3c52b3\">\n",
              "      <button class=\"colab-df-quickchart\" onclick=\"quickchart('df-830f713a-b442-46e1-956a-e27bcd3c52b3')\"\n",
              "                title=\"Suggest charts\"\n",
              "                style=\"display:none;\">\n",
              "\n",
              "<svg xmlns=\"http://www.w3.org/2000/svg\" height=\"24px\"viewBox=\"0 0 24 24\"\n",
              "     width=\"24px\">\n",
              "    <g>\n",
              "        <path d=\"M19 3H5c-1.1 0-2 .9-2 2v14c0 1.1.9 2 2 2h14c1.1 0 2-.9 2-2V5c0-1.1-.9-2-2-2zM9 17H7v-7h2v7zm4 0h-2V7h2v10zm4 0h-2v-4h2v4z\"/>\n",
              "    </g>\n",
              "</svg>\n",
              "      </button>\n",
              "\n",
              "<style>\n",
              "  .colab-df-quickchart {\n",
              "      --bg-color: #E8F0FE;\n",
              "      --fill-color: #1967D2;\n",
              "      --hover-bg-color: #E2EBFA;\n",
              "      --hover-fill-color: #174EA6;\n",
              "      --disabled-fill-color: #AAA;\n",
              "      --disabled-bg-color: #DDD;\n",
              "  }\n",
              "\n",
              "  [theme=dark] .colab-df-quickchart {\n",
              "      --bg-color: #3B4455;\n",
              "      --fill-color: #D2E3FC;\n",
              "      --hover-bg-color: #434B5C;\n",
              "      --hover-fill-color: #FFFFFF;\n",
              "      --disabled-bg-color: #3B4455;\n",
              "      --disabled-fill-color: #666;\n",
              "  }\n",
              "\n",
              "  .colab-df-quickchart {\n",
              "    background-color: var(--bg-color);\n",
              "    border: none;\n",
              "    border-radius: 50%;\n",
              "    cursor: pointer;\n",
              "    display: none;\n",
              "    fill: var(--fill-color);\n",
              "    height: 32px;\n",
              "    padding: 0;\n",
              "    width: 32px;\n",
              "  }\n",
              "\n",
              "  .colab-df-quickchart:hover {\n",
              "    background-color: var(--hover-bg-color);\n",
              "    box-shadow: 0 1px 2px rgba(60, 64, 67, 0.3), 0 1px 3px 1px rgba(60, 64, 67, 0.15);\n",
              "    fill: var(--button-hover-fill-color);\n",
              "  }\n",
              "\n",
              "  .colab-df-quickchart-complete:disabled,\n",
              "  .colab-df-quickchart-complete:disabled:hover {\n",
              "    background-color: var(--disabled-bg-color);\n",
              "    fill: var(--disabled-fill-color);\n",
              "    box-shadow: none;\n",
              "  }\n",
              "\n",
              "  .colab-df-spinner {\n",
              "    border: 2px solid var(--fill-color);\n",
              "    border-color: transparent;\n",
              "    border-bottom-color: var(--fill-color);\n",
              "    animation:\n",
              "      spin 1s steps(1) infinite;\n",
              "  }\n",
              "\n",
              "  @keyframes spin {\n",
              "    0% {\n",
              "      border-color: transparent;\n",
              "      border-bottom-color: var(--fill-color);\n",
              "      border-left-color: var(--fill-color);\n",
              "    }\n",
              "    20% {\n",
              "      border-color: transparent;\n",
              "      border-left-color: var(--fill-color);\n",
              "      border-top-color: var(--fill-color);\n",
              "    }\n",
              "    30% {\n",
              "      border-color: transparent;\n",
              "      border-left-color: var(--fill-color);\n",
              "      border-top-color: var(--fill-color);\n",
              "      border-right-color: var(--fill-color);\n",
              "    }\n",
              "    40% {\n",
              "      border-color: transparent;\n",
              "      border-right-color: var(--fill-color);\n",
              "      border-top-color: var(--fill-color);\n",
              "    }\n",
              "    60% {\n",
              "      border-color: transparent;\n",
              "      border-right-color: var(--fill-color);\n",
              "    }\n",
              "    80% {\n",
              "      border-color: transparent;\n",
              "      border-right-color: var(--fill-color);\n",
              "      border-bottom-color: var(--fill-color);\n",
              "    }\n",
              "    90% {\n",
              "      border-color: transparent;\n",
              "      border-bottom-color: var(--fill-color);\n",
              "    }\n",
              "  }\n",
              "</style>\n",
              "\n",
              "      <script>\n",
              "        async function quickchart(key) {\n",
              "          const quickchartButtonEl =\n",
              "            document.querySelector('#' + key + ' button');\n",
              "          quickchartButtonEl.disabled = true;  // To prevent multiple clicks.\n",
              "          quickchartButtonEl.classList.add('colab-df-spinner');\n",
              "          try {\n",
              "            const charts = await google.colab.kernel.invokeFunction(\n",
              "                'suggestCharts', [key], {});\n",
              "          } catch (error) {\n",
              "            console.error('Error during call to suggestCharts:', error);\n",
              "          }\n",
              "          quickchartButtonEl.classList.remove('colab-df-spinner');\n",
              "          quickchartButtonEl.classList.add('colab-df-quickchart-complete');\n",
              "        }\n",
              "        (() => {\n",
              "          let quickchartButtonEl =\n",
              "            document.querySelector('#df-830f713a-b442-46e1-956a-e27bcd3c52b3 button');\n",
              "          quickchartButtonEl.style.display =\n",
              "            google.colab.kernel.accessAllowed ? 'block' : 'none';\n",
              "        })();\n",
              "      </script>\n",
              "    </div>\n",
              "\n",
              "    </div>\n",
              "  </div>\n"
            ],
            "application/vnd.google.colaboratory.intrinsic+json": {
              "type": "dataframe",
              "variable_name": "train"
            }
          },
          "metadata": {},
          "execution_count": 47
        }
      ],
      "source": [
        "#전체 데이터의 상위 5개 행 확인\n",
        "train.head()"
      ]
    },
    {
      "cell_type": "code",
      "execution_count": null,
      "metadata": {
        "id": "ajJ1qJkhpr3n",
        "colab": {
          "base_uri": "https://localhost:8080/",
          "height": 367
        },
        "outputId": "5728026d-9a9a-4039-af40-056773b1e836"
      },
      "outputs": [
        {
          "output_type": "execute_result",
          "data": {
            "text/plain": [
              "       tBodyAcc-mean()-X  tBodyAcc-mean()-Y  tBodyAcc-mean()-Z  \\\n",
              "count        5881.000000        5881.000000        5881.000000   \n",
              "mean            0.274811          -0.017799          -0.109396   \n",
              "std             0.067614           0.039422           0.058373   \n",
              "min            -0.503823          -0.684893          -1.000000   \n",
              "25%             0.262919          -0.024877          -0.121051   \n",
              "50%             0.277154          -0.017221          -0.108781   \n",
              "75%             0.288526          -0.010920          -0.098163   \n",
              "max             1.000000           1.000000           1.000000   \n",
              "\n",
              "       tBodyAcc-std()-X  tBodyAcc-std()-Y  tBodyAcc-std()-Z  tBodyAcc-mad()-X  \\\n",
              "count       5881.000000       5881.000000       5881.000000       5881.000000   \n",
              "mean          -0.603138         -0.509815         -0.604058         -0.628151   \n",
              "std            0.448807          0.501815          0.417319          0.424345   \n",
              "min           -1.000000         -0.999844         -0.999667         -1.000000   \n",
              "25%           -0.992774         -0.977680         -0.980127         -0.993602   \n",
              "50%           -0.943933         -0.844575         -0.856352         -0.948501   \n",
              "75%           -0.242130         -0.034499         -0.262690         -0.291138   \n",
              "max            1.000000          0.916238          1.000000          1.000000   \n",
              "\n",
              "       tBodyAcc-mad()-Y  tBodyAcc-mad()-Z  tBodyAcc-max()-X  ...  \\\n",
              "count       5881.000000       5881.000000       5881.000000  ...   \n",
              "mean          -0.525944         -0.605374         -0.465490  ...   \n",
              "std            0.485115          0.413043          0.544995  ...   \n",
              "min           -0.999419         -1.000000         -1.000000  ...   \n",
              "25%           -0.977865         -0.980112         -0.936067  ...   \n",
              "50%           -0.849266         -0.849896         -0.878729  ...   \n",
              "75%           -0.068857         -0.268539         -0.013690  ...   \n",
              "max            0.967664          1.000000          1.000000  ...   \n",
              "\n",
              "       fBodyBodyGyroJerkMag-meanFreq()  fBodyBodyGyroJerkMag-skewness()  \\\n",
              "count                      5881.000000                      5881.000000   \n",
              "mean                          0.126955                        -0.305883   \n",
              "std                           0.249176                         0.322808   \n",
              "min                          -0.965725                        -0.979261   \n",
              "25%                          -0.021610                        -0.541969   \n",
              "50%                           0.133887                        -0.342923   \n",
              "75%                           0.288944                        -0.127371   \n",
              "max                           0.946700                         0.989538   \n",
              "\n",
              "       fBodyBodyGyroJerkMag-kurtosis()  angle(tBodyAccMean,gravity)  \\\n",
              "count                      5881.000000                  5881.000000   \n",
              "mean                         -0.623548                     0.008524   \n",
              "std                           0.310371                     0.339730   \n",
              "min                          -0.999765                    -0.976580   \n",
              "25%                          -0.845985                    -0.122361   \n",
              "50%                          -0.712677                     0.010278   \n",
              "75%                          -0.501158                     0.154985   \n",
              "max                           0.956845                     1.000000   \n",
              "\n",
              "       angle(tBodyAccJerkMean),gravityMean)  angle(tBodyGyroMean,gravityMean)  \\\n",
              "count                           5881.000000                       5881.000000   \n",
              "mean                              -0.001185                          0.009340   \n",
              "std                                0.447197                          0.608190   \n",
              "min                               -1.000000                         -1.000000   \n",
              "25%                               -0.294369                         -0.481718   \n",
              "50%                                0.005146                          0.011448   \n",
              "75%                                0.285030                          0.499857   \n",
              "max                                1.000000                          0.998702   \n",
              "\n",
              "       angle(tBodyGyroJerkMean,gravityMean)  angle(X,gravityMean)  \\\n",
              "count                           5881.000000           5881.000000   \n",
              "mean                              -0.007099             -0.491501   \n",
              "std                                0.476738              0.509069   \n",
              "min                               -1.000000             -1.000000   \n",
              "25%                               -0.373345             -0.811397   \n",
              "50%                               -0.000847             -0.709441   \n",
              "75%                                0.356236             -0.511330   \n",
              "max                                0.996078              0.977344   \n",
              "\n",
              "       angle(Y,gravityMean)  angle(Z,gravityMean)  \n",
              "count           5881.000000           5881.000000  \n",
              "mean               0.059299             -0.054594  \n",
              "std                0.297340              0.278479  \n",
              "min               -1.000000             -0.980143  \n",
              "25%               -0.018203             -0.141555  \n",
              "50%                0.182893              0.003951  \n",
              "75%                0.248435              0.111932  \n",
              "max                0.478157              1.000000  \n",
              "\n",
              "[8 rows x 561 columns]"
            ],
            "text/html": [
              "\n",
              "  <div id=\"df-c0f2f6ca-6787-4fe5-8af9-d92f48a36fc1\" class=\"colab-df-container\">\n",
              "    <div>\n",
              "<style scoped>\n",
              "    .dataframe tbody tr th:only-of-type {\n",
              "        vertical-align: middle;\n",
              "    }\n",
              "\n",
              "    .dataframe tbody tr th {\n",
              "        vertical-align: top;\n",
              "    }\n",
              "\n",
              "    .dataframe thead th {\n",
              "        text-align: right;\n",
              "    }\n",
              "</style>\n",
              "<table border=\"1\" class=\"dataframe\">\n",
              "  <thead>\n",
              "    <tr style=\"text-align: right;\">\n",
              "      <th></th>\n",
              "      <th>tBodyAcc-mean()-X</th>\n",
              "      <th>tBodyAcc-mean()-Y</th>\n",
              "      <th>tBodyAcc-mean()-Z</th>\n",
              "      <th>tBodyAcc-std()-X</th>\n",
              "      <th>tBodyAcc-std()-Y</th>\n",
              "      <th>tBodyAcc-std()-Z</th>\n",
              "      <th>tBodyAcc-mad()-X</th>\n",
              "      <th>tBodyAcc-mad()-Y</th>\n",
              "      <th>tBodyAcc-mad()-Z</th>\n",
              "      <th>tBodyAcc-max()-X</th>\n",
              "      <th>...</th>\n",
              "      <th>fBodyBodyGyroJerkMag-meanFreq()</th>\n",
              "      <th>fBodyBodyGyroJerkMag-skewness()</th>\n",
              "      <th>fBodyBodyGyroJerkMag-kurtosis()</th>\n",
              "      <th>angle(tBodyAccMean,gravity)</th>\n",
              "      <th>angle(tBodyAccJerkMean),gravityMean)</th>\n",
              "      <th>angle(tBodyGyroMean,gravityMean)</th>\n",
              "      <th>angle(tBodyGyroJerkMean,gravityMean)</th>\n",
              "      <th>angle(X,gravityMean)</th>\n",
              "      <th>angle(Y,gravityMean)</th>\n",
              "      <th>angle(Z,gravityMean)</th>\n",
              "    </tr>\n",
              "  </thead>\n",
              "  <tbody>\n",
              "    <tr>\n",
              "      <th>count</th>\n",
              "      <td>5881.000000</td>\n",
              "      <td>5881.000000</td>\n",
              "      <td>5881.000000</td>\n",
              "      <td>5881.000000</td>\n",
              "      <td>5881.000000</td>\n",
              "      <td>5881.000000</td>\n",
              "      <td>5881.000000</td>\n",
              "      <td>5881.000000</td>\n",
              "      <td>5881.000000</td>\n",
              "      <td>5881.000000</td>\n",
              "      <td>...</td>\n",
              "      <td>5881.000000</td>\n",
              "      <td>5881.000000</td>\n",
              "      <td>5881.000000</td>\n",
              "      <td>5881.000000</td>\n",
              "      <td>5881.000000</td>\n",
              "      <td>5881.000000</td>\n",
              "      <td>5881.000000</td>\n",
              "      <td>5881.000000</td>\n",
              "      <td>5881.000000</td>\n",
              "      <td>5881.000000</td>\n",
              "    </tr>\n",
              "    <tr>\n",
              "      <th>mean</th>\n",
              "      <td>0.274811</td>\n",
              "      <td>-0.017799</td>\n",
              "      <td>-0.109396</td>\n",
              "      <td>-0.603138</td>\n",
              "      <td>-0.509815</td>\n",
              "      <td>-0.604058</td>\n",
              "      <td>-0.628151</td>\n",
              "      <td>-0.525944</td>\n",
              "      <td>-0.605374</td>\n",
              "      <td>-0.465490</td>\n",
              "      <td>...</td>\n",
              "      <td>0.126955</td>\n",
              "      <td>-0.305883</td>\n",
              "      <td>-0.623548</td>\n",
              "      <td>0.008524</td>\n",
              "      <td>-0.001185</td>\n",
              "      <td>0.009340</td>\n",
              "      <td>-0.007099</td>\n",
              "      <td>-0.491501</td>\n",
              "      <td>0.059299</td>\n",
              "      <td>-0.054594</td>\n",
              "    </tr>\n",
              "    <tr>\n",
              "      <th>std</th>\n",
              "      <td>0.067614</td>\n",
              "      <td>0.039422</td>\n",
              "      <td>0.058373</td>\n",
              "      <td>0.448807</td>\n",
              "      <td>0.501815</td>\n",
              "      <td>0.417319</td>\n",
              "      <td>0.424345</td>\n",
              "      <td>0.485115</td>\n",
              "      <td>0.413043</td>\n",
              "      <td>0.544995</td>\n",
              "      <td>...</td>\n",
              "      <td>0.249176</td>\n",
              "      <td>0.322808</td>\n",
              "      <td>0.310371</td>\n",
              "      <td>0.339730</td>\n",
              "      <td>0.447197</td>\n",
              "      <td>0.608190</td>\n",
              "      <td>0.476738</td>\n",
              "      <td>0.509069</td>\n",
              "      <td>0.297340</td>\n",
              "      <td>0.278479</td>\n",
              "    </tr>\n",
              "    <tr>\n",
              "      <th>min</th>\n",
              "      <td>-0.503823</td>\n",
              "      <td>-0.684893</td>\n",
              "      <td>-1.000000</td>\n",
              "      <td>-1.000000</td>\n",
              "      <td>-0.999844</td>\n",
              "      <td>-0.999667</td>\n",
              "      <td>-1.000000</td>\n",
              "      <td>-0.999419</td>\n",
              "      <td>-1.000000</td>\n",
              "      <td>-1.000000</td>\n",
              "      <td>...</td>\n",
              "      <td>-0.965725</td>\n",
              "      <td>-0.979261</td>\n",
              "      <td>-0.999765</td>\n",
              "      <td>-0.976580</td>\n",
              "      <td>-1.000000</td>\n",
              "      <td>-1.000000</td>\n",
              "      <td>-1.000000</td>\n",
              "      <td>-1.000000</td>\n",
              "      <td>-1.000000</td>\n",
              "      <td>-0.980143</td>\n",
              "    </tr>\n",
              "    <tr>\n",
              "      <th>25%</th>\n",
              "      <td>0.262919</td>\n",
              "      <td>-0.024877</td>\n",
              "      <td>-0.121051</td>\n",
              "      <td>-0.992774</td>\n",
              "      <td>-0.977680</td>\n",
              "      <td>-0.980127</td>\n",
              "      <td>-0.993602</td>\n",
              "      <td>-0.977865</td>\n",
              "      <td>-0.980112</td>\n",
              "      <td>-0.936067</td>\n",
              "      <td>...</td>\n",
              "      <td>-0.021610</td>\n",
              "      <td>-0.541969</td>\n",
              "      <td>-0.845985</td>\n",
              "      <td>-0.122361</td>\n",
              "      <td>-0.294369</td>\n",
              "      <td>-0.481718</td>\n",
              "      <td>-0.373345</td>\n",
              "      <td>-0.811397</td>\n",
              "      <td>-0.018203</td>\n",
              "      <td>-0.141555</td>\n",
              "    </tr>\n",
              "    <tr>\n",
              "      <th>50%</th>\n",
              "      <td>0.277154</td>\n",
              "      <td>-0.017221</td>\n",
              "      <td>-0.108781</td>\n",
              "      <td>-0.943933</td>\n",
              "      <td>-0.844575</td>\n",
              "      <td>-0.856352</td>\n",
              "      <td>-0.948501</td>\n",
              "      <td>-0.849266</td>\n",
              "      <td>-0.849896</td>\n",
              "      <td>-0.878729</td>\n",
              "      <td>...</td>\n",
              "      <td>0.133887</td>\n",
              "      <td>-0.342923</td>\n",
              "      <td>-0.712677</td>\n",
              "      <td>0.010278</td>\n",
              "      <td>0.005146</td>\n",
              "      <td>0.011448</td>\n",
              "      <td>-0.000847</td>\n",
              "      <td>-0.709441</td>\n",
              "      <td>0.182893</td>\n",
              "      <td>0.003951</td>\n",
              "    </tr>\n",
              "    <tr>\n",
              "      <th>75%</th>\n",
              "      <td>0.288526</td>\n",
              "      <td>-0.010920</td>\n",
              "      <td>-0.098163</td>\n",
              "      <td>-0.242130</td>\n",
              "      <td>-0.034499</td>\n",
              "      <td>-0.262690</td>\n",
              "      <td>-0.291138</td>\n",
              "      <td>-0.068857</td>\n",
              "      <td>-0.268539</td>\n",
              "      <td>-0.013690</td>\n",
              "      <td>...</td>\n",
              "      <td>0.288944</td>\n",
              "      <td>-0.127371</td>\n",
              "      <td>-0.501158</td>\n",
              "      <td>0.154985</td>\n",
              "      <td>0.285030</td>\n",
              "      <td>0.499857</td>\n",
              "      <td>0.356236</td>\n",
              "      <td>-0.511330</td>\n",
              "      <td>0.248435</td>\n",
              "      <td>0.111932</td>\n",
              "    </tr>\n",
              "    <tr>\n",
              "      <th>max</th>\n",
              "      <td>1.000000</td>\n",
              "      <td>1.000000</td>\n",
              "      <td>1.000000</td>\n",
              "      <td>1.000000</td>\n",
              "      <td>0.916238</td>\n",
              "      <td>1.000000</td>\n",
              "      <td>1.000000</td>\n",
              "      <td>0.967664</td>\n",
              "      <td>1.000000</td>\n",
              "      <td>1.000000</td>\n",
              "      <td>...</td>\n",
              "      <td>0.946700</td>\n",
              "      <td>0.989538</td>\n",
              "      <td>0.956845</td>\n",
              "      <td>1.000000</td>\n",
              "      <td>1.000000</td>\n",
              "      <td>0.998702</td>\n",
              "      <td>0.996078</td>\n",
              "      <td>0.977344</td>\n",
              "      <td>0.478157</td>\n",
              "      <td>1.000000</td>\n",
              "    </tr>\n",
              "  </tbody>\n",
              "</table>\n",
              "<p>8 rows × 561 columns</p>\n",
              "</div>\n",
              "    <div class=\"colab-df-buttons\">\n",
              "\n",
              "  <div class=\"colab-df-container\">\n",
              "    <button class=\"colab-df-convert\" onclick=\"convertToInteractive('df-c0f2f6ca-6787-4fe5-8af9-d92f48a36fc1')\"\n",
              "            title=\"Convert this dataframe to an interactive table.\"\n",
              "            style=\"display:none;\">\n",
              "\n",
              "  <svg xmlns=\"http://www.w3.org/2000/svg\" height=\"24px\" viewBox=\"0 -960 960 960\">\n",
              "    <path d=\"M120-120v-720h720v720H120Zm60-500h600v-160H180v160Zm220 220h160v-160H400v160Zm0 220h160v-160H400v160ZM180-400h160v-160H180v160Zm440 0h160v-160H620v160ZM180-180h160v-160H180v160Zm440 0h160v-160H620v160Z\"/>\n",
              "  </svg>\n",
              "    </button>\n",
              "\n",
              "  <style>\n",
              "    .colab-df-container {\n",
              "      display:flex;\n",
              "      gap: 12px;\n",
              "    }\n",
              "\n",
              "    .colab-df-convert {\n",
              "      background-color: #E8F0FE;\n",
              "      border: none;\n",
              "      border-radius: 50%;\n",
              "      cursor: pointer;\n",
              "      display: none;\n",
              "      fill: #1967D2;\n",
              "      height: 32px;\n",
              "      padding: 0 0 0 0;\n",
              "      width: 32px;\n",
              "    }\n",
              "\n",
              "    .colab-df-convert:hover {\n",
              "      background-color: #E2EBFA;\n",
              "      box-shadow: 0px 1px 2px rgba(60, 64, 67, 0.3), 0px 1px 3px 1px rgba(60, 64, 67, 0.15);\n",
              "      fill: #174EA6;\n",
              "    }\n",
              "\n",
              "    .colab-df-buttons div {\n",
              "      margin-bottom: 4px;\n",
              "    }\n",
              "\n",
              "    [theme=dark] .colab-df-convert {\n",
              "      background-color: #3B4455;\n",
              "      fill: #D2E3FC;\n",
              "    }\n",
              "\n",
              "    [theme=dark] .colab-df-convert:hover {\n",
              "      background-color: #434B5C;\n",
              "      box-shadow: 0px 1px 3px 1px rgba(0, 0, 0, 0.15);\n",
              "      filter: drop-shadow(0px 1px 2px rgba(0, 0, 0, 0.3));\n",
              "      fill: #FFFFFF;\n",
              "    }\n",
              "  </style>\n",
              "\n",
              "    <script>\n",
              "      const buttonEl =\n",
              "        document.querySelector('#df-c0f2f6ca-6787-4fe5-8af9-d92f48a36fc1 button.colab-df-convert');\n",
              "      buttonEl.style.display =\n",
              "        google.colab.kernel.accessAllowed ? 'block' : 'none';\n",
              "\n",
              "      async function convertToInteractive(key) {\n",
              "        const element = document.querySelector('#df-c0f2f6ca-6787-4fe5-8af9-d92f48a36fc1');\n",
              "        const dataTable =\n",
              "          await google.colab.kernel.invokeFunction('convertToInteractive',\n",
              "                                                    [key], {});\n",
              "        if (!dataTable) return;\n",
              "\n",
              "        const docLinkHtml = 'Like what you see? Visit the ' +\n",
              "          '<a target=\"_blank\" href=https://colab.research.google.com/notebooks/data_table.ipynb>data table notebook</a>'\n",
              "          + ' to learn more about interactive tables.';\n",
              "        element.innerHTML = '';\n",
              "        dataTable['output_type'] = 'display_data';\n",
              "        await google.colab.output.renderOutput(dataTable, element);\n",
              "        const docLink = document.createElement('div');\n",
              "        docLink.innerHTML = docLinkHtml;\n",
              "        element.appendChild(docLink);\n",
              "      }\n",
              "    </script>\n",
              "  </div>\n",
              "\n",
              "\n",
              "    <div id=\"df-65382aff-b017-4c85-ae97-d65346b2dcc2\">\n",
              "      <button class=\"colab-df-quickchart\" onclick=\"quickchart('df-65382aff-b017-4c85-ae97-d65346b2dcc2')\"\n",
              "                title=\"Suggest charts\"\n",
              "                style=\"display:none;\">\n",
              "\n",
              "<svg xmlns=\"http://www.w3.org/2000/svg\" height=\"24px\"viewBox=\"0 0 24 24\"\n",
              "     width=\"24px\">\n",
              "    <g>\n",
              "        <path d=\"M19 3H5c-1.1 0-2 .9-2 2v14c0 1.1.9 2 2 2h14c1.1 0 2-.9 2-2V5c0-1.1-.9-2-2-2zM9 17H7v-7h2v7zm4 0h-2V7h2v10zm4 0h-2v-4h2v4z\"/>\n",
              "    </g>\n",
              "</svg>\n",
              "      </button>\n",
              "\n",
              "<style>\n",
              "  .colab-df-quickchart {\n",
              "      --bg-color: #E8F0FE;\n",
              "      --fill-color: #1967D2;\n",
              "      --hover-bg-color: #E2EBFA;\n",
              "      --hover-fill-color: #174EA6;\n",
              "      --disabled-fill-color: #AAA;\n",
              "      --disabled-bg-color: #DDD;\n",
              "  }\n",
              "\n",
              "  [theme=dark] .colab-df-quickchart {\n",
              "      --bg-color: #3B4455;\n",
              "      --fill-color: #D2E3FC;\n",
              "      --hover-bg-color: #434B5C;\n",
              "      --hover-fill-color: #FFFFFF;\n",
              "      --disabled-bg-color: #3B4455;\n",
              "      --disabled-fill-color: #666;\n",
              "  }\n",
              "\n",
              "  .colab-df-quickchart {\n",
              "    background-color: var(--bg-color);\n",
              "    border: none;\n",
              "    border-radius: 50%;\n",
              "    cursor: pointer;\n",
              "    display: none;\n",
              "    fill: var(--fill-color);\n",
              "    height: 32px;\n",
              "    padding: 0;\n",
              "    width: 32px;\n",
              "  }\n",
              "\n",
              "  .colab-df-quickchart:hover {\n",
              "    background-color: var(--hover-bg-color);\n",
              "    box-shadow: 0 1px 2px rgba(60, 64, 67, 0.3), 0 1px 3px 1px rgba(60, 64, 67, 0.15);\n",
              "    fill: var(--button-hover-fill-color);\n",
              "  }\n",
              "\n",
              "  .colab-df-quickchart-complete:disabled,\n",
              "  .colab-df-quickchart-complete:disabled:hover {\n",
              "    background-color: var(--disabled-bg-color);\n",
              "    fill: var(--disabled-fill-color);\n",
              "    box-shadow: none;\n",
              "  }\n",
              "\n",
              "  .colab-df-spinner {\n",
              "    border: 2px solid var(--fill-color);\n",
              "    border-color: transparent;\n",
              "    border-bottom-color: var(--fill-color);\n",
              "    animation:\n",
              "      spin 1s steps(1) infinite;\n",
              "  }\n",
              "\n",
              "  @keyframes spin {\n",
              "    0% {\n",
              "      border-color: transparent;\n",
              "      border-bottom-color: var(--fill-color);\n",
              "      border-left-color: var(--fill-color);\n",
              "    }\n",
              "    20% {\n",
              "      border-color: transparent;\n",
              "      border-left-color: var(--fill-color);\n",
              "      border-top-color: var(--fill-color);\n",
              "    }\n",
              "    30% {\n",
              "      border-color: transparent;\n",
              "      border-left-color: var(--fill-color);\n",
              "      border-top-color: var(--fill-color);\n",
              "      border-right-color: var(--fill-color);\n",
              "    }\n",
              "    40% {\n",
              "      border-color: transparent;\n",
              "      border-right-color: var(--fill-color);\n",
              "      border-top-color: var(--fill-color);\n",
              "    }\n",
              "    60% {\n",
              "      border-color: transparent;\n",
              "      border-right-color: var(--fill-color);\n",
              "    }\n",
              "    80% {\n",
              "      border-color: transparent;\n",
              "      border-right-color: var(--fill-color);\n",
              "      border-bottom-color: var(--fill-color);\n",
              "    }\n",
              "    90% {\n",
              "      border-color: transparent;\n",
              "      border-bottom-color: var(--fill-color);\n",
              "    }\n",
              "  }\n",
              "</style>\n",
              "\n",
              "      <script>\n",
              "        async function quickchart(key) {\n",
              "          const quickchartButtonEl =\n",
              "            document.querySelector('#' + key + ' button');\n",
              "          quickchartButtonEl.disabled = true;  // To prevent multiple clicks.\n",
              "          quickchartButtonEl.classList.add('colab-df-spinner');\n",
              "          try {\n",
              "            const charts = await google.colab.kernel.invokeFunction(\n",
              "                'suggestCharts', [key], {});\n",
              "          } catch (error) {\n",
              "            console.error('Error during call to suggestCharts:', error);\n",
              "          }\n",
              "          quickchartButtonEl.classList.remove('colab-df-spinner');\n",
              "          quickchartButtonEl.classList.add('colab-df-quickchart-complete');\n",
              "        }\n",
              "        (() => {\n",
              "          let quickchartButtonEl =\n",
              "            document.querySelector('#df-65382aff-b017-4c85-ae97-d65346b2dcc2 button');\n",
              "          quickchartButtonEl.style.display =\n",
              "            google.colab.kernel.accessAllowed ? 'block' : 'none';\n",
              "        })();\n",
              "      </script>\n",
              "    </div>\n",
              "\n",
              "    </div>\n",
              "  </div>\n"
            ],
            "application/vnd.google.colaboratory.intrinsic+json": {
              "type": "dataframe"
            }
          },
          "metadata": {},
          "execution_count": 48
        }
      ],
      "source": [
        "#전체 데이터의 수치형 변수 분포 확인\n",
        "train.describe()"
      ]
    },
    {
      "cell_type": "code",
      "execution_count": null,
      "metadata": {
        "id": "Jn78I6JFpr3n",
        "colab": {
          "base_uri": "https://localhost:8080/"
        },
        "outputId": "64b19080-e97c-4970-80f6-8d996ec7f358"
      },
      "outputs": [
        {
          "output_type": "stream",
          "name": "stdout",
          "text": [
            "<class 'pandas.core.frame.DataFrame'>\n",
            "RangeIndex: 5881 entries, 0 to 5880\n",
            "Columns: 562 entries, tBodyAcc-mean()-X to Activity\n",
            "dtypes: float64(561), object(1)\n",
            "memory usage: 25.2+ MB\n",
            "None\n",
            "------------------------------\n",
            "Index(['tBodyAcc-mean()-X', 'tBodyAcc-mean()-Y', 'tBodyAcc-mean()-Z',\n",
            "       'tBodyAcc-std()-X', 'tBodyAcc-std()-Y', 'tBodyAcc-std()-Z',\n",
            "       'tBodyAcc-mad()-X', 'tBodyAcc-mad()-Y', 'tBodyAcc-mad()-Z',\n",
            "       'tBodyAcc-max()-X',\n",
            "       ...\n",
            "       'fBodyBodyGyroJerkMag-skewness()', 'fBodyBodyGyroJerkMag-kurtosis()',\n",
            "       'angle(tBodyAccMean,gravity)', 'angle(tBodyAccJerkMean),gravityMean)',\n",
            "       'angle(tBodyGyroMean,gravityMean)',\n",
            "       'angle(tBodyGyroJerkMean,gravityMean)', 'angle(X,gravityMean)',\n",
            "       'angle(Y,gravityMean)', 'angle(Z,gravityMean)', 'Activity'],\n",
            "      dtype='object', length=562)\n",
            "------------------------------\n",
            "Index(['tBodyAcc-mean()-X', 'tBodyAcc-mean()-Y', 'tBodyAcc-mean()-Z',\n",
            "       'tBodyAcc-std()-X', 'tBodyAcc-std()-Y', 'tBodyAcc-std()-Z',\n",
            "       'tBodyAcc-mad()-X', 'tBodyAcc-mad()-Y', 'tBodyAcc-mad()-Z',\n",
            "       'tBodyAcc-max()-X',\n",
            "       ...\n",
            "       'fBodyBodyGyroJerkMag-skewness()', 'fBodyBodyGyroJerkMag-kurtosis()',\n",
            "       'angle(tBodyAccMean,gravity)', 'angle(tBodyAccJerkMean),gravityMean)',\n",
            "       'angle(tBodyGyroMean,gravityMean)',\n",
            "       'angle(tBodyGyroJerkMean,gravityMean)', 'angle(X,gravityMean)',\n",
            "       'angle(Y,gravityMean)', 'angle(Z,gravityMean)', 'Activity'],\n",
            "      dtype='object', length=562)\n",
            "------------------------------\n",
            "Index(['sensor', 'agg', 'axis', 'feature_name'], dtype='object')\n"
          ]
        }
      ],
      "source": [
        "#전체 데이터의 모든 변수 확인\n",
        "print(train.info())\n",
        "print('-'*30)\n",
        "print(train.columns)\n",
        "\n",
        "print('-'*30)\n",
        "print(test.columns)\n",
        "\n",
        "print('-'*30)\n",
        "print(features.columns)"
      ]
    },
    {
      "cell_type": "markdown",
      "metadata": {
        "id": "L4vnMOyNzt3x"
      },
      "source": [
        "## **2. 데이터 전처리**\n",
        "\n",
        "* 가변수화, 데이터 분할, NaN 확인 및 조치, 스케일링 등 필요한 전처리를 수행한다.\n"
      ]
    },
    {
      "cell_type": "markdown",
      "metadata": {
        "id": "I_9sGxvxzt3y"
      },
      "source": [
        "### (1) 데이터 분할1 : x, y"
      ]
    },
    {
      "cell_type": "markdown",
      "metadata": {
        "id": "1TqlYFz-zt3z"
      },
      "source": [
        "* 세부 요구사항\n",
        "    - x, y로 분할합니다."
      ]
    },
    {
      "cell_type": "code",
      "execution_count": null,
      "metadata": {
        "id": "EAm84rxdzt30"
      },
      "outputs": [],
      "source": [
        "# 데이터 분할을 합니다.\n",
        "x = train.drop('Activity', axis=1)\n",
        "y = train['Activity']"
      ]
    },
    {
      "cell_type": "markdown",
      "metadata": {
        "id": "erf1kwLNL_BG"
      },
      "source": [
        "### (2) Y 전처리\n",
        "* integer encoding : LabelEncoder\n",
        "* (필요시) one-hot encoding"
      ]
    },
    {
      "cell_type": "code",
      "execution_count": null,
      "metadata": {
        "id": "V9ZjiqZxL9vu"
      },
      "outputs": [],
      "source": [
        "# 정수 인코딩 변환(LabelEncoder)\n",
        "le = LabelEncoder()\n",
        "y = le.fit_transform(y)"
      ]
    },
    {
      "cell_type": "code",
      "execution_count": null,
      "metadata": {
        "id": "yXa3uZu_MciF",
        "colab": {
          "base_uri": "https://localhost:8080/"
        },
        "outputId": "faf207d2-335f-4825-f01b-9e2999c5cedd"
      },
      "outputs": [
        {
          "output_type": "execute_result",
          "data": {
            "text/plain": [
              "{'LAYING': 0,\n",
              " 'SITTING': 1,\n",
              " 'STANDING': 2,\n",
              " 'WALKING': 3,\n",
              " 'WALKING_DOWNSTAIRS': 4,\n",
              " 'WALKING_UPSTAIRS': 5}"
            ]
          },
          "metadata": {},
          "execution_count": 52
        }
      ],
      "source": [
        "# 기존 레이블 저장\n",
        "label_map = dict(zip(le.classes_, range(len(le.classes_))))\n",
        "label_map"
      ]
    },
    {
      "cell_type": "markdown",
      "metadata": {
        "id": "KvFgLaegzt34"
      },
      "source": [
        "### (3) 데이터분할2 : train, validation"
      ]
    },
    {
      "cell_type": "markdown",
      "metadata": {
        "id": "eaMzPqRmzt34"
      },
      "source": [
        "* 세부 요구사항\n",
        "    - train : val = 8 : 2 혹은 7 : 3\n",
        "    - random_state 옵션을 사용하여 다른 모델과 비교를 위해 성능이 재현되도록 합니다."
      ]
    },
    {
      "cell_type": "code",
      "execution_count": null,
      "metadata": {
        "id": "0UiQn0pmzt35"
      },
      "outputs": [],
      "source": [
        "#데이터 분할 진행(train:val = 8:2 혹은 7:3 권장)\n",
        "x_train, x_val, y_train, y_val = train_test_split(x, y, test_size=0.2, random_state=42, stratify=y)"
      ]
    },
    {
      "cell_type": "markdown",
      "metadata": {
        "id": "kH0LsKFizt30"
      },
      "source": [
        "### (4) 스케일링\n"
      ]
    },
    {
      "cell_type": "markdown",
      "metadata": {
        "id": "9EKjPKYjzt31"
      },
      "source": [
        "* 세부 요구사항\n",
        "    - 스케일링을 필요로 하는 알고리즘 사용을 위해서 코드 수행\n",
        "    - min-max 방식 혹은 standard 방식 중 한가지 사용."
      ]
    },
    {
      "cell_type": "code",
      "execution_count": null,
      "metadata": {
        "id": "zkEtWdkUzt31"
      },
      "outputs": [],
      "source": [
        "#스케일링 방식을 선택해서 스케일링을 진행합니다.\n",
        "# MinMaxScaler\n",
        "\n",
        "from sklearn.preprocessing import MinMaxScaler\n",
        "\n",
        "scaler = MinMaxScaler()\n",
        "x_train = scaler.fit_transform(x_train)\n",
        "x_val = scaler.transform(x_val)"
      ]
    },
    {
      "cell_type": "markdown",
      "metadata": {
        "id": "QqIj25L-zt35"
      },
      "source": [
        "## **3. 기본 모델링**\n",
        "\n"
      ]
    },
    {
      "cell_type": "markdown",
      "metadata": {
        "id": "PsIDduJnzt36"
      },
      "source": [
        "* 세부 요구사항\n",
        "    - 모델1 : Base line 모델\n",
        "        * Hidden Layer 없이 모델 생성\n",
        "    - 모델2 : 복잡한 모델 생성\n",
        "        * 최소 5개 이상의 은닉층을 추가한 모델\n",
        "    - 모델3 ~ n : 튜닝 모델\n",
        "        * 학습률, epoch 등 조정\n",
        "        * 모델2에 과적합을 방지하기 위한 규제 기법 추가\n",
        "        * Accuracy 최대화 시키는 모델 생성하기\n",
        "    - (옵션) 각 모델은 최소 5번 반복수행해서 얻은 성능의 평균값을 기록"
      ]
    },
    {
      "cell_type": "markdown",
      "metadata": {
        "id": "WnvECv0azt36"
      },
      "source": [
        "### (1) 모델1 : Hidden Layer 없이 모델 생성"
      ]
    },
    {
      "cell_type": "code",
      "execution_count": null,
      "metadata": {
        "id": "Knj7SzObz8_2",
        "colab": {
          "base_uri": "https://localhost:8080/",
          "height": 164
        },
        "outputId": "ac537fbd-1c09-487a-c756-7626d2e9af9e"
      },
      "outputs": [
        {
          "output_type": "display_data",
          "data": {
            "text/plain": [
              "\u001b[1mModel: \"sequential\"\u001b[0m\n"
            ],
            "text/html": [
              "<pre style=\"white-space:pre;overflow-x:auto;line-height:normal;font-family:Menlo,'DejaVu Sans Mono',consolas,'Courier New',monospace\"><span style=\"font-weight: bold\">Model: \"sequential\"</span>\n",
              "</pre>\n"
            ]
          },
          "metadata": {}
        },
        {
          "output_type": "display_data",
          "data": {
            "text/plain": [
              "┏━━━━━━━━━━━━━━━━━━━━━━━━━━━━━━━━━┳━━━━━━━━━━━━━━━━━━━━━━━━┳━━━━━━━━━━━━━━━┓\n",
              "┃\u001b[1m \u001b[0m\u001b[1mLayer (type)                   \u001b[0m\u001b[1m \u001b[0m┃\u001b[1m \u001b[0m\u001b[1mOutput Shape          \u001b[0m\u001b[1m \u001b[0m┃\u001b[1m \u001b[0m\u001b[1m      Param #\u001b[0m\u001b[1m \u001b[0m┃\n",
              "┡━━━━━━━━━━━━━━━━━━━━━━━━━━━━━━━━━╇━━━━━━━━━━━━━━━━━━━━━━━━╇━━━━━━━━━━━━━━━┩\n",
              "│ dense (\u001b[38;5;33mDense\u001b[0m)                   │ (\u001b[38;5;45mNone\u001b[0m, \u001b[38;5;34m6\u001b[0m)              │         \u001b[38;5;34m3,372\u001b[0m │\n",
              "└─────────────────────────────────┴────────────────────────┴───────────────┘\n"
            ],
            "text/html": [
              "<pre style=\"white-space:pre;overflow-x:auto;line-height:normal;font-family:Menlo,'DejaVu Sans Mono',consolas,'Courier New',monospace\">┏━━━━━━━━━━━━━━━━━━━━━━━━━━━━━━━━━┳━━━━━━━━━━━━━━━━━━━━━━━━┳━━━━━━━━━━━━━━━┓\n",
              "┃<span style=\"font-weight: bold\"> Layer (type)                    </span>┃<span style=\"font-weight: bold\"> Output Shape           </span>┃<span style=\"font-weight: bold\">       Param # </span>┃\n",
              "┡━━━━━━━━━━━━━━━━━━━━━━━━━━━━━━━━━╇━━━━━━━━━━━━━━━━━━━━━━━━╇━━━━━━━━━━━━━━━┩\n",
              "│ dense (<span style=\"color: #0087ff; text-decoration-color: #0087ff\">Dense</span>)                   │ (<span style=\"color: #00d7ff; text-decoration-color: #00d7ff\">None</span>, <span style=\"color: #00af00; text-decoration-color: #00af00\">6</span>)              │         <span style=\"color: #00af00; text-decoration-color: #00af00\">3,372</span> │\n",
              "└─────────────────────────────────┴────────────────────────┴───────────────┘\n",
              "</pre>\n"
            ]
          },
          "metadata": {}
        },
        {
          "output_type": "display_data",
          "data": {
            "text/plain": [
              "\u001b[1m Total params: \u001b[0m\u001b[38;5;34m3,372\u001b[0m (13.17 KB)\n"
            ],
            "text/html": [
              "<pre style=\"white-space:pre;overflow-x:auto;line-height:normal;font-family:Menlo,'DejaVu Sans Mono',consolas,'Courier New',monospace\"><span style=\"font-weight: bold\"> Total params: </span><span style=\"color: #00af00; text-decoration-color: #00af00\">3,372</span> (13.17 KB)\n",
              "</pre>\n"
            ]
          },
          "metadata": {}
        },
        {
          "output_type": "display_data",
          "data": {
            "text/plain": [
              "\u001b[1m Trainable params: \u001b[0m\u001b[38;5;34m3,372\u001b[0m (13.17 KB)\n"
            ],
            "text/html": [
              "<pre style=\"white-space:pre;overflow-x:auto;line-height:normal;font-family:Menlo,'DejaVu Sans Mono',consolas,'Courier New',monospace\"><span style=\"font-weight: bold\"> Trainable params: </span><span style=\"color: #00af00; text-decoration-color: #00af00\">3,372</span> (13.17 KB)\n",
              "</pre>\n"
            ]
          },
          "metadata": {}
        },
        {
          "output_type": "display_data",
          "data": {
            "text/plain": [
              "\u001b[1m Non-trainable params: \u001b[0m\u001b[38;5;34m0\u001b[0m (0.00 B)\n"
            ],
            "text/html": [
              "<pre style=\"white-space:pre;overflow-x:auto;line-height:normal;font-family:Menlo,'DejaVu Sans Mono',consolas,'Courier New',monospace\"><span style=\"font-weight: bold\"> Non-trainable params: </span><span style=\"color: #00af00; text-decoration-color: #00af00\">0</span> (0.00 B)\n",
              "</pre>\n"
            ]
          },
          "metadata": {}
        }
      ],
      "source": [
        "# 모델 설계\n",
        "clear_session()\n",
        "\n",
        "nfeatures = x_train.shape[1]\n",
        "n_classes  = len(np.unique(y_train))\n",
        "\n",
        "model = Sequential([\n",
        "    Input(shape=(nfeatures, )),\n",
        "    Dense(n_classes, activation='softmax')\n",
        "])\n",
        "\n",
        "model.summary()"
      ]
    },
    {
      "cell_type": "code",
      "execution_count": null,
      "metadata": {
        "id": "r4B2GA36z88O"
      },
      "outputs": [],
      "source": [
        "# 컴파일 및 학습\n",
        "model.compile(optimizer=Adam(learning_rate=0.01), loss='sparse_categorical_crossentropy', metrics=['accuracy'] )\n",
        "\n",
        "hist = model.fit(x_train, y_train, epochs=100, validation_split=0.2, verbose=0).history"
      ]
    },
    {
      "cell_type": "code",
      "execution_count": null,
      "metadata": {
        "id": "NwhuwDe2z85Y",
        "colab": {
          "base_uri": "https://localhost:8080/",
          "height": 540
        },
        "outputId": "29cb5dde-fc73-43fe-aaf2-9975773de09d"
      },
      "outputs": [
        {
          "output_type": "display_data",
          "data": {
            "text/plain": [
              "<Figure size 1000x600 with 1 Axes>"
            ],
            "image/png": "[encoded data removed]"
          },
          "metadata": {}
        }
      ],
      "source": [
        "# 학습곡선\n",
        "dl_history_plot(hist)"
      ]
    },
    {
      "cell_type": "code",
      "execution_count": null,
      "metadata": {
        "id": "pYPpnSz9z82R",
        "colab": {
          "base_uri": "https://localhost:8080/"
        },
        "outputId": "13de32f8-b6a3-4b36-8eb9-87c04d3fcb79"
      },
      "outputs": [
        {
          "output_type": "stream",
          "name": "stdout",
          "text": [
            "\u001b[1m37/37\u001b[0m \u001b[32m━━━━━━━━━━━━━━━━━━━━\u001b[0m\u001b[37m\u001b[0m \u001b[1m0s\u001b[0m 2ms/step\n",
            "[[9.9968755e-01 3.1242543e-04 8.1071129e-14 2.8549120e-17 5.8012534e-19\n",
            "  3.0519599e-15]\n",
            " [2.2552591e-03 9.9774480e-01 8.9787199e-11 1.6253812e-09 2.2497412e-21\n",
            "  2.7169197e-19]\n",
            " [5.2995104e-14 6.9952981e-11 1.0226047e-17 9.9999994e-01 3.8971568e-10\n",
            "  1.1308659e-08]\n",
            " [9.9994344e-01 5.6455650e-05 1.1531422e-16 3.1882042e-17 9.7329169e-22\n",
            "  3.2022895e-20]\n",
            " [4.1962690e-07 9.0910739e-01 9.0891361e-02 7.7417906e-07 1.9003451e-15\n",
            "  1.0614102e-18]]\n",
            "[0 1 3 0 1]\n",
            "[[223   0   0   0   0   0]\n",
            " [  1 187  17   0   0   1]\n",
            " [  0   3 215   0   0   0]\n",
            " [  0   0   0 200   0   0]\n",
            " [  0   0   0   0 158   0]\n",
            " [  0   0   0   1   0 171]]\n",
            "              precision    recall  f1-score   support\n",
            "\n",
            "           0       1.00      1.00      1.00       223\n",
            "           1       0.98      0.91      0.94       206\n",
            "           2       0.93      0.99      0.96       218\n",
            "           3       1.00      1.00      1.00       200\n",
            "           4       1.00      1.00      1.00       158\n",
            "           5       0.99      0.99      0.99       172\n",
            "\n",
            "    accuracy                           0.98      1177\n",
            "   macro avg       0.98      0.98      0.98      1177\n",
            "weighted avg       0.98      0.98      0.98      1177\n",
            "\n"
          ]
        }
      ],
      "source": [
        "# 예측 및 평가\n",
        "y_pred = model.predict(x_val)\n",
        "print(y_pred[:5])\n",
        "\n",
        "y_pred = np.argmax(y_pred, axis=1)\n",
        "print(y_pred[:5])\n",
        "\n",
        "print(confusion_matrix(y_val, y_pred))\n",
        "print(classification_report(y_val, y_pred))"
      ]
    },
    {
      "cell_type": "code",
      "execution_count": null,
      "metadata": {
        "id": "D7w30B93HOof"
      },
      "outputs": [],
      "source": [
        "#(옵션) 모델1번을 최소 5번 반복수행해서 얻은 성능의 평균값을 기록해보자!"
      ]
    },
    {
      "cell_type": "markdown",
      "metadata": {
        "id": "howmy2pdOUwh"
      },
      "source": [
        "### (2) 모델2 : 최소 5개 이상의 은닉층을 추가한 모델"
      ]
    },
    {
      "cell_type": "code",
      "execution_count": null,
      "metadata": {
        "id": "4RbzxM6fz9ji",
        "colab": {
          "base_uri": "https://localhost:8080/",
          "height": 327
        },
        "outputId": "47028dba-7233-4569-b64f-8c70fc5c2fd1"
      },
      "outputs": [
        {
          "output_type": "display_data",
          "data": {
            "text/plain": [
              "\u001b[1mModel: \"sequential\"\u001b[0m\n"
            ],
            "text/html": [
              "<pre style=\"white-space:pre;overflow-x:auto;line-height:normal;font-family:Menlo,'DejaVu Sans Mono',consolas,'Courier New',monospace\"><span style=\"font-weight: bold\">Model: \"sequential\"</span>\n",
              "</pre>\n"
            ]
          },
          "metadata": {}
        },
        {
          "output_type": "display_data",
          "data": {
            "text/plain": [
              "┏━━━━━━━━━━━━━━━━━━━━━━━━━━━━━━━━━┳━━━━━━━━━━━━━━━━━━━━━━━━┳━━━━━━━━━━━━━━━┓\n",
              "┃\u001b[1m \u001b[0m\u001b[1mLayer (type)                   \u001b[0m\u001b[1m \u001b[0m┃\u001b[1m \u001b[0m\u001b[1mOutput Shape          \u001b[0m\u001b[1m \u001b[0m┃\u001b[1m \u001b[0m\u001b[1m      Param #\u001b[0m\u001b[1m \u001b[0m┃\n",
              "┡━━━━━━━━━━━━━━━━━━━━━━━━━━━━━━━━━╇━━━━━━━━━━━━━━━━━━━━━━━━╇━━━━━━━━━━━━━━━┩\n",
              "│ dense (\u001b[38;5;33mDense\u001b[0m)                   │ (\u001b[38;5;45mNone\u001b[0m, \u001b[38;5;34m256\u001b[0m)            │       \u001b[38;5;34m143,872\u001b[0m │\n",
              "├─────────────────────────────────┼────────────────────────┼───────────────┤\n",
              "│ dense_1 (\u001b[38;5;33mDense\u001b[0m)                 │ (\u001b[38;5;45mNone\u001b[0m, \u001b[38;5;34m128\u001b[0m)            │        \u001b[38;5;34m32,896\u001b[0m │\n",
              "├─────────────────────────────────┼────────────────────────┼───────────────┤\n",
              "│ dense_2 (\u001b[38;5;33mDense\u001b[0m)                 │ (\u001b[38;5;45mNone\u001b[0m, \u001b[38;5;34m128\u001b[0m)            │        \u001b[38;5;34m16,512\u001b[0m │\n",
              "├─────────────────────────────────┼────────────────────────┼───────────────┤\n",
              "│ dense_3 (\u001b[38;5;33mDense\u001b[0m)                 │ (\u001b[38;5;45mNone\u001b[0m, \u001b[38;5;34m64\u001b[0m)             │         \u001b[38;5;34m8,256\u001b[0m │\n",
              "├─────────────────────────────────┼────────────────────────┼───────────────┤\n",
              "│ dense_4 (\u001b[38;5;33mDense\u001b[0m)                 │ (\u001b[38;5;45mNone\u001b[0m, \u001b[38;5;34m32\u001b[0m)             │         \u001b[38;5;34m2,080\u001b[0m │\n",
              "├─────────────────────────────────┼────────────────────────┼───────────────┤\n",
              "│ dense_5 (\u001b[38;5;33mDense\u001b[0m)                 │ (\u001b[38;5;45mNone\u001b[0m, \u001b[38;5;34m6\u001b[0m)              │           \u001b[38;5;34m198\u001b[0m │\n",
              "└─────────────────────────────────┴────────────────────────┴───────────────┘\n"
            ],
            "text/html": [
              "<pre style=\"white-space:pre;overflow-x:auto;line-height:normal;font-family:Menlo,'DejaVu Sans Mono',consolas,'Courier New',monospace\">┏━━━━━━━━━━━━━━━━━━━━━━━━━━━━━━━━━┳━━━━━━━━━━━━━━━━━━━━━━━━┳━━━━━━━━━━━━━━━┓\n",
              "┃<span style=\"font-weight: bold\"> Layer (type)                    </span>┃<span style=\"font-weight: bold\"> Output Shape           </span>┃<span style=\"font-weight: bold\">       Param # </span>┃\n",
              "┡━━━━━━━━━━━━━━━━━━━━━━━━━━━━━━━━━╇━━━━━━━━━━━━━━━━━━━━━━━━╇━━━━━━━━━━━━━━━┩\n",
              "│ dense (<span style=\"color: #0087ff; text-decoration-color: #0087ff\">Dense</span>)                   │ (<span style=\"color: #00d7ff; text-decoration-color: #00d7ff\">None</span>, <span style=\"color: #00af00; text-decoration-color: #00af00\">256</span>)            │       <span style=\"color: #00af00; text-decoration-color: #00af00\">143,872</span> │\n",
              "├─────────────────────────────────┼────────────────────────┼───────────────┤\n",
              "│ dense_1 (<span style=\"color: #0087ff; text-decoration-color: #0087ff\">Dense</span>)                 │ (<span style=\"color: #00d7ff; text-decoration-color: #00d7ff\">None</span>, <span style=\"color: #00af00; text-decoration-color: #00af00\">128</span>)            │        <span style=\"color: #00af00; text-decoration-color: #00af00\">32,896</span> │\n",
              "├─────────────────────────────────┼────────────────────────┼───────────────┤\n",
              "│ dense_2 (<span style=\"color: #0087ff; text-decoration-color: #0087ff\">Dense</span>)                 │ (<span style=\"color: #00d7ff; text-decoration-color: #00d7ff\">None</span>, <span style=\"color: #00af00; text-decoration-color: #00af00\">128</span>)            │        <span style=\"color: #00af00; text-decoration-color: #00af00\">16,512</span> │\n",
              "├─────────────────────────────────┼────────────────────────┼───────────────┤\n",
              "│ dense_3 (<span style=\"color: #0087ff; text-decoration-color: #0087ff\">Dense</span>)                 │ (<span style=\"color: #00d7ff; text-decoration-color: #00d7ff\">None</span>, <span style=\"color: #00af00; text-decoration-color: #00af00\">64</span>)             │         <span style=\"color: #00af00; text-decoration-color: #00af00\">8,256</span> │\n",
              "├─────────────────────────────────┼────────────────────────┼───────────────┤\n",
              "│ dense_4 (<span style=\"color: #0087ff; text-decoration-color: #0087ff\">Dense</span>)                 │ (<span style=\"color: #00d7ff; text-decoration-color: #00d7ff\">None</span>, <span style=\"color: #00af00; text-decoration-color: #00af00\">32</span>)             │         <span style=\"color: #00af00; text-decoration-color: #00af00\">2,080</span> │\n",
              "├─────────────────────────────────┼────────────────────────┼───────────────┤\n",
              "│ dense_5 (<span style=\"color: #0087ff; text-decoration-color: #0087ff\">Dense</span>)                 │ (<span style=\"color: #00d7ff; text-decoration-color: #00d7ff\">None</span>, <span style=\"color: #00af00; text-decoration-color: #00af00\">6</span>)              │           <span style=\"color: #00af00; text-decoration-color: #00af00\">198</span> │\n",
              "└─────────────────────────────────┴────────────────────────┴───────────────┘\n",
              "</pre>\n"
            ]
          },
          "metadata": {}
        },
        {
          "output_type": "display_data",
          "data": {
            "text/plain": [
              "\u001b[1m Total params: \u001b[0m\u001b[38;5;34m203,814\u001b[0m (796.15 KB)\n"
            ],
            "text/html": [
              "<pre style=\"white-space:pre;overflow-x:auto;line-height:normal;font-family:Menlo,'DejaVu Sans Mono',consolas,'Courier New',monospace\"><span style=\"font-weight: bold\"> Total params: </span><span style=\"color: #00af00; text-decoration-color: #00af00\">203,814</span> (796.15 KB)\n",
              "</pre>\n"
            ]
          },
          "metadata": {}
        },
        {
          "output_type": "display_data",
          "data": {
            "text/plain": [
              "\u001b[1m Trainable params: \u001b[0m\u001b[38;5;34m203,814\u001b[0m (796.15 KB)\n"
            ],
            "text/html": [
              "<pre style=\"white-space:pre;overflow-x:auto;line-height:normal;font-family:Menlo,'DejaVu Sans Mono',consolas,'Courier New',monospace\"><span style=\"font-weight: bold\"> Trainable params: </span><span style=\"color: #00af00; text-decoration-color: #00af00\">203,814</span> (796.15 KB)\n",
              "</pre>\n"
            ]
          },
          "metadata": {}
        },
        {
          "output_type": "display_data",
          "data": {
            "text/plain": [
              "\u001b[1m Non-trainable params: \u001b[0m\u001b[38;5;34m0\u001b[0m (0.00 B)\n"
            ],
            "text/html": [
              "<pre style=\"white-space:pre;overflow-x:auto;line-height:normal;font-family:Menlo,'DejaVu Sans Mono',consolas,'Courier New',monospace\"><span style=\"font-weight: bold\"> Non-trainable params: </span><span style=\"color: #00af00; text-decoration-color: #00af00\">0</span> (0.00 B)\n",
              "</pre>\n"
            ]
          },
          "metadata": {}
        }
      ],
      "source": [
        "# 모델 설계\n",
        "clear_session()\n",
        "\n",
        "nfeatures = x_train.shape[1]\n",
        "n_classes  = len(np.unique(y_train))\n",
        "\n",
        "model2 = Sequential([\n",
        "    Input(shape=(nfeatures, )),\n",
        "    Dense(256, activation='relu'),\n",
        "    Dense(128, activation='relu'),\n",
        "    Dense(128, activation='relu'),\n",
        "    Dense(64, activation='relu'),\n",
        "    Dense(32, activation='relu'),\n",
        "    Dense(n_classes, activation='softmax')\n",
        "])\n",
        "\n",
        "model2.summary()"
      ]
    },
    {
      "cell_type": "code",
      "execution_count": null,
      "metadata": {
        "id": "9nm0jxxVz9ji"
      },
      "outputs": [],
      "source": [
        "# 컴파일 및 학습\n",
        "model2.compile(optimizer=Adam(learning_rate=0.001), loss='sparse_categorical_crossentropy', metrics=['accuracy'] )\n",
        "\n",
        "hist = model2.fit(x_train, y_train, epochs=150, validation_split=0.2, verbose=0).history"
      ]
    },
    {
      "cell_type": "code",
      "execution_count": null,
      "metadata": {
        "id": "OKOXibRCz9jj",
        "colab": {
          "base_uri": "https://localhost:8080/",
          "height": 540
        },
        "outputId": "056f7988-98fb-47a7-f084-1eca7fcc758b"
      },
      "outputs": [
        {
          "output_type": "display_data",
          "data": {
            "text/plain": [
              "<Figure size 1000x600 with 1 Axes>"
            ],
            "image/png": "[encoded data removed]"
          },
          "metadata": {}
        }
      ],
      "source": [
        "# 학습곡선\n",
        "dl_history_plot(hist)"
      ]
    },
    {
      "cell_type": "code",
      "execution_count": null,
      "metadata": {
        "id": "LGXSnT6bz9jj",
        "colab": {
          "base_uri": "https://localhost:8080/"
        },
        "outputId": "99b2f427-614f-4c8c-df05-10c974768db7"
      },
      "outputs": [
        {
          "output_type": "stream",
          "name": "stdout",
          "text": [
            "\u001b[1m37/37\u001b[0m \u001b[32m━━━━━━━━━━━━━━━━━━━━\u001b[0m\u001b[37m\u001b[0m \u001b[1m0s\u001b[0m 4ms/step\n",
            "[[9.9999994e-01 4.0879103e-10 2.2000425e-19 6.5149907e-18 1.3560871e-15\n",
            "  2.0112273e-16]\n",
            " [0.0000000e+00 9.9999994e-01 1.4106362e-28 0.0000000e+00 0.0000000e+00\n",
            "  2.1460459e-28]\n",
            " [1.3139206e-27 5.9522335e-17 8.2378020e-16 9.9999994e-01 3.2996085e-11\n",
            "  5.2004869e-11]\n",
            " [9.9999994e-01 5.6816318e-10 2.5988384e-19 7.3977310e-18 1.3975443e-15\n",
            "  1.9697852e-16]\n",
            " [8.2321305e-20 9.9999994e-01 3.1518939e-13 9.3142876e-20 1.5721764e-23\n",
            "  6.3182322e-14]]\n",
            "[0 1 3 0 1]\n",
            "[[223   0   0   0   0   0]\n",
            " [  1 193  11   0   0   1]\n",
            " [  0   4 214   0   0   0]\n",
            " [  0   0   0 200   0   0]\n",
            " [  0   0   0   0 157   1]\n",
            " [  0   0   0   0   2 170]]\n",
            "              precision    recall  f1-score   support\n",
            "\n",
            "           0       1.00      1.00      1.00       223\n",
            "           1       0.98      0.94      0.96       206\n",
            "           2       0.95      0.98      0.97       218\n",
            "           3       1.00      1.00      1.00       200\n",
            "           4       0.99      0.99      0.99       158\n",
            "           5       0.99      0.99      0.99       172\n",
            "\n",
            "    accuracy                           0.98      1177\n",
            "   macro avg       0.98      0.98      0.98      1177\n",
            "weighted avg       0.98      0.98      0.98      1177\n",
            "\n"
          ]
        }
      ],
      "source": [
        "# 예측 및 평가\n",
        "y_pred = model2.predict(x_val)\n",
        "print(y_pred[:5])\n",
        "\n",
        "y_pred = np.argmax(y_pred, axis=1)\n",
        "print(y_pred[:5])\n",
        "\n",
        "print(confusion_matrix(y_val, y_pred))\n",
        "print(classification_report(y_val, y_pred))"
      ]
    },
    {
      "cell_type": "markdown",
      "metadata": {
        "id": "lId5dvDwQGEi"
      },
      "source": [
        "### (3) 모델3 : 학습률, epoch 등 조정"
      ]
    },
    {
      "cell_type": "code",
      "execution_count": null,
      "metadata": {
        "id": "Zba9A_jRz-6E",
        "colab": {
          "base_uri": "https://localhost:8080/",
          "height": 327
        },
        "outputId": "e6e78e78-f595-47fc-b9cf-5406ea53ad09"
      },
      "outputs": [
        {
          "output_type": "display_data",
          "data": {
            "text/plain": [
              "\u001b[1mModel: \"sequential\"\u001b[0m\n"
            ],
            "text/html": [
              "<pre style=\"white-space:pre;overflow-x:auto;line-height:normal;font-family:Menlo,'DejaVu Sans Mono',consolas,'Courier New',monospace\"><span style=\"font-weight: bold\">Model: \"sequential\"</span>\n",
              "</pre>\n"
            ]
          },
          "metadata": {}
        },
        {
          "output_type": "display_data",
          "data": {
            "text/plain": [
              "┏━━━━━━━━━━━━━━━━━━━━━━━━━━━━━━━━━┳━━━━━━━━━━━━━━━━━━━━━━━━┳━━━━━━━━━━━━━━━┓\n",
              "┃\u001b[1m \u001b[0m\u001b[1mLayer (type)                   \u001b[0m\u001b[1m \u001b[0m┃\u001b[1m \u001b[0m\u001b[1mOutput Shape          \u001b[0m\u001b[1m \u001b[0m┃\u001b[1m \u001b[0m\u001b[1m      Param #\u001b[0m\u001b[1m \u001b[0m┃\n",
              "┡━━━━━━━━━━━━━━━━━━━━━━━━━━━━━━━━━╇━━━━━━━━━━━━━━━━━━━━━━━━╇━━━━━━━━━━━━━━━┩\n",
              "│ dense (\u001b[38;5;33mDense\u001b[0m)                   │ (\u001b[38;5;45mNone\u001b[0m, \u001b[38;5;34m256\u001b[0m)            │       \u001b[38;5;34m143,872\u001b[0m │\n",
              "├─────────────────────────────────┼────────────────────────┼───────────────┤\n",
              "│ dense_1 (\u001b[38;5;33mDense\u001b[0m)                 │ (\u001b[38;5;45mNone\u001b[0m, \u001b[38;5;34m128\u001b[0m)            │        \u001b[38;5;34m32,896\u001b[0m │\n",
              "├─────────────────────────────────┼────────────────────────┼───────────────┤\n",
              "│ dense_2 (\u001b[38;5;33mDense\u001b[0m)                 │ (\u001b[38;5;45mNone\u001b[0m, \u001b[38;5;34m128\u001b[0m)            │        \u001b[38;5;34m16,512\u001b[0m │\n",
              "├─────────────────────────────────┼────────────────────────┼───────────────┤\n",
              "│ dense_3 (\u001b[38;5;33mDense\u001b[0m)                 │ (\u001b[38;5;45mNone\u001b[0m, \u001b[38;5;34m64\u001b[0m)             │         \u001b[38;5;34m8,256\u001b[0m │\n",
              "├─────────────────────────────────┼────────────────────────┼───────────────┤\n",
              "│ dense_4 (\u001b[38;5;33mDense\u001b[0m)                 │ (\u001b[38;5;45mNone\u001b[0m, \u001b[38;5;34m32\u001b[0m)             │         \u001b[38;5;34m2,080\u001b[0m │\n",
              "├─────────────────────────────────┼────────────────────────┼───────────────┤\n",
              "│ dense_5 (\u001b[38;5;33mDense\u001b[0m)                 │ (\u001b[38;5;45mNone\u001b[0m, \u001b[38;5;34m6\u001b[0m)              │           \u001b[38;5;34m198\u001b[0m │\n",
              "└─────────────────────────────────┴────────────────────────┴───────────────┘\n"
            ],
            "text/html": [
              "<pre style=\"white-space:pre;overflow-x:auto;line-height:normal;font-family:Menlo,'DejaVu Sans Mono',consolas,'Courier New',monospace\">┏━━━━━━━━━━━━━━━━━━━━━━━━━━━━━━━━━┳━━━━━━━━━━━━━━━━━━━━━━━━┳━━━━━━━━━━━━━━━┓\n",
              "┃<span style=\"font-weight: bold\"> Layer (type)                    </span>┃<span style=\"font-weight: bold\"> Output Shape           </span>┃<span style=\"font-weight: bold\">       Param # </span>┃\n",
              "┡━━━━━━━━━━━━━━━━━━━━━━━━━━━━━━━━━╇━━━━━━━━━━━━━━━━━━━━━━━━╇━━━━━━━━━━━━━━━┩\n",
              "│ dense (<span style=\"color: #0087ff; text-decoration-color: #0087ff\">Dense</span>)                   │ (<span style=\"color: #00d7ff; text-decoration-color: #00d7ff\">None</span>, <span style=\"color: #00af00; text-decoration-color: #00af00\">256</span>)            │       <span style=\"color: #00af00; text-decoration-color: #00af00\">143,872</span> │\n",
              "├─────────────────────────────────┼────────────────────────┼───────────────┤\n",
              "│ dense_1 (<span style=\"color: #0087ff; text-decoration-color: #0087ff\">Dense</span>)                 │ (<span style=\"color: #00d7ff; text-decoration-color: #00d7ff\">None</span>, <span style=\"color: #00af00; text-decoration-color: #00af00\">128</span>)            │        <span style=\"color: #00af00; text-decoration-color: #00af00\">32,896</span> │\n",
              "├─────────────────────────────────┼────────────────────────┼───────────────┤\n",
              "│ dense_2 (<span style=\"color: #0087ff; text-decoration-color: #0087ff\">Dense</span>)                 │ (<span style=\"color: #00d7ff; text-decoration-color: #00d7ff\">None</span>, <span style=\"color: #00af00; text-decoration-color: #00af00\">128</span>)            │        <span style=\"color: #00af00; text-decoration-color: #00af00\">16,512</span> │\n",
              "├─────────────────────────────────┼────────────────────────┼───────────────┤\n",
              "│ dense_3 (<span style=\"color: #0087ff; text-decoration-color: #0087ff\">Dense</span>)                 │ (<span style=\"color: #00d7ff; text-decoration-color: #00d7ff\">None</span>, <span style=\"color: #00af00; text-decoration-color: #00af00\">64</span>)             │         <span style=\"color: #00af00; text-decoration-color: #00af00\">8,256</span> │\n",
              "├─────────────────────────────────┼────────────────────────┼───────────────┤\n",
              "│ dense_4 (<span style=\"color: #0087ff; text-decoration-color: #0087ff\">Dense</span>)                 │ (<span style=\"color: #00d7ff; text-decoration-color: #00d7ff\">None</span>, <span style=\"color: #00af00; text-decoration-color: #00af00\">32</span>)             │         <span style=\"color: #00af00; text-decoration-color: #00af00\">2,080</span> │\n",
              "├─────────────────────────────────┼────────────────────────┼───────────────┤\n",
              "│ dense_5 (<span style=\"color: #0087ff; text-decoration-color: #0087ff\">Dense</span>)                 │ (<span style=\"color: #00d7ff; text-decoration-color: #00d7ff\">None</span>, <span style=\"color: #00af00; text-decoration-color: #00af00\">6</span>)              │           <span style=\"color: #00af00; text-decoration-color: #00af00\">198</span> │\n",
              "└─────────────────────────────────┴────────────────────────┴───────────────┘\n",
              "</pre>\n"
            ]
          },
          "metadata": {}
        },
        {
          "output_type": "display_data",
          "data": {
            "text/plain": [
              "\u001b[1m Total params: \u001b[0m\u001b[38;5;34m203,814\u001b[0m (796.15 KB)\n"
            ],
            "text/html": [
              "<pre style=\"white-space:pre;overflow-x:auto;line-height:normal;font-family:Menlo,'DejaVu Sans Mono',consolas,'Courier New',monospace\"><span style=\"font-weight: bold\"> Total params: </span><span style=\"color: #00af00; text-decoration-color: #00af00\">203,814</span> (796.15 KB)\n",
              "</pre>\n"
            ]
          },
          "metadata": {}
        },
        {
          "output_type": "display_data",
          "data": {
            "text/plain": [
              "\u001b[1m Trainable params: \u001b[0m\u001b[38;5;34m203,814\u001b[0m (796.15 KB)\n"
            ],
            "text/html": [
              "<pre style=\"white-space:pre;overflow-x:auto;line-height:normal;font-family:Menlo,'DejaVu Sans Mono',consolas,'Courier New',monospace\"><span style=\"font-weight: bold\"> Trainable params: </span><span style=\"color: #00af00; text-decoration-color: #00af00\">203,814</span> (796.15 KB)\n",
              "</pre>\n"
            ]
          },
          "metadata": {}
        },
        {
          "output_type": "display_data",
          "data": {
            "text/plain": [
              "\u001b[1m Non-trainable params: \u001b[0m\u001b[38;5;34m0\u001b[0m (0.00 B)\n"
            ],
            "text/html": [
              "<pre style=\"white-space:pre;overflow-x:auto;line-height:normal;font-family:Menlo,'DejaVu Sans Mono',consolas,'Courier New',monospace\"><span style=\"font-weight: bold\"> Non-trainable params: </span><span style=\"color: #00af00; text-decoration-color: #00af00\">0</span> (0.00 B)\n",
              "</pre>\n"
            ]
          },
          "metadata": {}
        }
      ],
      "source": [
        "# 모델 설계\n",
        "clear_session()\n",
        "\n",
        "nfeatures = x_train.shape[1]\n",
        "n_classes  = len(np.unique(y_train))\n",
        "\n",
        "model3 = Sequential([\n",
        "    Input(shape=(nfeatures, )),\n",
        "    Dense(256, activation='relu'),\n",
        "    Dense(128, activation='relu'),\n",
        "    Dense(128, activation='relu'),\n",
        "    Dense(64, activation='relu'),\n",
        "    Dense(32, activation='relu'),\n",
        "    Dense(n_classes, activation='softmax')\n",
        "])\n",
        "\n",
        "model3.summary()"
      ]
    },
    {
      "cell_type": "code",
      "execution_count": null,
      "metadata": {
        "id": "GJsLIziOz-6F"
      },
      "outputs": [],
      "source": [
        "# 컴파일 및 학습\n",
        "model3.compile(optimizer=Adam(learning_rate=0.0001), loss='sparse_categorical_crossentropy', metrics=['accuracy'] )\n",
        "\n",
        "hist = model3.fit(x_train, y_train, epochs=300, validation_split=0.2, verbose=0).history"
      ]
    },
    {
      "cell_type": "code",
      "execution_count": null,
      "metadata": {
        "id": "gwXb2CnFz-6G",
        "colab": {
          "base_uri": "https://localhost:8080/",
          "height": 544
        },
        "outputId": "ef43fde1-f022-47ea-a11d-fdd5f06ca2ba"
      },
      "outputs": [
        {
          "output_type": "display_data",
          "data": {
            "text/plain": [
              "<Figure size 1000x600 with 1 Axes>"
            ],
            "image/png": "[encoded data removed]"
          },
          "metadata": {}
        }
      ],
      "source": [
        "# 학습곡선\n",
        "dl_history_plot(hist)"
      ]
    },
    {
      "cell_type": "code",
      "execution_count": null,
      "metadata": {
        "id": "5AoGDqnvz-6G",
        "colab": {
          "base_uri": "https://localhost:8080/"
        },
        "outputId": "ec8fef0d-8f28-4e83-907b-b054fe77a6a4"
      },
      "outputs": [
        {
          "output_type": "stream",
          "name": "stdout",
          "text": [
            "\u001b[1m37/37\u001b[0m \u001b[32m━━━━━━━━━━━━━━━━━━━━\u001b[0m\u001b[37m\u001b[0m \u001b[1m0s\u001b[0m 5ms/step\n",
            "[[9.9999982e-01 7.0052018e-08 3.3522929e-29 1.0496034e-22 3.0743197e-10\n",
            "  3.4966596e-11]\n",
            " [9.6836028e-10 9.9999994e-01 1.3639019e-20 5.5557346e-18 4.2022671e-13\n",
            "  4.4391066e-12]\n",
            " [1.5562107e-21 4.7395586e-12 3.8163552e-12 9.9999994e-01 4.3486373e-10\n",
            "  5.0513944e-09]\n",
            " [9.9999994e-01 4.3002397e-09 3.3635331e-33 9.9760971e-26 2.7066569e-11\n",
            "  8.0113954e-13]\n",
            " [1.0822746e-08 9.9999994e-01 3.1926586e-08 1.6293432e-10 1.9362902e-08\n",
            "  1.8067050e-08]]\n",
            "[0 1 3 0 1]\n",
            "[[223   0   0   0   0   0]\n",
            " [  0 196   9   0   0   1]\n",
            " [  0   8 210   0   0   0]\n",
            " [  0   0   0 198   2   0]\n",
            " [  0   0   0   0 158   0]\n",
            " [  0   0   0   1   0 171]]\n",
            "              precision    recall  f1-score   support\n",
            "\n",
            "           0       1.00      1.00      1.00       223\n",
            "           1       0.96      0.95      0.96       206\n",
            "           2       0.96      0.96      0.96       218\n",
            "           3       0.99      0.99      0.99       200\n",
            "           4       0.99      1.00      0.99       158\n",
            "           5       0.99      0.99      0.99       172\n",
            "\n",
            "    accuracy                           0.98      1177\n",
            "   macro avg       0.98      0.98      0.98      1177\n",
            "weighted avg       0.98      0.98      0.98      1177\n",
            "\n"
          ]
        }
      ],
      "source": [
        "# 예측 및 평가\n",
        "y_pred = model3.predict(x_val)\n",
        "print(y_pred[:5])\n",
        "\n",
        "y_pred = np.argmax(y_pred, axis=1)\n",
        "print(y_pred[:5])\n",
        "\n",
        "print(confusion_matrix(y_val, y_pred))\n",
        "print(classification_report(y_val, y_pred))"
      ]
    },
    {
      "cell_type": "markdown",
      "metadata": {
        "id": "kSjKuMEbv1vK"
      },
      "source": [
        "### (4) 모델4 :  학습률, epoch 등 조정"
      ]
    },
    {
      "cell_type": "code",
      "execution_count": null,
      "metadata": {
        "id": "0DnEt4SR0AH7",
        "colab": {
          "base_uri": "https://localhost:8080/",
          "height": 327
        },
        "outputId": "f92d6e4f-4584-41f1-beab-731174c2d0c1"
      },
      "outputs": [
        {
          "output_type": "display_data",
          "data": {
            "text/plain": [
              "\u001b[1mModel: \"sequential\"\u001b[0m\n"
            ],
            "text/html": [
              "<pre style=\"white-space:pre;overflow-x:auto;line-height:normal;font-family:Menlo,'DejaVu Sans Mono',consolas,'Courier New',monospace\"><span style=\"font-weight: bold\">Model: \"sequential\"</span>\n",
              "</pre>\n"
            ]
          },
          "metadata": {}
        },
        {
          "output_type": "display_data",
          "data": {
            "text/plain": [
              "┏━━━━━━━━━━━━━━━━━━━━━━━━━━━━━━━━━┳━━━━━━━━━━━━━━━━━━━━━━━━┳━━━━━━━━━━━━━━━┓\n",
              "┃\u001b[1m \u001b[0m\u001b[1mLayer (type)                   \u001b[0m\u001b[1m \u001b[0m┃\u001b[1m \u001b[0m\u001b[1mOutput Shape          \u001b[0m\u001b[1m \u001b[0m┃\u001b[1m \u001b[0m\u001b[1m      Param #\u001b[0m\u001b[1m \u001b[0m┃\n",
              "┡━━━━━━━━━━━━━━━━━━━━━━━━━━━━━━━━━╇━━━━━━━━━━━━━━━━━━━━━━━━╇━━━━━━━━━━━━━━━┩\n",
              "│ dense (\u001b[38;5;33mDense\u001b[0m)                   │ (\u001b[38;5;45mNone\u001b[0m, \u001b[38;5;34m256\u001b[0m)            │       \u001b[38;5;34m143,872\u001b[0m │\n",
              "├─────────────────────────────────┼────────────────────────┼───────────────┤\n",
              "│ dense_1 (\u001b[38;5;33mDense\u001b[0m)                 │ (\u001b[38;5;45mNone\u001b[0m, \u001b[38;5;34m128\u001b[0m)            │        \u001b[38;5;34m32,896\u001b[0m │\n",
              "├─────────────────────────────────┼────────────────────────┼───────────────┤\n",
              "│ dense_2 (\u001b[38;5;33mDense\u001b[0m)                 │ (\u001b[38;5;45mNone\u001b[0m, \u001b[38;5;34m128\u001b[0m)            │        \u001b[38;5;34m16,512\u001b[0m │\n",
              "├─────────────────────────────────┼────────────────────────┼───────────────┤\n",
              "│ dense_3 (\u001b[38;5;33mDense\u001b[0m)                 │ (\u001b[38;5;45mNone\u001b[0m, \u001b[38;5;34m64\u001b[0m)             │         \u001b[38;5;34m8,256\u001b[0m │\n",
              "├─────────────────────────────────┼────────────────────────┼───────────────┤\n",
              "│ dense_4 (\u001b[38;5;33mDense\u001b[0m)                 │ (\u001b[38;5;45mNone\u001b[0m, \u001b[38;5;34m32\u001b[0m)             │         \u001b[38;5;34m2,080\u001b[0m │\n",
              "├─────────────────────────────────┼────────────────────────┼───────────────┤\n",
              "│ dense_5 (\u001b[38;5;33mDense\u001b[0m)                 │ (\u001b[38;5;45mNone\u001b[0m, \u001b[38;5;34m6\u001b[0m)              │           \u001b[38;5;34m198\u001b[0m │\n",
              "└─────────────────────────────────┴────────────────────────┴───────────────┘\n"
            ],
            "text/html": [
              "<pre style=\"white-space:pre;overflow-x:auto;line-height:normal;font-family:Menlo,'DejaVu Sans Mono',consolas,'Courier New',monospace\">┏━━━━━━━━━━━━━━━━━━━━━━━━━━━━━━━━━┳━━━━━━━━━━━━━━━━━━━━━━━━┳━━━━━━━━━━━━━━━┓\n",
              "┃<span style=\"font-weight: bold\"> Layer (type)                    </span>┃<span style=\"font-weight: bold\"> Output Shape           </span>┃<span style=\"font-weight: bold\">       Param # </span>┃\n",
              "┡━━━━━━━━━━━━━━━━━━━━━━━━━━━━━━━━━╇━━━━━━━━━━━━━━━━━━━━━━━━╇━━━━━━━━━━━━━━━┩\n",
              "│ dense (<span style=\"color: #0087ff; text-decoration-color: #0087ff\">Dense</span>)                   │ (<span style=\"color: #00d7ff; text-decoration-color: #00d7ff\">None</span>, <span style=\"color: #00af00; text-decoration-color: #00af00\">256</span>)            │       <span style=\"color: #00af00; text-decoration-color: #00af00\">143,872</span> │\n",
              "├─────────────────────────────────┼────────────────────────┼───────────────┤\n",
              "│ dense_1 (<span style=\"color: #0087ff; text-decoration-color: #0087ff\">Dense</span>)                 │ (<span style=\"color: #00d7ff; text-decoration-color: #00d7ff\">None</span>, <span style=\"color: #00af00; text-decoration-color: #00af00\">128</span>)            │        <span style=\"color: #00af00; text-decoration-color: #00af00\">32,896</span> │\n",
              "├─────────────────────────────────┼────────────────────────┼───────────────┤\n",
              "│ dense_2 (<span style=\"color: #0087ff; text-decoration-color: #0087ff\">Dense</span>)                 │ (<span style=\"color: #00d7ff; text-decoration-color: #00d7ff\">None</span>, <span style=\"color: #00af00; text-decoration-color: #00af00\">128</span>)            │        <span style=\"color: #00af00; text-decoration-color: #00af00\">16,512</span> │\n",
              "├─────────────────────────────────┼────────────────────────┼───────────────┤\n",
              "│ dense_3 (<span style=\"color: #0087ff; text-decoration-color: #0087ff\">Dense</span>)                 │ (<span style=\"color: #00d7ff; text-decoration-color: #00d7ff\">None</span>, <span style=\"color: #00af00; text-decoration-color: #00af00\">64</span>)             │         <span style=\"color: #00af00; text-decoration-color: #00af00\">8,256</span> │\n",
              "├─────────────────────────────────┼────────────────────────┼───────────────┤\n",
              "│ dense_4 (<span style=\"color: #0087ff; text-decoration-color: #0087ff\">Dense</span>)                 │ (<span style=\"color: #00d7ff; text-decoration-color: #00d7ff\">None</span>, <span style=\"color: #00af00; text-decoration-color: #00af00\">32</span>)             │         <span style=\"color: #00af00; text-decoration-color: #00af00\">2,080</span> │\n",
              "├─────────────────────────────────┼────────────────────────┼───────────────┤\n",
              "│ dense_5 (<span style=\"color: #0087ff; text-decoration-color: #0087ff\">Dense</span>)                 │ (<span style=\"color: #00d7ff; text-decoration-color: #00d7ff\">None</span>, <span style=\"color: #00af00; text-decoration-color: #00af00\">6</span>)              │           <span style=\"color: #00af00; text-decoration-color: #00af00\">198</span> │\n",
              "└─────────────────────────────────┴────────────────────────┴───────────────┘\n",
              "</pre>\n"
            ]
          },
          "metadata": {}
        },
        {
          "output_type": "display_data",
          "data": {
            "text/plain": [
              "\u001b[1m Total params: \u001b[0m\u001b[38;5;34m203,814\u001b[0m (796.15 KB)\n"
            ],
            "text/html": [
              "<pre style=\"white-space:pre;overflow-x:auto;line-height:normal;font-family:Menlo,'DejaVu Sans Mono',consolas,'Courier New',monospace\"><span style=\"font-weight: bold\"> Total params: </span><span style=\"color: #00af00; text-decoration-color: #00af00\">203,814</span> (796.15 KB)\n",
              "</pre>\n"
            ]
          },
          "metadata": {}
        },
        {
          "output_type": "display_data",
          "data": {
            "text/plain": [
              "\u001b[1m Trainable params: \u001b[0m\u001b[38;5;34m203,814\u001b[0m (796.15 KB)\n"
            ],
            "text/html": [
              "<pre style=\"white-space:pre;overflow-x:auto;line-height:normal;font-family:Menlo,'DejaVu Sans Mono',consolas,'Courier New',monospace\"><span style=\"font-weight: bold\"> Trainable params: </span><span style=\"color: #00af00; text-decoration-color: #00af00\">203,814</span> (796.15 KB)\n",
              "</pre>\n"
            ]
          },
          "metadata": {}
        },
        {
          "output_type": "display_data",
          "data": {
            "text/plain": [
              "\u001b[1m Non-trainable params: \u001b[0m\u001b[38;5;34m0\u001b[0m (0.00 B)\n"
            ],
            "text/html": [
              "<pre style=\"white-space:pre;overflow-x:auto;line-height:normal;font-family:Menlo,'DejaVu Sans Mono',consolas,'Courier New',monospace\"><span style=\"font-weight: bold\"> Non-trainable params: </span><span style=\"color: #00af00; text-decoration-color: #00af00\">0</span> (0.00 B)\n",
              "</pre>\n"
            ]
          },
          "metadata": {}
        }
      ],
      "source": [
        "# 모델 설계\n",
        "clear_session()\n",
        "\n",
        "nfeatures = x_train.shape[1]\n",
        "n_classes  = len(np.unique(y_train))\n",
        "\n",
        "model4 = Sequential([\n",
        "    Input(shape=(nfeatures, )),\n",
        "    Dense(256, activation='relu'),\n",
        "    Dense(128, activation='relu'),\n",
        "    Dense(128, activation='relu'),\n",
        "    Dense(64, activation='relu'),\n",
        "    Dense(32, activation='relu'),\n",
        "    Dense(n_classes, activation='softmax')\n",
        "])\n",
        "\n",
        "model4.summary()"
      ]
    },
    {
      "cell_type": "code",
      "execution_count": null,
      "metadata": {
        "id": "JKW9t5-b0AH8"
      },
      "outputs": [],
      "source": [
        "# 컴파일 및 학습\n",
        "model4.compile(optimizer=Adam(learning_rate=0.001), loss='sparse_categorical_crossentropy', metrics=['accuracy'] )\n",
        "\n",
        "hist = model4.fit(x_train, y_train, epochs=50, validation_split=0.2, verbose=0).history"
      ]
    },
    {
      "cell_type": "code",
      "execution_count": null,
      "metadata": {
        "id": "5LviYQi-0AH9",
        "colab": {
          "base_uri": "https://localhost:8080/",
          "height": 540
        },
        "outputId": "6613fd6e-5e2a-424a-9686-491e8d4b074a"
      },
      "outputs": [
        {
          "output_type": "display_data",
          "data": {
            "text/plain": [
              "<Figure size 1000x600 with 1 Axes>"
            ],
            "image/png": "[encoded data removed]"
          },
          "metadata": {}
        }
      ],
      "source": [
        "# 학습곡선\n",
        "dl_history_plot(hist)"
      ]
    },
    {
      "cell_type": "code",
      "execution_count": null,
      "metadata": {
        "id": "D91OxYLW0AH9",
        "colab": {
          "base_uri": "https://localhost:8080/"
        },
        "outputId": "47507955-b75d-4b37-d67b-ac15c1e6c34f"
      },
      "outputs": [
        {
          "output_type": "stream",
          "name": "stdout",
          "text": [
            "\u001b[1m37/37\u001b[0m \u001b[32m━━━━━━━━━━━━━━━━━━━━\u001b[0m\u001b[37m\u001b[0m \u001b[1m0s\u001b[0m 4ms/step\n",
            "[[9.9995869e-01 4.1064763e-05 1.1541018e-08 8.7269676e-09 5.4579320e-11\n",
            "  2.6268563e-07]\n",
            " [1.6447570e-03 9.9834126e-01 1.2473868e-05 3.2807097e-08 1.4292524e-07\n",
            "  1.4516859e-06]\n",
            " [1.1239290e-10 1.6911084e-11 3.1597047e-09 9.9999720e-01 9.4509524e-08\n",
            "  2.5862762e-06]\n",
            " [9.9999517e-01 4.7990743e-06 5.5517169e-10 4.1328288e-10 6.2181754e-13\n",
            "  8.8090326e-09]\n",
            " [1.8737812e-03 9.9747044e-01 6.2153832e-04 1.7440076e-06 1.4271400e-05\n",
            "  1.8164350e-05]]\n",
            "[0 1 3 0 1]\n",
            "[[223   0   0   0   0   0]\n",
            " [  1 198   1   0   0   6]\n",
            " [  0   9 200   0   0   9]\n",
            " [  0   0   0 183   3  14]\n",
            " [  0   0   0   0 158   0]\n",
            " [  0   0   0   0   0 172]]\n",
            "              precision    recall  f1-score   support\n",
            "\n",
            "           0       1.00      1.00      1.00       223\n",
            "           1       0.96      0.96      0.96       206\n",
            "           2       1.00      0.92      0.95       218\n",
            "           3       1.00      0.92      0.96       200\n",
            "           4       0.98      1.00      0.99       158\n",
            "           5       0.86      1.00      0.92       172\n",
            "\n",
            "    accuracy                           0.96      1177\n",
            "   macro avg       0.96      0.97      0.96      1177\n",
            "weighted avg       0.97      0.96      0.96      1177\n",
            "\n"
          ]
        }
      ],
      "source": [
        "# 예측 및 평가\n",
        "y_pred = model4.predict(x_val)\n",
        "print(y_pred[:5])\n",
        "\n",
        "y_pred = np.argmax(y_pred, axis=1)\n",
        "print(y_pred[:5])\n",
        "\n",
        "print(confusion_matrix(y_val, y_pred))\n",
        "print(classification_report(y_val, y_pred))"
      ]
    },
    {
      "cell_type": "markdown",
      "metadata": {
        "id": "_OTuXbgHzt4H"
      },
      "source": [
        "## 4.성능비교"
      ]
    },
    {
      "cell_type": "markdown",
      "metadata": {
        "id": "2TjwzbyYzt4I"
      },
      "source": [
        "* 세부 요구사항\n",
        "    - test 데이터에 대한 전처리\n",
        "    - 각 모델에 대해서 test 데이터로 성능 측정"
      ]
    },
    {
      "cell_type": "code",
      "execution_count": null,
      "metadata": {
        "id": "3Y10D1FsiNEt"
      },
      "outputs": [],
      "source": [
        "#전체 데이터 불러오기(test)\n",
        "test = pd.read_csv('data01_test.csv')\n",
        "\n",
        "# subject 삭제\n",
        "if 'subject' in test.columns:\n",
        "    test.drop('subject', axis=1, inplace=True)\n",
        "\n",
        "# x, y 분할\n",
        "x_test = test.drop('Activity', axis=1)\n",
        "y_test = test['Activity'].copy()\n",
        "\n",
        "# y : 정수인코딩 적용\n",
        "# y: LabelEncoder 적용\n",
        "# (train에서 이미 fit된 le 사용)\n",
        "y_test = le.transform(y_test)\n",
        "\n",
        "# x : 스케일링 적용\n",
        "# (train에서 fit된 scaler 사용)\n",
        "x_test = scaler.transform(x_test)"
      ]
    },
    {
      "cell_type": "code",
      "source": [
        "# 한글 표시를 위해 설치\n",
        "!pip install koreanize_matplotlib -q\n",
        "import koreanize_matplotlib"
      ],
      "metadata": {
        "id": "D_wb9QvPrheL"
      },
      "execution_count": null,
      "outputs": []
    },
    {
      "cell_type": "code",
      "execution_count": null,
      "metadata": {
        "id": "ciIQPNqriNBe",
        "colab": {
          "base_uri": "https://localhost:8080/",
          "height": 564
        },
        "outputId": "ea129199-b324-4431-f455-759635a06bc3"
      },
      "outputs": [
        {
          "output_type": "display_data",
          "data": {
            "text/plain": [
              "    Model  Test Accuracy      Loss\n",
              "0  model1       0.953773  0.159872\n",
              "1  model2       0.985044  0.161991\n",
              "2  model3       0.980286  0.144677\n",
              "3  model4       0.953773  0.159872"
            ],
            "text/html": [
              "\n",
              "  <div id=\"df-01db5d6d-0a5a-45ae-85f4-777fee3538f6\" class=\"colab-df-container\">\n",
              "    <div>\n",
              "<style scoped>\n",
              "    .dataframe tbody tr th:only-of-type {\n",
              "        vertical-align: middle;\n",
              "    }\n",
              "\n",
              "    .dataframe tbody tr th {\n",
              "        vertical-align: top;\n",
              "    }\n",
              "\n",
              "    .dataframe thead th {\n",
              "        text-align: right;\n",
              "    }\n",
              "</style>\n",
              "<table border=\"1\" class=\"dataframe\">\n",
              "  <thead>\n",
              "    <tr style=\"text-align: right;\">\n",
              "      <th></th>\n",
              "      <th>Model</th>\n",
              "      <th>Test Accuracy</th>\n",
              "      <th>Loss</th>\n",
              "    </tr>\n",
              "  </thead>\n",
              "  <tbody>\n",
              "    <tr>\n",
              "      <th>0</th>\n",
              "      <td>model1</td>\n",
              "      <td>0.953773</td>\n",
              "      <td>0.159872</td>\n",
              "    </tr>\n",
              "    <tr>\n",
              "      <th>1</th>\n",
              "      <td>model2</td>\n",
              "      <td>0.985044</td>\n",
              "      <td>0.161991</td>\n",
              "    </tr>\n",
              "    <tr>\n",
              "      <th>2</th>\n",
              "      <td>model3</td>\n",
              "      <td>0.980286</td>\n",
              "      <td>0.144677</td>\n",
              "    </tr>\n",
              "    <tr>\n",
              "      <th>3</th>\n",
              "      <td>model4</td>\n",
              "      <td>0.953773</td>\n",
              "      <td>0.159872</td>\n",
              "    </tr>\n",
              "  </tbody>\n",
              "</table>\n",
              "</div>\n",
              "    <div class=\"colab-df-buttons\">\n",
              "\n",
              "  <div class=\"colab-df-container\">\n",
              "    <button class=\"colab-df-convert\" onclick=\"convertToInteractive('df-01db5d6d-0a5a-45ae-85f4-777fee3538f6')\"\n",
              "            title=\"Convert this dataframe to an interactive table.\"\n",
              "            style=\"display:none;\">\n",
              "\n",
              "  <svg xmlns=\"http://www.w3.org/2000/svg\" height=\"24px\" viewBox=\"0 -960 960 960\">\n",
              "    <path d=\"M120-120v-720h720v720H120Zm60-500h600v-160H180v160Zm220 220h160v-160H400v160Zm0 220h160v-160H400v160ZM180-400h160v-160H180v160Zm440 0h160v-160H620v160ZM180-180h160v-160H180v160Zm440 0h160v-160H620v160Z\"/>\n",
              "  </svg>\n",
              "    </button>\n",
              "\n",
              "  <style>\n",
              "    .colab-df-container {\n",
              "      display:flex;\n",
              "      gap: 12px;\n",
              "    }\n",
              "\n",
              "    .colab-df-convert {\n",
              "      background-color: #E8F0FE;\n",
              "      border: none;\n",
              "      border-radius: 50%;\n",
              "      cursor: pointer;\n",
              "      display: none;\n",
              "      fill: #1967D2;\n",
              "      height: 32px;\n",
              "      padding: 0 0 0 0;\n",
              "      width: 32px;\n",
              "    }\n",
              "\n",
              "    .colab-df-convert:hover {\n",
              "      background-color: #E2EBFA;\n",
              "      box-shadow: 0px 1px 2px rgba(60, 64, 67, 0.3), 0px 1px 3px 1px rgba(60, 64, 67, 0.15);\n",
              "      fill: #174EA6;\n",
              "    }\n",
              "\n",
              "    .colab-df-buttons div {\n",
              "      margin-bottom: 4px;\n",
              "    }\n",
              "\n",
              "    [theme=dark] .colab-df-convert {\n",
              "      background-color: #3B4455;\n",
              "      fill: #D2E3FC;\n",
              "    }\n",
              "\n",
              "    [theme=dark] .colab-df-convert:hover {\n",
              "      background-color: #434B5C;\n",
              "      box-shadow: 0px 1px 3px 1px rgba(0, 0, 0, 0.15);\n",
              "      filter: drop-shadow(0px 1px 2px rgba(0, 0, 0, 0.3));\n",
              "      fill: #FFFFFF;\n",
              "    }\n",
              "  </style>\n",
              "\n",
              "    <script>\n",
              "      const buttonEl =\n",
              "        document.querySelector('#df-01db5d6d-0a5a-45ae-85f4-777fee3538f6 button.colab-df-convert');\n",
              "      buttonEl.style.display =\n",
              "        google.colab.kernel.accessAllowed ? 'block' : 'none';\n",
              "\n",
              "      async function convertToInteractive(key) {\n",
              "        const element = document.querySelector('#df-01db5d6d-0a5a-45ae-85f4-777fee3538f6');\n",
              "        const dataTable =\n",
              "          await google.colab.kernel.invokeFunction('convertToInteractive',\n",
              "                                                    [key], {});\n",
              "        if (!dataTable) return;\n",
              "\n",
              "        const docLinkHtml = 'Like what you see? Visit the ' +\n",
              "          '<a target=\"_blank\" href=https://colab.research.google.com/notebooks/data_table.ipynb>data table notebook</a>'\n",
              "          + ' to learn more about interactive tables.';\n",
              "        element.innerHTML = '';\n",
              "        dataTable['output_type'] = 'display_data';\n",
              "        await google.colab.output.renderOutput(dataTable, element);\n",
              "        const docLink = document.createElement('div');\n",
              "        docLink.innerHTML = docLinkHtml;\n",
              "        element.appendChild(docLink);\n",
              "      }\n",
              "    </script>\n",
              "  </div>\n",
              "\n",
              "\n",
              "    <div id=\"df-faf972fc-011f-4331-9cc0-e4995cc3646c\">\n",
              "      <button class=\"colab-df-quickchart\" onclick=\"quickchart('df-faf972fc-011f-4331-9cc0-e4995cc3646c')\"\n",
              "                title=\"Suggest charts\"\n",
              "                style=\"display:none;\">\n",
              "\n",
              "<svg xmlns=\"http://www.w3.org/2000/svg\" height=\"24px\"viewBox=\"0 0 24 24\"\n",
              "     width=\"24px\">\n",
              "    <g>\n",
              "        <path d=\"M19 3H5c-1.1 0-2 .9-2 2v14c0 1.1.9 2 2 2h14c1.1 0 2-.9 2-2V5c0-1.1-.9-2-2-2zM9 17H7v-7h2v7zm4 0h-2V7h2v10zm4 0h-2v-4h2v4z\"/>\n",
              "    </g>\n",
              "</svg>\n",
              "      </button>\n",
              "\n",
              "<style>\n",
              "  .colab-df-quickchart {\n",
              "      --bg-color: #E8F0FE;\n",
              "      --fill-color: #1967D2;\n",
              "      --hover-bg-color: #E2EBFA;\n",
              "      --hover-fill-color: #174EA6;\n",
              "      --disabled-fill-color: #AAA;\n",
              "      --disabled-bg-color: #DDD;\n",
              "  }\n",
              "\n",
              "  [theme=dark] .colab-df-quickchart {\n",
              "      --bg-color: #3B4455;\n",
              "      --fill-color: #D2E3FC;\n",
              "      --hover-bg-color: #434B5C;\n",
              "      --hover-fill-color: #FFFFFF;\n",
              "      --disabled-bg-color: #3B4455;\n",
              "      --disabled-fill-color: #666;\n",
              "  }\n",
              "\n",
              "  .colab-df-quickchart {\n",
              "    background-color: var(--bg-color);\n",
              "    border: none;\n",
              "    border-radius: 50%;\n",
              "    cursor: pointer;\n",
              "    display: none;\n",
              "    fill: var(--fill-color);\n",
              "    height: 32px;\n",
              "    padding: 0;\n",
              "    width: 32px;\n",
              "  }\n",
              "\n",
              "  .colab-df-quickchart:hover {\n",
              "    background-color: var(--hover-bg-color);\n",
              "    box-shadow: 0 1px 2px rgba(60, 64, 67, 0.3), 0 1px 3px 1px rgba(60, 64, 67, 0.15);\n",
              "    fill: var(--button-hover-fill-color);\n",
              "  }\n",
              "\n",
              "  .colab-df-quickchart-complete:disabled,\n",
              "  .colab-df-quickchart-complete:disabled:hover {\n",
              "    background-color: var(--disabled-bg-color);\n",
              "    fill: var(--disabled-fill-color);\n",
              "    box-shadow: none;\n",
              "  }\n",
              "\n",
              "  .colab-df-spinner {\n",
              "    border: 2px solid var(--fill-color);\n",
              "    border-color: transparent;\n",
              "    border-bottom-color: var(--fill-color);\n",
              "    animation:\n",
              "      spin 1s steps(1) infinite;\n",
              "  }\n",
              "\n",
              "  @keyframes spin {\n",
              "    0% {\n",
              "      border-color: transparent;\n",
              "      border-bottom-color: var(--fill-color);\n",
              "      border-left-color: var(--fill-color);\n",
              "    }\n",
              "    20% {\n",
              "      border-color: transparent;\n",
              "      border-left-color: var(--fill-color);\n",
              "      border-top-color: var(--fill-color);\n",
              "    }\n",
              "    30% {\n",
              "      border-color: transparent;\n",
              "      border-left-color: var(--fill-color);\n",
              "      border-top-color: var(--fill-color);\n",
              "      border-right-color: var(--fill-color);\n",
              "    }\n",
              "    40% {\n",
              "      border-color: transparent;\n",
              "      border-right-color: var(--fill-color);\n",
              "      border-top-color: var(--fill-color);\n",
              "    }\n",
              "    60% {\n",
              "      border-color: transparent;\n",
              "      border-right-color: var(--fill-color);\n",
              "    }\n",
              "    80% {\n",
              "      border-color: transparent;\n",
              "      border-right-color: var(--fill-color);\n",
              "      border-bottom-color: var(--fill-color);\n",
              "    }\n",
              "    90% {\n",
              "      border-color: transparent;\n",
              "      border-bottom-color: var(--fill-color);\n",
              "    }\n",
              "  }\n",
              "</style>\n",
              "\n",
              "      <script>\n",
              "        async function quickchart(key) {\n",
              "          const quickchartButtonEl =\n",
              "            document.querySelector('#' + key + ' button');\n",
              "          quickchartButtonEl.disabled = true;  // To prevent multiple clicks.\n",
              "          quickchartButtonEl.classList.add('colab-df-spinner');\n",
              "          try {\n",
              "            const charts = await google.colab.kernel.invokeFunction(\n",
              "                'suggestCharts', [key], {});\n",
              "          } catch (error) {\n",
              "            console.error('Error during call to suggestCharts:', error);\n",
              "          }\n",
              "          quickchartButtonEl.classList.remove('colab-df-spinner');\n",
              "          quickchartButtonEl.classList.add('colab-df-quickchart-complete');\n",
              "        }\n",
              "        (() => {\n",
              "          let quickchartButtonEl =\n",
              "            document.querySelector('#df-faf972fc-011f-4331-9cc0-e4995cc3646c button');\n",
              "          quickchartButtonEl.style.display =\n",
              "            google.colab.kernel.accessAllowed ? 'block' : 'none';\n",
              "        })();\n",
              "      </script>\n",
              "    </div>\n",
              "\n",
              "  <div id=\"id_21b37534-d7b9-49e5-ba43-78fe1cbfa9a4\">\n",
              "    <style>\n",
              "      .colab-df-generate {\n",
              "        background-color: #E8F0FE;\n",
              "        border: none;\n",
              "        border-radius: 50%;\n",
              "        cursor: pointer;\n",
              "        display: none;\n",
              "        fill: #1967D2;\n",
              "        height: 32px;\n",
              "        padding: 0 0 0 0;\n",
              "        width: 32px;\n",
              "      }\n",
              "\n",
              "      .colab-df-generate:hover {\n",
              "        background-color: #E2EBFA;\n",
              "        box-shadow: 0px 1px 2px rgba(60, 64, 67, 0.3), 0px 1px 3px 1px rgba(60, 64, 67, 0.15);\n",
              "        fill: #174EA6;\n",
              "      }\n",
              "\n",
              "      [theme=dark] .colab-df-generate {\n",
              "        background-color: #3B4455;\n",
              "        fill: #D2E3FC;\n",
              "      }\n",
              "\n",
              "      [theme=dark] .colab-df-generate:hover {\n",
              "        background-color: #434B5C;\n",
              "        box-shadow: 0px 1px 3px 1px rgba(0, 0, 0, 0.15);\n",
              "        filter: drop-shadow(0px 1px 2px rgba(0, 0, 0, 0.3));\n",
              "        fill: #FFFFFF;\n",
              "      }\n",
              "    </style>\n",
              "    <button class=\"colab-df-generate\" onclick=\"generateWithVariable('results_df')\"\n",
              "            title=\"Generate code using this dataframe.\"\n",
              "            style=\"display:none;\">\n",
              "\n",
              "  <svg xmlns=\"http://www.w3.org/2000/svg\" height=\"24px\"viewBox=\"0 0 24 24\"\n",
              "       width=\"24px\">\n",
              "    <path d=\"M7,19H8.4L18.45,9,17,7.55,7,17.6ZM5,21V16.75L18.45,3.32a2,2,0,0,1,2.83,0l1.4,1.43a1.91,1.91,0,0,1,.58,1.4,1.91,1.91,0,0,1-.58,1.4L9.25,21ZM18.45,9,17,7.55Zm-12,3A5.31,5.31,0,0,0,4.9,8.1,5.31,5.31,0,0,0,1,6.5,5.31,5.31,0,0,0,4.9,4.9,5.31,5.31,0,0,0,6.5,1,5.31,5.31,0,0,0,8.1,4.9,5.31,5.31,0,0,0,12,6.5,5.46,5.46,0,0,0,6.5,12Z\"/>\n",
              "  </svg>\n",
              "    </button>\n",
              "    <script>\n",
              "      (() => {\n",
              "      const buttonEl =\n",
              "        document.querySelector('#id_21b37534-d7b9-49e5-ba43-78fe1cbfa9a4 button.colab-df-generate');\n",
              "      buttonEl.style.display =\n",
              "        google.colab.kernel.accessAllowed ? 'block' : 'none';\n",
              "\n",
              "      buttonEl.onclick = () => {\n",
              "        google.colab.notebook.generateWithVariable('results_df');\n",
              "      }\n",
              "      })();\n",
              "    </script>\n",
              "  </div>\n",
              "\n",
              "    </div>\n",
              "  </div>\n"
            ],
            "application/vnd.google.colaboratory.intrinsic+json": {
              "type": "dataframe",
              "variable_name": "results_df",
              "summary": "{\n  \"name\": \"results_df\",\n  \"rows\": 4,\n  \"fields\": [\n    {\n      \"column\": \"Model\",\n      \"properties\": {\n        \"dtype\": \"string\",\n        \"num_unique_values\": 4,\n        \"samples\": [\n          \"model2\",\n          \"model4\",\n          \"model1\"\n        ],\n        \"semantic_type\": \"\",\n        \"description\": \"\"\n      }\n    },\n    {\n      \"column\": \"Test Accuracy\",\n      \"properties\": {\n        \"dtype\": \"number\",\n        \"std\": 0.016793488649551457,\n        \"min\": 0.9537729620933533,\n        \"max\": 0.9850441813468933,\n        \"num_unique_values\": 3,\n        \"samples\": [\n          0.9537729620933533,\n          0.9850441813468933,\n          0.9802855253219604\n        ],\n        \"semantic_type\": \"\",\n        \"description\": \"\"\n      }\n    },\n    {\n      \"column\": \"Loss\",\n      \"properties\": {\n        \"dtype\": \"number\",\n        \"std\": 0.008013056233291066,\n        \"min\": 0.14467689394950867,\n        \"max\": 0.16199058294296265,\n        \"num_unique_values\": 3,\n        \"samples\": [\n          0.15987172722816467,\n          0.16199058294296265,\n          0.14467689394950867\n        ],\n        \"semantic_type\": \"\",\n        \"description\": \"\"\n      }\n    }\n  ]\n}"
            }
          },
          "metadata": {}
        },
        {
          "output_type": "display_data",
          "data": {
            "text/plain": [
              "<Figure size 700x400 with 1 Axes>"
            ],
            "image/png": "[encoded data removed]"
          },
          "metadata": {}
        }
      ],
      "source": [
        "# test 데이터에 대한 성능 측정\n",
        "# model1, model2, model3, model4를 x_test, y_test로 평가\n",
        "#.evaluate()는 Keras 모델에서 (loss, accuracy) 반환\n",
        "#결과를 DataFrame으로 정리해 시각화 및 비교\n",
        "results = []\n",
        "\n",
        "for i, model in enumerate([model, model2, model3, model4], start=1):\n",
        "    loss, acc = model.evaluate(x_test, y_test, verbose=0)\n",
        "    results.append({'Model': f'model{i}', 'Test Accuracy': acc, 'Loss': loss})\n",
        "\n",
        "results_df = pd.DataFrame(results)\n",
        "display(results_df)\n",
        "\n",
        "\n",
        "# 시각화 (옵션)\n",
        "plt.figure(figsize=(7, 4))\n",
        "sns.barplot(x='Model', y='Test Accuracy', data=results_df)\n",
        "plt.title('모델별 Test Accuracy 비교')\n",
        "plt.ylim(0, 1)\n",
        "plt.grid(axis='y')\n",
        "plt.show()"
      ]
    },
    {
      "cell_type": "markdown",
      "metadata": {
        "id": "VNCb3B8WHOog"
      },
      "source": [
        "#### 고생하셨습니다! 이제 단계적 모델링을 해봅시다."
      ]
    }
  ],
  "metadata": {
    "colab": {
      "provenance": [],
      "include_colab_link": true
    },
    "kernelspec": {
      "display_name": "Python 3",
      "name": "python3"
    },
    "language_info": {
      "name": "python"
    }
  },
  "nbformat": 4,
  "nbformat_minor": 0
}