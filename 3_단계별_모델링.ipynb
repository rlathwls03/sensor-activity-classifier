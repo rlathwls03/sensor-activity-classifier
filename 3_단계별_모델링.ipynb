{
  "cells": [
    {
      "cell_type": "markdown",
      "metadata": {
        "id": "view-in-github",
        "colab_type": "text"
      },
      "source": [
        "<a href=\"https://colab.research.google.com/github/rlathwls03/sensor-activity-classifier/blob/main/3_%EB%8B%A8%EA%B3%84%EB%B3%84_%EB%AA%A8%EB%8D%B8%EB%A7%81.ipynb\" target=\"_parent\"><img src=\"https://colab.research.google.com/assets/colab-badge.svg\" alt=\"Open In Colab\"/></a>"
      ]
    },
    {
      "cell_type": "markdown",
      "metadata": {
        "id": "NbI_RoQ9AP5r"
      },
      "source": [
        "#**스마트폰 센서 데이터 기반 모션 분류**\n",
        "# 단계3 : 단계별 모델링\n"
      ]
    },
    {
      "cell_type": "markdown",
      "metadata": {
        "id": "JmtZXcVs0IXm"
      },
      "source": [
        "## 0.미션4"
      ]
    },
    {
      "cell_type": "markdown",
      "metadata": {
        "id": "1Q7N3tIf0IXn"
      },
      "source": [
        "* 단계별로 나눠서 모델링을 수행하고자 합니다.  \n",
        "* 단계 구분 예시\n",
        "    * 단계1 : 정적(0), 동적(1) 행동 분류 모델 생성\n",
        "    * 단계2 : 세부 동작에 대한 분류모델 생성\n",
        "        * 단계1 모델에서 0으로 예측 -> 정적 행동 3가지 분류 모델링\n",
        "        * 단계1 모델에서 1으로 예측 -> 동적 행동 3가지 분류 모델링\n",
        "* (선택) 모델 통합\n",
        "    * 두 단계 모델을 통합하고, 새로운 데이터에 대해서 최종 예측결과와 성능평가가 나오도록 함수로 만들기\n",
        "* 성능 비교\n",
        "    * 기본 모델링의 성능과 비교\n",
        "    * 성능 가이드\n",
        "        * Accuracy : 0.97 ~ 0.99\n",
        "* (선택) 파이프라인 구성\n",
        "    * test 데이터를 입력하여, 전처리 및 예측결과가 나오도록 함수 구성"
      ]
    },
    {
      "cell_type": "markdown",
      "metadata": {
        "id": "rgiFiMnzd3Jn"
      },
      "source": [
        "## 1.환경설정"
      ]
    },
    {
      "cell_type": "markdown",
      "metadata": {
        "id": "0fDUoBYfd3Jx"
      },
      "source": [
        "* 세부 요구사항\n",
        "    - 경로 설정 : 구글콜랩\n",
        "        * 구글 드라이브 바로 밑에 project1 폴더를 만들고,\n",
        "        * 데이터 파일을 복사해 넣습니다.\n",
        "    - 기본적으로 필요한 라이브러리를 import 하도록 코드가 작성되어 있습니다.\n",
        "        * 필요하다고 판단되는 라이브러리를 추가하세요.\n"
      ]
    },
    {
      "cell_type": "markdown",
      "metadata": {
        "id": "EP6x0_Qrd3Jx"
      },
      "source": [
        "### (1) 경로 설정"
      ]
    },
    {
      "cell_type": "markdown",
      "metadata": {
        "id": "Nc5ajfyHd3Jx"
      },
      "source": [
        "* 구글 드라이브 연결"
      ]
    },
    {
      "cell_type": "code",
      "execution_count": null,
      "metadata": {
        "id": "Ic8ZeFKcd3Jx",
        "colab": {
          "base_uri": "https://localhost:8080/"
        },
        "outputId": "44f743fe-8ba8-414d-de65-ff9eccfbf11d"
      },
      "outputs": [
        {
          "output_type": "stream",
          "name": "stdout",
          "text": [
            "Drive already mounted at /content/drive; to attempt to forcibly remount, call drive.mount(\"/content/drive\", force_remount=True).\n"
          ]
        }
      ],
      "source": [
        "from google.colab import drive\n",
        "drive.mount('/content/drive')"
      ]
    },
    {
      "cell_type": "code",
      "execution_count": null,
      "metadata": {
        "id": "rR-drTHhd3Jx",
        "colab": {
          "base_uri": "https://localhost:8080/"
        },
        "outputId": "b60882ce-4c0c-4fdc-e4c8-7c457d23e980"
      },
      "outputs": [
        {
          "output_type": "stream",
          "name": "stdout",
          "text": [
            "/content/drive/MyDrive/project2\n",
            "'1.탐색적 데이터 분석.ipynb'\t        data01_train.csv\n",
            "'1.탐색적 데이터 분석_추가과제.ipynb'   desktop.ini\n",
            "'2.기본 모델링.ipynb'\t\t        feature_importance_all.pkl\n",
            "'3.단계별 모델링.ipynb'\t\t        features.csv\n",
            "'AI 미프 1차 과제2_OO반_OO조.pptx'     'features 설명.xlsx'\n",
            " data01_test.csv\n"
          ]
        }
      ],
      "source": [
        "path = '/content/drive/MyDrive/project2/'\n",
        "%cd '/content/drive/MyDrive/project2/'\n",
        "!ls"
      ]
    },
    {
      "cell_type": "markdown",
      "metadata": {
        "id": "Tqpjn1W3d3Jx"
      },
      "source": [
        "### (2) 라이브러리 불러오기"
      ]
    },
    {
      "cell_type": "markdown",
      "metadata": {
        "id": "-ZxRcPNqd3Jy"
      },
      "source": [
        "* 라이브러리 로딩\n",
        "  - pandas, numpy,matplotlib,seaborn, joblib, 모델링에 필요한 라이브러리를 로딩합니다."
      ]
    },
    {
      "cell_type": "code",
      "execution_count": null,
      "metadata": {
        "id": "___ks_QAd3Jy"
      },
      "outputs": [],
      "source": [
        "import pandas as pd\n",
        "import numpy as np\n",
        "import matplotlib.pyplot as plt\n",
        "import seaborn as sns\n",
        "\n",
        "import joblib\n",
        "\n",
        "from sklearn.model_selection import train_test_split\n",
        "from sklearn.preprocessing import MinMaxScaler, LabelEncoder\n",
        "from sklearn.metrics import *\n",
        "\n",
        "from keras.models import Sequential\n",
        "from keras.layers import Dense, Flatten, Dropout\n",
        "from keras.backend import clear_session\n",
        "from keras.optimizers import Adam"
      ]
    },
    {
      "cell_type": "code",
      "source": [
        "# 한글 표시를 위해 설치\n",
        "!pip install koreanize_matplotlib -q\n",
        "import koreanize_matplotlib"
      ],
      "metadata": {
        "id": "0PJhhOeRr8Tq"
      },
      "execution_count": null,
      "outputs": []
    },
    {
      "cell_type": "code",
      "execution_count": null,
      "metadata": {
        "id": "3c4JgiEbNKfo"
      },
      "outputs": [],
      "source": [
        "# 학습곡선 함수\n",
        "def dl_history_plot(history):\n",
        "    plt.figure(figsize=(10,6))\n",
        "    plt.plot(history['loss'], label='train_err', marker = '.')\n",
        "    plt.plot(history['val_loss'], label='val_err', marker = '.')\n",
        "\n",
        "    plt.ylabel('Loss')\n",
        "    plt.xlabel('Epoch')\n",
        "    plt.legend()\n",
        "    plt.grid()\n",
        "    plt.show()"
      ]
    },
    {
      "cell_type": "markdown",
      "metadata": {
        "id": "bA-eHXdwBDCz"
      },
      "source": [
        "### (3) 데이터 불러오기"
      ]
    },
    {
      "cell_type": "markdown",
      "metadata": {
        "id": "tDueQoA3d3Jy"
      },
      "source": [
        "* 주어진 데이터셋\n",
        "    * data01_train.csv : 학습 및 검증용\n",
        "    * data01_test.csv : 테스트용\n",
        "    * feature.csv : feature 이름을 계층구조로 정리한 데이터\n",
        "\n",
        "* 세부 요구사항\n",
        "    * 칼럼 삭제 : data01_train.csv와 data01_test.csv 에서 'subject' 칼럼은 불필요하므로 삭제합니다."
      ]
    },
    {
      "cell_type": "markdown",
      "metadata": {
        "id": "fmgUEGOipvG5"
      },
      "source": [
        "#### 1) 데이터로딩"
      ]
    },
    {
      "cell_type": "code",
      "execution_count": null,
      "metadata": {
        "id": "HdZCcSs6qfRC"
      },
      "outputs": [],
      "source": [
        "# 주어진 데이터 셋을 불러오세요.(3개)\n",
        "train = pd.read_csv('data01_train.csv')\n",
        "test = pd.read_csv('data01_test.csv')\n",
        "features = pd.read_csv('features.csv')"
      ]
    },
    {
      "cell_type": "code",
      "execution_count": null,
      "metadata": {
        "id": "V8tUE_fyqfRC"
      },
      "outputs": [],
      "source": [
        "#불필요한 칼럼을 삭제하세요."
      ]
    },
    {
      "cell_type": "code",
      "execution_count": null,
      "metadata": {
        "id": "FcUbOi_-qfRC",
        "colab": {
          "base_uri": "https://localhost:8080/",
          "height": 272
        },
        "outputId": "7a1ee8a6-d680-4b51-c203-a9b20c2ca8d6"
      },
      "outputs": [
        {
          "output_type": "execute_result",
          "data": {
            "text/plain": [
              "   tBodyAcc-mean()-X  tBodyAcc-mean()-Y  tBodyAcc-mean()-Z  tBodyAcc-std()-X  \\\n",
              "0           0.288508          -0.009196          -0.103362         -0.988986   \n",
              "1           0.265757          -0.016576          -0.098163         -0.989551   \n",
              "2           0.278709          -0.014511          -0.108717         -0.997720   \n",
              "3           0.289795          -0.035536          -0.150354         -0.231727   \n",
              "4           0.394807           0.034098           0.091229          0.088489   \n",
              "\n",
              "   tBodyAcc-std()-Y  tBodyAcc-std()-Z  tBodyAcc-mad()-X  tBodyAcc-mad()-Y  \\\n",
              "0         -0.962797         -0.967422         -0.989000         -0.962596   \n",
              "1         -0.994636         -0.987435         -0.990189         -0.993870   \n",
              "2         -0.981088         -0.994008         -0.997934         -0.982187   \n",
              "3         -0.006412         -0.338117         -0.273557          0.014245   \n",
              "4         -0.106636         -0.388502         -0.010469         -0.109680   \n",
              "\n",
              "   tBodyAcc-mad()-Z  tBodyAcc-max()-X  ...  fBodyBodyGyroJerkMag-skewness()  \\\n",
              "0         -0.965650         -0.929747  ...                        -0.487737   \n",
              "1         -0.987558         -0.937337  ...                        -0.237820   \n",
              "2         -0.995017         -0.942584  ...                        -0.535287   \n",
              "3         -0.347916          0.008288  ...                        -0.004012   \n",
              "4         -0.346372          0.584131  ...                        -0.157832   \n",
              "\n",
              "   fBodyBodyGyroJerkMag-kurtosis()  angle(tBodyAccMean,gravity)  \\\n",
              "0                        -0.816696                    -0.042494   \n",
              "1                        -0.693515                    -0.062899   \n",
              "2                        -0.829311                     0.000265   \n",
              "3                        -0.408956                    -0.255125   \n",
              "4                        -0.563437                    -0.044344   \n",
              "\n",
              "   angle(tBodyAccJerkMean),gravityMean)  angle(tBodyGyroMean,gravityMean)  \\\n",
              "0                             -0.044218                          0.307873   \n",
              "1                              0.388459                         -0.765014   \n",
              "2                             -0.525022                         -0.891875   \n",
              "3                              0.612804                          0.747381   \n",
              "4                             -0.845268                         -0.974650   \n",
              "\n",
              "   angle(tBodyGyroJerkMean,gravityMean)  angle(X,gravityMean)  \\\n",
              "0                              0.072790             -0.601120   \n",
              "1                              0.771524              0.345205   \n",
              "2                              0.021528             -0.833564   \n",
              "3                             -0.072944             -0.695819   \n",
              "4                             -0.887846             -0.705029   \n",
              "\n",
              "   angle(Y,gravityMean)  angle(Z,gravityMean)            Activity  \n",
              "0              0.331298              0.165163            STANDING  \n",
              "1             -0.769186             -0.147944              LAYING  \n",
              "2              0.202434             -0.032755            STANDING  \n",
              "3              0.287154              0.111388             WALKING  \n",
              "4              0.264952              0.137758  WALKING_DOWNSTAIRS  \n",
              "\n",
              "[5 rows x 562 columns]"
            ],
            "text/html": [
              "\n",
              "  <div id=\"df-a0f4025e-3ff1-4176-9016-861210c007f2\" class=\"colab-df-container\">\n",
              "    <div>\n",
              "<style scoped>\n",
              "    .dataframe tbody tr th:only-of-type {\n",
              "        vertical-align: middle;\n",
              "    }\n",
              "\n",
              "    .dataframe tbody tr th {\n",
              "        vertical-align: top;\n",
              "    }\n",
              "\n",
              "    .dataframe thead th {\n",
              "        text-align: right;\n",
              "    }\n",
              "</style>\n",
              "<table border=\"1\" class=\"dataframe\">\n",
              "  <thead>\n",
              "    <tr style=\"text-align: right;\">\n",
              "      <th></th>\n",
              "      <th>tBodyAcc-mean()-X</th>\n",
              "      <th>tBodyAcc-mean()-Y</th>\n",
              "      <th>tBodyAcc-mean()-Z</th>\n",
              "      <th>tBodyAcc-std()-X</th>\n",
              "      <th>tBodyAcc-std()-Y</th>\n",
              "      <th>tBodyAcc-std()-Z</th>\n",
              "      <th>tBodyAcc-mad()-X</th>\n",
              "      <th>tBodyAcc-mad()-Y</th>\n",
              "      <th>tBodyAcc-mad()-Z</th>\n",
              "      <th>tBodyAcc-max()-X</th>\n",
              "      <th>...</th>\n",
              "      <th>fBodyBodyGyroJerkMag-skewness()</th>\n",
              "      <th>fBodyBodyGyroJerkMag-kurtosis()</th>\n",
              "      <th>angle(tBodyAccMean,gravity)</th>\n",
              "      <th>angle(tBodyAccJerkMean),gravityMean)</th>\n",
              "      <th>angle(tBodyGyroMean,gravityMean)</th>\n",
              "      <th>angle(tBodyGyroJerkMean,gravityMean)</th>\n",
              "      <th>angle(X,gravityMean)</th>\n",
              "      <th>angle(Y,gravityMean)</th>\n",
              "      <th>angle(Z,gravityMean)</th>\n",
              "      <th>Activity</th>\n",
              "    </tr>\n",
              "  </thead>\n",
              "  <tbody>\n",
              "    <tr>\n",
              "      <th>0</th>\n",
              "      <td>0.288508</td>\n",
              "      <td>-0.009196</td>\n",
              "      <td>-0.103362</td>\n",
              "      <td>-0.988986</td>\n",
              "      <td>-0.962797</td>\n",
              "      <td>-0.967422</td>\n",
              "      <td>-0.989000</td>\n",
              "      <td>-0.962596</td>\n",
              "      <td>-0.965650</td>\n",
              "      <td>-0.929747</td>\n",
              "      <td>...</td>\n",
              "      <td>-0.487737</td>\n",
              "      <td>-0.816696</td>\n",
              "      <td>-0.042494</td>\n",
              "      <td>-0.044218</td>\n",
              "      <td>0.307873</td>\n",
              "      <td>0.072790</td>\n",
              "      <td>-0.601120</td>\n",
              "      <td>0.331298</td>\n",
              "      <td>0.165163</td>\n",
              "      <td>STANDING</td>\n",
              "    </tr>\n",
              "    <tr>\n",
              "      <th>1</th>\n",
              "      <td>0.265757</td>\n",
              "      <td>-0.016576</td>\n",
              "      <td>-0.098163</td>\n",
              "      <td>-0.989551</td>\n",
              "      <td>-0.994636</td>\n",
              "      <td>-0.987435</td>\n",
              "      <td>-0.990189</td>\n",
              "      <td>-0.993870</td>\n",
              "      <td>-0.987558</td>\n",
              "      <td>-0.937337</td>\n",
              "      <td>...</td>\n",
              "      <td>-0.237820</td>\n",
              "      <td>-0.693515</td>\n",
              "      <td>-0.062899</td>\n",
              "      <td>0.388459</td>\n",
              "      <td>-0.765014</td>\n",
              "      <td>0.771524</td>\n",
              "      <td>0.345205</td>\n",
              "      <td>-0.769186</td>\n",
              "      <td>-0.147944</td>\n",
              "      <td>LAYING</td>\n",
              "    </tr>\n",
              "    <tr>\n",
              "      <th>2</th>\n",
              "      <td>0.278709</td>\n",
              "      <td>-0.014511</td>\n",
              "      <td>-0.108717</td>\n",
              "      <td>-0.997720</td>\n",
              "      <td>-0.981088</td>\n",
              "      <td>-0.994008</td>\n",
              "      <td>-0.997934</td>\n",
              "      <td>-0.982187</td>\n",
              "      <td>-0.995017</td>\n",
              "      <td>-0.942584</td>\n",
              "      <td>...</td>\n",
              "      <td>-0.535287</td>\n",
              "      <td>-0.829311</td>\n",
              "      <td>0.000265</td>\n",
              "      <td>-0.525022</td>\n",
              "      <td>-0.891875</td>\n",
              "      <td>0.021528</td>\n",
              "      <td>-0.833564</td>\n",
              "      <td>0.202434</td>\n",
              "      <td>-0.032755</td>\n",
              "      <td>STANDING</td>\n",
              "    </tr>\n",
              "    <tr>\n",
              "      <th>3</th>\n",
              "      <td>0.289795</td>\n",
              "      <td>-0.035536</td>\n",
              "      <td>-0.150354</td>\n",
              "      <td>-0.231727</td>\n",
              "      <td>-0.006412</td>\n",
              "      <td>-0.338117</td>\n",
              "      <td>-0.273557</td>\n",
              "      <td>0.014245</td>\n",
              "      <td>-0.347916</td>\n",
              "      <td>0.008288</td>\n",
              "      <td>...</td>\n",
              "      <td>-0.004012</td>\n",
              "      <td>-0.408956</td>\n",
              "      <td>-0.255125</td>\n",
              "      <td>0.612804</td>\n",
              "      <td>0.747381</td>\n",
              "      <td>-0.072944</td>\n",
              "      <td>-0.695819</td>\n",
              "      <td>0.287154</td>\n",
              "      <td>0.111388</td>\n",
              "      <td>WALKING</td>\n",
              "    </tr>\n",
              "    <tr>\n",
              "      <th>4</th>\n",
              "      <td>0.394807</td>\n",
              "      <td>0.034098</td>\n",
              "      <td>0.091229</td>\n",
              "      <td>0.088489</td>\n",
              "      <td>-0.106636</td>\n",
              "      <td>-0.388502</td>\n",
              "      <td>-0.010469</td>\n",
              "      <td>-0.109680</td>\n",
              "      <td>-0.346372</td>\n",
              "      <td>0.584131</td>\n",
              "      <td>...</td>\n",
              "      <td>-0.157832</td>\n",
              "      <td>-0.563437</td>\n",
              "      <td>-0.044344</td>\n",
              "      <td>-0.845268</td>\n",
              "      <td>-0.974650</td>\n",
              "      <td>-0.887846</td>\n",
              "      <td>-0.705029</td>\n",
              "      <td>0.264952</td>\n",
              "      <td>0.137758</td>\n",
              "      <td>WALKING_DOWNSTAIRS</td>\n",
              "    </tr>\n",
              "  </tbody>\n",
              "</table>\n",
              "<p>5 rows × 562 columns</p>\n",
              "</div>\n",
              "    <div class=\"colab-df-buttons\">\n",
              "\n",
              "  <div class=\"colab-df-container\">\n",
              "    <button class=\"colab-df-convert\" onclick=\"convertToInteractive('df-a0f4025e-3ff1-4176-9016-861210c007f2')\"\n",
              "            title=\"Convert this dataframe to an interactive table.\"\n",
              "            style=\"display:none;\">\n",
              "\n",
              "  <svg xmlns=\"http://www.w3.org/2000/svg\" height=\"24px\" viewBox=\"0 -960 960 960\">\n",
              "    <path d=\"M120-120v-720h720v720H120Zm60-500h600v-160H180v160Zm220 220h160v-160H400v160Zm0 220h160v-160H400v160ZM180-400h160v-160H180v160Zm440 0h160v-160H620v160ZM180-180h160v-160H180v160Zm440 0h160v-160H620v160Z\"/>\n",
              "  </svg>\n",
              "    </button>\n",
              "\n",
              "  <style>\n",
              "    .colab-df-container {\n",
              "      display:flex;\n",
              "      gap: 12px;\n",
              "    }\n",
              "\n",
              "    .colab-df-convert {\n",
              "      background-color: #E8F0FE;\n",
              "      border: none;\n",
              "      border-radius: 50%;\n",
              "      cursor: pointer;\n",
              "      display: none;\n",
              "      fill: #1967D2;\n",
              "      height: 32px;\n",
              "      padding: 0 0 0 0;\n",
              "      width: 32px;\n",
              "    }\n",
              "\n",
              "    .colab-df-convert:hover {\n",
              "      background-color: #E2EBFA;\n",
              "      box-shadow: 0px 1px 2px rgba(60, 64, 67, 0.3), 0px 1px 3px 1px rgba(60, 64, 67, 0.15);\n",
              "      fill: #174EA6;\n",
              "    }\n",
              "\n",
              "    .colab-df-buttons div {\n",
              "      margin-bottom: 4px;\n",
              "    }\n",
              "\n",
              "    [theme=dark] .colab-df-convert {\n",
              "      background-color: #3B4455;\n",
              "      fill: #D2E3FC;\n",
              "    }\n",
              "\n",
              "    [theme=dark] .colab-df-convert:hover {\n",
              "      background-color: #434B5C;\n",
              "      box-shadow: 0px 1px 3px 1px rgba(0, 0, 0, 0.15);\n",
              "      filter: drop-shadow(0px 1px 2px rgba(0, 0, 0, 0.3));\n",
              "      fill: #FFFFFF;\n",
              "    }\n",
              "  </style>\n",
              "\n",
              "    <script>\n",
              "      const buttonEl =\n",
              "        document.querySelector('#df-a0f4025e-3ff1-4176-9016-861210c007f2 button.colab-df-convert');\n",
              "      buttonEl.style.display =\n",
              "        google.colab.kernel.accessAllowed ? 'block' : 'none';\n",
              "\n",
              "      async function convertToInteractive(key) {\n",
              "        const element = document.querySelector('#df-a0f4025e-3ff1-4176-9016-861210c007f2');\n",
              "        const dataTable =\n",
              "          await google.colab.kernel.invokeFunction('convertToInteractive',\n",
              "                                                    [key], {});\n",
              "        if (!dataTable) return;\n",
              "\n",
              "        const docLinkHtml = 'Like what you see? Visit the ' +\n",
              "          '<a target=\"_blank\" href=https://colab.research.google.com/notebooks/data_table.ipynb>data table notebook</a>'\n",
              "          + ' to learn more about interactive tables.';\n",
              "        element.innerHTML = '';\n",
              "        dataTable['output_type'] = 'display_data';\n",
              "        await google.colab.output.renderOutput(dataTable, element);\n",
              "        const docLink = document.createElement('div');\n",
              "        docLink.innerHTML = docLinkHtml;\n",
              "        element.appendChild(docLink);\n",
              "      }\n",
              "    </script>\n",
              "  </div>\n",
              "\n",
              "\n",
              "    <div id=\"df-f08ba2d8-9c03-4559-927e-dd76f3024f6e\">\n",
              "      <button class=\"colab-df-quickchart\" onclick=\"quickchart('df-f08ba2d8-9c03-4559-927e-dd76f3024f6e')\"\n",
              "                title=\"Suggest charts\"\n",
              "                style=\"display:none;\">\n",
              "\n",
              "<svg xmlns=\"http://www.w3.org/2000/svg\" height=\"24px\"viewBox=\"0 0 24 24\"\n",
              "     width=\"24px\">\n",
              "    <g>\n",
              "        <path d=\"M19 3H5c-1.1 0-2 .9-2 2v14c0 1.1.9 2 2 2h14c1.1 0 2-.9 2-2V5c0-1.1-.9-2-2-2zM9 17H7v-7h2v7zm4 0h-2V7h2v10zm4 0h-2v-4h2v4z\"/>\n",
              "    </g>\n",
              "</svg>\n",
              "      </button>\n",
              "\n",
              "<style>\n",
              "  .colab-df-quickchart {\n",
              "      --bg-color: #E8F0FE;\n",
              "      --fill-color: #1967D2;\n",
              "      --hover-bg-color: #E2EBFA;\n",
              "      --hover-fill-color: #174EA6;\n",
              "      --disabled-fill-color: #AAA;\n",
              "      --disabled-bg-color: #DDD;\n",
              "  }\n",
              "\n",
              "  [theme=dark] .colab-df-quickchart {\n",
              "      --bg-color: #3B4455;\n",
              "      --fill-color: #D2E3FC;\n",
              "      --hover-bg-color: #434B5C;\n",
              "      --hover-fill-color: #FFFFFF;\n",
              "      --disabled-bg-color: #3B4455;\n",
              "      --disabled-fill-color: #666;\n",
              "  }\n",
              "\n",
              "  .colab-df-quickchart {\n",
              "    background-color: var(--bg-color);\n",
              "    border: none;\n",
              "    border-radius: 50%;\n",
              "    cursor: pointer;\n",
              "    display: none;\n",
              "    fill: var(--fill-color);\n",
              "    height: 32px;\n",
              "    padding: 0;\n",
              "    width: 32px;\n",
              "  }\n",
              "\n",
              "  .colab-df-quickchart:hover {\n",
              "    background-color: var(--hover-bg-color);\n",
              "    box-shadow: 0 1px 2px rgba(60, 64, 67, 0.3), 0 1px 3px 1px rgba(60, 64, 67, 0.15);\n",
              "    fill: var(--button-hover-fill-color);\n",
              "  }\n",
              "\n",
              "  .colab-df-quickchart-complete:disabled,\n",
              "  .colab-df-quickchart-complete:disabled:hover {\n",
              "    background-color: var(--disabled-bg-color);\n",
              "    fill: var(--disabled-fill-color);\n",
              "    box-shadow: none;\n",
              "  }\n",
              "\n",
              "  .colab-df-spinner {\n",
              "    border: 2px solid var(--fill-color);\n",
              "    border-color: transparent;\n",
              "    border-bottom-color: var(--fill-color);\n",
              "    animation:\n",
              "      spin 1s steps(1) infinite;\n",
              "  }\n",
              "\n",
              "  @keyframes spin {\n",
              "    0% {\n",
              "      border-color: transparent;\n",
              "      border-bottom-color: var(--fill-color);\n",
              "      border-left-color: var(--fill-color);\n",
              "    }\n",
              "    20% {\n",
              "      border-color: transparent;\n",
              "      border-left-color: var(--fill-color);\n",
              "      border-top-color: var(--fill-color);\n",
              "    }\n",
              "    30% {\n",
              "      border-color: transparent;\n",
              "      border-left-color: var(--fill-color);\n",
              "      border-top-color: var(--fill-color);\n",
              "      border-right-color: var(--fill-color);\n",
              "    }\n",
              "    40% {\n",
              "      border-color: transparent;\n",
              "      border-right-color: var(--fill-color);\n",
              "      border-top-color: var(--fill-color);\n",
              "    }\n",
              "    60% {\n",
              "      border-color: transparent;\n",
              "      border-right-color: var(--fill-color);\n",
              "    }\n",
              "    80% {\n",
              "      border-color: transparent;\n",
              "      border-right-color: var(--fill-color);\n",
              "      border-bottom-color: var(--fill-color);\n",
              "    }\n",
              "    90% {\n",
              "      border-color: transparent;\n",
              "      border-bottom-color: var(--fill-color);\n",
              "    }\n",
              "  }\n",
              "</style>\n",
              "\n",
              "      <script>\n",
              "        async function quickchart(key) {\n",
              "          const quickchartButtonEl =\n",
              "            document.querySelector('#' + key + ' button');\n",
              "          quickchartButtonEl.disabled = true;  // To prevent multiple clicks.\n",
              "          quickchartButtonEl.classList.add('colab-df-spinner');\n",
              "          try {\n",
              "            const charts = await google.colab.kernel.invokeFunction(\n",
              "                'suggestCharts', [key], {});\n",
              "          } catch (error) {\n",
              "            console.error('Error during call to suggestCharts:', error);\n",
              "          }\n",
              "          quickchartButtonEl.classList.remove('colab-df-spinner');\n",
              "          quickchartButtonEl.classList.add('colab-df-quickchart-complete');\n",
              "        }\n",
              "        (() => {\n",
              "          let quickchartButtonEl =\n",
              "            document.querySelector('#df-f08ba2d8-9c03-4559-927e-dd76f3024f6e button');\n",
              "          quickchartButtonEl.style.display =\n",
              "            google.colab.kernel.accessAllowed ? 'block' : 'none';\n",
              "        })();\n",
              "      </script>\n",
              "    </div>\n",
              "\n",
              "    </div>\n",
              "  </div>\n"
            ],
            "application/vnd.google.colaboratory.intrinsic+json": {
              "type": "dataframe",
              "variable_name": "train"
            }
          },
          "metadata": {},
          "execution_count": 41
        }
      ],
      "source": [
        "for df in (train, test):\n",
        "  if 'subject' in df.columns:\n",
        "    df.drop(columns=['subject'], inplace=True)\n",
        "\n",
        "train.head()"
      ]
    },
    {
      "cell_type": "markdown",
      "metadata": {
        "id": "aI7qJqz3pr3m"
      },
      "source": [
        "#### 2) 기본 정보 조회"
      ]
    },
    {
      "cell_type": "code",
      "execution_count": null,
      "metadata": {
        "id": "yFVSAGNhpr3m",
        "colab": {
          "base_uri": "https://localhost:8080/"
        },
        "outputId": "aecadcbb-7325-4e41-e86c-373afdd55c10"
      },
      "outputs": [
        {
          "output_type": "stream",
          "name": "stdout",
          "text": [
            "train 데이터의 shape: (5881, 562)\n",
            "test 데이터의 shape: (1471, 562)\n"
          ]
        }
      ],
      "source": [
        "#전체 데이터의 행,열 개수 확인\n",
        "print(\"train 데이터의 shape:\", train.shape)\n",
        "print(\"test 데이터의 shape:\", test.shape)"
      ]
    },
    {
      "cell_type": "code",
      "execution_count": null,
      "metadata": {
        "id": "xJnnr8K-pr3m",
        "colab": {
          "base_uri": "https://localhost:8080/",
          "height": 272
        },
        "outputId": "6b001ada-bb21-4164-cf45-3aab0cf2da5c"
      },
      "outputs": [
        {
          "output_type": "execute_result",
          "data": {
            "text/plain": [
              "   tBodyAcc-mean()-X  tBodyAcc-mean()-Y  tBodyAcc-mean()-Z  tBodyAcc-std()-X  \\\n",
              "0           0.288508          -0.009196          -0.103362         -0.988986   \n",
              "1           0.265757          -0.016576          -0.098163         -0.989551   \n",
              "2           0.278709          -0.014511          -0.108717         -0.997720   \n",
              "3           0.289795          -0.035536          -0.150354         -0.231727   \n",
              "4           0.394807           0.034098           0.091229          0.088489   \n",
              "\n",
              "   tBodyAcc-std()-Y  tBodyAcc-std()-Z  tBodyAcc-mad()-X  tBodyAcc-mad()-Y  \\\n",
              "0         -0.962797         -0.967422         -0.989000         -0.962596   \n",
              "1         -0.994636         -0.987435         -0.990189         -0.993870   \n",
              "2         -0.981088         -0.994008         -0.997934         -0.982187   \n",
              "3         -0.006412         -0.338117         -0.273557          0.014245   \n",
              "4         -0.106636         -0.388502         -0.010469         -0.109680   \n",
              "\n",
              "   tBodyAcc-mad()-Z  tBodyAcc-max()-X  ...  fBodyBodyGyroJerkMag-skewness()  \\\n",
              "0         -0.965650         -0.929747  ...                        -0.487737   \n",
              "1         -0.987558         -0.937337  ...                        -0.237820   \n",
              "2         -0.995017         -0.942584  ...                        -0.535287   \n",
              "3         -0.347916          0.008288  ...                        -0.004012   \n",
              "4         -0.346372          0.584131  ...                        -0.157832   \n",
              "\n",
              "   fBodyBodyGyroJerkMag-kurtosis()  angle(tBodyAccMean,gravity)  \\\n",
              "0                        -0.816696                    -0.042494   \n",
              "1                        -0.693515                    -0.062899   \n",
              "2                        -0.829311                     0.000265   \n",
              "3                        -0.408956                    -0.255125   \n",
              "4                        -0.563437                    -0.044344   \n",
              "\n",
              "   angle(tBodyAccJerkMean),gravityMean)  angle(tBodyGyroMean,gravityMean)  \\\n",
              "0                             -0.044218                          0.307873   \n",
              "1                              0.388459                         -0.765014   \n",
              "2                             -0.525022                         -0.891875   \n",
              "3                              0.612804                          0.747381   \n",
              "4                             -0.845268                         -0.974650   \n",
              "\n",
              "   angle(tBodyGyroJerkMean,gravityMean)  angle(X,gravityMean)  \\\n",
              "0                              0.072790             -0.601120   \n",
              "1                              0.771524              0.345205   \n",
              "2                              0.021528             -0.833564   \n",
              "3                             -0.072944             -0.695819   \n",
              "4                             -0.887846             -0.705029   \n",
              "\n",
              "   angle(Y,gravityMean)  angle(Z,gravityMean)            Activity  \n",
              "0              0.331298              0.165163            STANDING  \n",
              "1             -0.769186             -0.147944              LAYING  \n",
              "2              0.202434             -0.032755            STANDING  \n",
              "3              0.287154              0.111388             WALKING  \n",
              "4              0.264952              0.137758  WALKING_DOWNSTAIRS  \n",
              "\n",
              "[5 rows x 562 columns]"
            ],
            "text/html": [
              "\n",
              "  <div id=\"df-72a9e480-32ad-4309-bd10-a16ae086898c\" class=\"colab-df-container\">\n",
              "    <div>\n",
              "<style scoped>\n",
              "    .dataframe tbody tr th:only-of-type {\n",
              "        vertical-align: middle;\n",
              "    }\n",
              "\n",
              "    .dataframe tbody tr th {\n",
              "        vertical-align: top;\n",
              "    }\n",
              "\n",
              "    .dataframe thead th {\n",
              "        text-align: right;\n",
              "    }\n",
              "</style>\n",
              "<table border=\"1\" class=\"dataframe\">\n",
              "  <thead>\n",
              "    <tr style=\"text-align: right;\">\n",
              "      <th></th>\n",
              "      <th>tBodyAcc-mean()-X</th>\n",
              "      <th>tBodyAcc-mean()-Y</th>\n",
              "      <th>tBodyAcc-mean()-Z</th>\n",
              "      <th>tBodyAcc-std()-X</th>\n",
              "      <th>tBodyAcc-std()-Y</th>\n",
              "      <th>tBodyAcc-std()-Z</th>\n",
              "      <th>tBodyAcc-mad()-X</th>\n",
              "      <th>tBodyAcc-mad()-Y</th>\n",
              "      <th>tBodyAcc-mad()-Z</th>\n",
              "      <th>tBodyAcc-max()-X</th>\n",
              "      <th>...</th>\n",
              "      <th>fBodyBodyGyroJerkMag-skewness()</th>\n",
              "      <th>fBodyBodyGyroJerkMag-kurtosis()</th>\n",
              "      <th>angle(tBodyAccMean,gravity)</th>\n",
              "      <th>angle(tBodyAccJerkMean),gravityMean)</th>\n",
              "      <th>angle(tBodyGyroMean,gravityMean)</th>\n",
              "      <th>angle(tBodyGyroJerkMean,gravityMean)</th>\n",
              "      <th>angle(X,gravityMean)</th>\n",
              "      <th>angle(Y,gravityMean)</th>\n",
              "      <th>angle(Z,gravityMean)</th>\n",
              "      <th>Activity</th>\n",
              "    </tr>\n",
              "  </thead>\n",
              "  <tbody>\n",
              "    <tr>\n",
              "      <th>0</th>\n",
              "      <td>0.288508</td>\n",
              "      <td>-0.009196</td>\n",
              "      <td>-0.103362</td>\n",
              "      <td>-0.988986</td>\n",
              "      <td>-0.962797</td>\n",
              "      <td>-0.967422</td>\n",
              "      <td>-0.989000</td>\n",
              "      <td>-0.962596</td>\n",
              "      <td>-0.965650</td>\n",
              "      <td>-0.929747</td>\n",
              "      <td>...</td>\n",
              "      <td>-0.487737</td>\n",
              "      <td>-0.816696</td>\n",
              "      <td>-0.042494</td>\n",
              "      <td>-0.044218</td>\n",
              "      <td>0.307873</td>\n",
              "      <td>0.072790</td>\n",
              "      <td>-0.601120</td>\n",
              "      <td>0.331298</td>\n",
              "      <td>0.165163</td>\n",
              "      <td>STANDING</td>\n",
              "    </tr>\n",
              "    <tr>\n",
              "      <th>1</th>\n",
              "      <td>0.265757</td>\n",
              "      <td>-0.016576</td>\n",
              "      <td>-0.098163</td>\n",
              "      <td>-0.989551</td>\n",
              "      <td>-0.994636</td>\n",
              "      <td>-0.987435</td>\n",
              "      <td>-0.990189</td>\n",
              "      <td>-0.993870</td>\n",
              "      <td>-0.987558</td>\n",
              "      <td>-0.937337</td>\n",
              "      <td>...</td>\n",
              "      <td>-0.237820</td>\n",
              "      <td>-0.693515</td>\n",
              "      <td>-0.062899</td>\n",
              "      <td>0.388459</td>\n",
              "      <td>-0.765014</td>\n",
              "      <td>0.771524</td>\n",
              "      <td>0.345205</td>\n",
              "      <td>-0.769186</td>\n",
              "      <td>-0.147944</td>\n",
              "      <td>LAYING</td>\n",
              "    </tr>\n",
              "    <tr>\n",
              "      <th>2</th>\n",
              "      <td>0.278709</td>\n",
              "      <td>-0.014511</td>\n",
              "      <td>-0.108717</td>\n",
              "      <td>-0.997720</td>\n",
              "      <td>-0.981088</td>\n",
              "      <td>-0.994008</td>\n",
              "      <td>-0.997934</td>\n",
              "      <td>-0.982187</td>\n",
              "      <td>-0.995017</td>\n",
              "      <td>-0.942584</td>\n",
              "      <td>...</td>\n",
              "      <td>-0.535287</td>\n",
              "      <td>-0.829311</td>\n",
              "      <td>0.000265</td>\n",
              "      <td>-0.525022</td>\n",
              "      <td>-0.891875</td>\n",
              "      <td>0.021528</td>\n",
              "      <td>-0.833564</td>\n",
              "      <td>0.202434</td>\n",
              "      <td>-0.032755</td>\n",
              "      <td>STANDING</td>\n",
              "    </tr>\n",
              "    <tr>\n",
              "      <th>3</th>\n",
              "      <td>0.289795</td>\n",
              "      <td>-0.035536</td>\n",
              "      <td>-0.150354</td>\n",
              "      <td>-0.231727</td>\n",
              "      <td>-0.006412</td>\n",
              "      <td>-0.338117</td>\n",
              "      <td>-0.273557</td>\n",
              "      <td>0.014245</td>\n",
              "      <td>-0.347916</td>\n",
              "      <td>0.008288</td>\n",
              "      <td>...</td>\n",
              "      <td>-0.004012</td>\n",
              "      <td>-0.408956</td>\n",
              "      <td>-0.255125</td>\n",
              "      <td>0.612804</td>\n",
              "      <td>0.747381</td>\n",
              "      <td>-0.072944</td>\n",
              "      <td>-0.695819</td>\n",
              "      <td>0.287154</td>\n",
              "      <td>0.111388</td>\n",
              "      <td>WALKING</td>\n",
              "    </tr>\n",
              "    <tr>\n",
              "      <th>4</th>\n",
              "      <td>0.394807</td>\n",
              "      <td>0.034098</td>\n",
              "      <td>0.091229</td>\n",
              "      <td>0.088489</td>\n",
              "      <td>-0.106636</td>\n",
              "      <td>-0.388502</td>\n",
              "      <td>-0.010469</td>\n",
              "      <td>-0.109680</td>\n",
              "      <td>-0.346372</td>\n",
              "      <td>0.584131</td>\n",
              "      <td>...</td>\n",
              "      <td>-0.157832</td>\n",
              "      <td>-0.563437</td>\n",
              "      <td>-0.044344</td>\n",
              "      <td>-0.845268</td>\n",
              "      <td>-0.974650</td>\n",
              "      <td>-0.887846</td>\n",
              "      <td>-0.705029</td>\n",
              "      <td>0.264952</td>\n",
              "      <td>0.137758</td>\n",
              "      <td>WALKING_DOWNSTAIRS</td>\n",
              "    </tr>\n",
              "  </tbody>\n",
              "</table>\n",
              "<p>5 rows × 562 columns</p>\n",
              "</div>\n",
              "    <div class=\"colab-df-buttons\">\n",
              "\n",
              "  <div class=\"colab-df-container\">\n",
              "    <button class=\"colab-df-convert\" onclick=\"convertToInteractive('df-72a9e480-32ad-4309-bd10-a16ae086898c')\"\n",
              "            title=\"Convert this dataframe to an interactive table.\"\n",
              "            style=\"display:none;\">\n",
              "\n",
              "  <svg xmlns=\"http://www.w3.org/2000/svg\" height=\"24px\" viewBox=\"0 -960 960 960\">\n",
              "    <path d=\"M120-120v-720h720v720H120Zm60-500h600v-160H180v160Zm220 220h160v-160H400v160Zm0 220h160v-160H400v160ZM180-400h160v-160H180v160Zm440 0h160v-160H620v160ZM180-180h160v-160H180v160Zm440 0h160v-160H620v160Z\"/>\n",
              "  </svg>\n",
              "    </button>\n",
              "\n",
              "  <style>\n",
              "    .colab-df-container {\n",
              "      display:flex;\n",
              "      gap: 12px;\n",
              "    }\n",
              "\n",
              "    .colab-df-convert {\n",
              "      background-color: #E8F0FE;\n",
              "      border: none;\n",
              "      border-radius: 50%;\n",
              "      cursor: pointer;\n",
              "      display: none;\n",
              "      fill: #1967D2;\n",
              "      height: 32px;\n",
              "      padding: 0 0 0 0;\n",
              "      width: 32px;\n",
              "    }\n",
              "\n",
              "    .colab-df-convert:hover {\n",
              "      background-color: #E2EBFA;\n",
              "      box-shadow: 0px 1px 2px rgba(60, 64, 67, 0.3), 0px 1px 3px 1px rgba(60, 64, 67, 0.15);\n",
              "      fill: #174EA6;\n",
              "    }\n",
              "\n",
              "    .colab-df-buttons div {\n",
              "      margin-bottom: 4px;\n",
              "    }\n",
              "\n",
              "    [theme=dark] .colab-df-convert {\n",
              "      background-color: #3B4455;\n",
              "      fill: #D2E3FC;\n",
              "    }\n",
              "\n",
              "    [theme=dark] .colab-df-convert:hover {\n",
              "      background-color: #434B5C;\n",
              "      box-shadow: 0px 1px 3px 1px rgba(0, 0, 0, 0.15);\n",
              "      filter: drop-shadow(0px 1px 2px rgba(0, 0, 0, 0.3));\n",
              "      fill: #FFFFFF;\n",
              "    }\n",
              "  </style>\n",
              "\n",
              "    <script>\n",
              "      const buttonEl =\n",
              "        document.querySelector('#df-72a9e480-32ad-4309-bd10-a16ae086898c button.colab-df-convert');\n",
              "      buttonEl.style.display =\n",
              "        google.colab.kernel.accessAllowed ? 'block' : 'none';\n",
              "\n",
              "      async function convertToInteractive(key) {\n",
              "        const element = document.querySelector('#df-72a9e480-32ad-4309-bd10-a16ae086898c');\n",
              "        const dataTable =\n",
              "          await google.colab.kernel.invokeFunction('convertToInteractive',\n",
              "                                                    [key], {});\n",
              "        if (!dataTable) return;\n",
              "\n",
              "        const docLinkHtml = 'Like what you see? Visit the ' +\n",
              "          '<a target=\"_blank\" href=https://colab.research.google.com/notebooks/data_table.ipynb>data table notebook</a>'\n",
              "          + ' to learn more about interactive tables.';\n",
              "        element.innerHTML = '';\n",
              "        dataTable['output_type'] = 'display_data';\n",
              "        await google.colab.output.renderOutput(dataTable, element);\n",
              "        const docLink = document.createElement('div');\n",
              "        docLink.innerHTML = docLinkHtml;\n",
              "        element.appendChild(docLink);\n",
              "      }\n",
              "    </script>\n",
              "  </div>\n",
              "\n",
              "\n",
              "    <div id=\"df-bcedc601-7687-4ad5-9877-ffd93a82078c\">\n",
              "      <button class=\"colab-df-quickchart\" onclick=\"quickchart('df-bcedc601-7687-4ad5-9877-ffd93a82078c')\"\n",
              "                title=\"Suggest charts\"\n",
              "                style=\"display:none;\">\n",
              "\n",
              "<svg xmlns=\"http://www.w3.org/2000/svg\" height=\"24px\"viewBox=\"0 0 24 24\"\n",
              "     width=\"24px\">\n",
              "    <g>\n",
              "        <path d=\"M19 3H5c-1.1 0-2 .9-2 2v14c0 1.1.9 2 2 2h14c1.1 0 2-.9 2-2V5c0-1.1-.9-2-2-2zM9 17H7v-7h2v7zm4 0h-2V7h2v10zm4 0h-2v-4h2v4z\"/>\n",
              "    </g>\n",
              "</svg>\n",
              "      </button>\n",
              "\n",
              "<style>\n",
              "  .colab-df-quickchart {\n",
              "      --bg-color: #E8F0FE;\n",
              "      --fill-color: #1967D2;\n",
              "      --hover-bg-color: #E2EBFA;\n",
              "      --hover-fill-color: #174EA6;\n",
              "      --disabled-fill-color: #AAA;\n",
              "      --disabled-bg-color: #DDD;\n",
              "  }\n",
              "\n",
              "  [theme=dark] .colab-df-quickchart {\n",
              "      --bg-color: #3B4455;\n",
              "      --fill-color: #D2E3FC;\n",
              "      --hover-bg-color: #434B5C;\n",
              "      --hover-fill-color: #FFFFFF;\n",
              "      --disabled-bg-color: #3B4455;\n",
              "      --disabled-fill-color: #666;\n",
              "  }\n",
              "\n",
              "  .colab-df-quickchart {\n",
              "    background-color: var(--bg-color);\n",
              "    border: none;\n",
              "    border-radius: 50%;\n",
              "    cursor: pointer;\n",
              "    display: none;\n",
              "    fill: var(--fill-color);\n",
              "    height: 32px;\n",
              "    padding: 0;\n",
              "    width: 32px;\n",
              "  }\n",
              "\n",
              "  .colab-df-quickchart:hover {\n",
              "    background-color: var(--hover-bg-color);\n",
              "    box-shadow: 0 1px 2px rgba(60, 64, 67, 0.3), 0 1px 3px 1px rgba(60, 64, 67, 0.15);\n",
              "    fill: var(--button-hover-fill-color);\n",
              "  }\n",
              "\n",
              "  .colab-df-quickchart-complete:disabled,\n",
              "  .colab-df-quickchart-complete:disabled:hover {\n",
              "    background-color: var(--disabled-bg-color);\n",
              "    fill: var(--disabled-fill-color);\n",
              "    box-shadow: none;\n",
              "  }\n",
              "\n",
              "  .colab-df-spinner {\n",
              "    border: 2px solid var(--fill-color);\n",
              "    border-color: transparent;\n",
              "    border-bottom-color: var(--fill-color);\n",
              "    animation:\n",
              "      spin 1s steps(1) infinite;\n",
              "  }\n",
              "\n",
              "  @keyframes spin {\n",
              "    0% {\n",
              "      border-color: transparent;\n",
              "      border-bottom-color: var(--fill-color);\n",
              "      border-left-color: var(--fill-color);\n",
              "    }\n",
              "    20% {\n",
              "      border-color: transparent;\n",
              "      border-left-color: var(--fill-color);\n",
              "      border-top-color: var(--fill-color);\n",
              "    }\n",
              "    30% {\n",
              "      border-color: transparent;\n",
              "      border-left-color: var(--fill-color);\n",
              "      border-top-color: var(--fill-color);\n",
              "      border-right-color: var(--fill-color);\n",
              "    }\n",
              "    40% {\n",
              "      border-color: transparent;\n",
              "      border-right-color: var(--fill-color);\n",
              "      border-top-color: var(--fill-color);\n",
              "    }\n",
              "    60% {\n",
              "      border-color: transparent;\n",
              "      border-right-color: var(--fill-color);\n",
              "    }\n",
              "    80% {\n",
              "      border-color: transparent;\n",
              "      border-right-color: var(--fill-color);\n",
              "      border-bottom-color: var(--fill-color);\n",
              "    }\n",
              "    90% {\n",
              "      border-color: transparent;\n",
              "      border-bottom-color: var(--fill-color);\n",
              "    }\n",
              "  }\n",
              "</style>\n",
              "\n",
              "      <script>\n",
              "        async function quickchart(key) {\n",
              "          const quickchartButtonEl =\n",
              "            document.querySelector('#' + key + ' button');\n",
              "          quickchartButtonEl.disabled = true;  // To prevent multiple clicks.\n",
              "          quickchartButtonEl.classList.add('colab-df-spinner');\n",
              "          try {\n",
              "            const charts = await google.colab.kernel.invokeFunction(\n",
              "                'suggestCharts', [key], {});\n",
              "          } catch (error) {\n",
              "            console.error('Error during call to suggestCharts:', error);\n",
              "          }\n",
              "          quickchartButtonEl.classList.remove('colab-df-spinner');\n",
              "          quickchartButtonEl.classList.add('colab-df-quickchart-complete');\n",
              "        }\n",
              "        (() => {\n",
              "          let quickchartButtonEl =\n",
              "            document.querySelector('#df-bcedc601-7687-4ad5-9877-ffd93a82078c button');\n",
              "          quickchartButtonEl.style.display =\n",
              "            google.colab.kernel.accessAllowed ? 'block' : 'none';\n",
              "        })();\n",
              "      </script>\n",
              "    </div>\n",
              "\n",
              "    </div>\n",
              "  </div>\n"
            ],
            "application/vnd.google.colaboratory.intrinsic+json": {
              "type": "dataframe",
              "variable_name": "train"
            }
          },
          "metadata": {},
          "execution_count": 43
        }
      ],
      "source": [
        "#전체 데이터의 상위 5개 행 확인\n",
        "train.head()"
      ]
    },
    {
      "cell_type": "code",
      "execution_count": null,
      "metadata": {
        "id": "ajJ1qJkhpr3n",
        "colab": {
          "base_uri": "https://localhost:8080/",
          "height": 367
        },
        "outputId": "c0798054-c739-418f-91a3-4398988a3e31"
      },
      "outputs": [
        {
          "output_type": "execute_result",
          "data": {
            "text/plain": [
              "       tBodyAcc-mean()-X  tBodyAcc-mean()-Y  tBodyAcc-mean()-Z  \\\n",
              "count        5881.000000        5881.000000        5881.000000   \n",
              "mean            0.274811          -0.017799          -0.109396   \n",
              "std             0.067614           0.039422           0.058373   \n",
              "min            -0.503823          -0.684893          -1.000000   \n",
              "25%             0.262919          -0.024877          -0.121051   \n",
              "50%             0.277154          -0.017221          -0.108781   \n",
              "75%             0.288526          -0.010920          -0.098163   \n",
              "max             1.000000           1.000000           1.000000   \n",
              "\n",
              "       tBodyAcc-std()-X  tBodyAcc-std()-Y  tBodyAcc-std()-Z  tBodyAcc-mad()-X  \\\n",
              "count       5881.000000       5881.000000       5881.000000       5881.000000   \n",
              "mean          -0.603138         -0.509815         -0.604058         -0.628151   \n",
              "std            0.448807          0.501815          0.417319          0.424345   \n",
              "min           -1.000000         -0.999844         -0.999667         -1.000000   \n",
              "25%           -0.992774         -0.977680         -0.980127         -0.993602   \n",
              "50%           -0.943933         -0.844575         -0.856352         -0.948501   \n",
              "75%           -0.242130         -0.034499         -0.262690         -0.291138   \n",
              "max            1.000000          0.916238          1.000000          1.000000   \n",
              "\n",
              "       tBodyAcc-mad()-Y  tBodyAcc-mad()-Z  tBodyAcc-max()-X  ...  \\\n",
              "count       5881.000000       5881.000000       5881.000000  ...   \n",
              "mean          -0.525944         -0.605374         -0.465490  ...   \n",
              "std            0.485115          0.413043          0.544995  ...   \n",
              "min           -0.999419         -1.000000         -1.000000  ...   \n",
              "25%           -0.977865         -0.980112         -0.936067  ...   \n",
              "50%           -0.849266         -0.849896         -0.878729  ...   \n",
              "75%           -0.068857         -0.268539         -0.013690  ...   \n",
              "max            0.967664          1.000000          1.000000  ...   \n",
              "\n",
              "       fBodyBodyGyroJerkMag-meanFreq()  fBodyBodyGyroJerkMag-skewness()  \\\n",
              "count                      5881.000000                      5881.000000   \n",
              "mean                          0.126955                        -0.305883   \n",
              "std                           0.249176                         0.322808   \n",
              "min                          -0.965725                        -0.979261   \n",
              "25%                          -0.021610                        -0.541969   \n",
              "50%                           0.133887                        -0.342923   \n",
              "75%                           0.288944                        -0.127371   \n",
              "max                           0.946700                         0.989538   \n",
              "\n",
              "       fBodyBodyGyroJerkMag-kurtosis()  angle(tBodyAccMean,gravity)  \\\n",
              "count                      5881.000000                  5881.000000   \n",
              "mean                         -0.623548                     0.008524   \n",
              "std                           0.310371                     0.339730   \n",
              "min                          -0.999765                    -0.976580   \n",
              "25%                          -0.845985                    -0.122361   \n",
              "50%                          -0.712677                     0.010278   \n",
              "75%                          -0.501158                     0.154985   \n",
              "max                           0.956845                     1.000000   \n",
              "\n",
              "       angle(tBodyAccJerkMean),gravityMean)  angle(tBodyGyroMean,gravityMean)  \\\n",
              "count                           5881.000000                       5881.000000   \n",
              "mean                              -0.001185                          0.009340   \n",
              "std                                0.447197                          0.608190   \n",
              "min                               -1.000000                         -1.000000   \n",
              "25%                               -0.294369                         -0.481718   \n",
              "50%                                0.005146                          0.011448   \n",
              "75%                                0.285030                          0.499857   \n",
              "max                                1.000000                          0.998702   \n",
              "\n",
              "       angle(tBodyGyroJerkMean,gravityMean)  angle(X,gravityMean)  \\\n",
              "count                           5881.000000           5881.000000   \n",
              "mean                              -0.007099             -0.491501   \n",
              "std                                0.476738              0.509069   \n",
              "min                               -1.000000             -1.000000   \n",
              "25%                               -0.373345             -0.811397   \n",
              "50%                               -0.000847             -0.709441   \n",
              "75%                                0.356236             -0.511330   \n",
              "max                                0.996078              0.977344   \n",
              "\n",
              "       angle(Y,gravityMean)  angle(Z,gravityMean)  \n",
              "count           5881.000000           5881.000000  \n",
              "mean               0.059299             -0.054594  \n",
              "std                0.297340              0.278479  \n",
              "min               -1.000000             -0.980143  \n",
              "25%               -0.018203             -0.141555  \n",
              "50%                0.182893              0.003951  \n",
              "75%                0.248435              0.111932  \n",
              "max                0.478157              1.000000  \n",
              "\n",
              "[8 rows x 561 columns]"
            ],
            "text/html": [
              "\n",
              "  <div id=\"df-f04ac9aa-e700-404f-8671-736732004bd6\" class=\"colab-df-container\">\n",
              "    <div>\n",
              "<style scoped>\n",
              "    .dataframe tbody tr th:only-of-type {\n",
              "        vertical-align: middle;\n",
              "    }\n",
              "\n",
              "    .dataframe tbody tr th {\n",
              "        vertical-align: top;\n",
              "    }\n",
              "\n",
              "    .dataframe thead th {\n",
              "        text-align: right;\n",
              "    }\n",
              "</style>\n",
              "<table border=\"1\" class=\"dataframe\">\n",
              "  <thead>\n",
              "    <tr style=\"text-align: right;\">\n",
              "      <th></th>\n",
              "      <th>tBodyAcc-mean()-X</th>\n",
              "      <th>tBodyAcc-mean()-Y</th>\n",
              "      <th>tBodyAcc-mean()-Z</th>\n",
              "      <th>tBodyAcc-std()-X</th>\n",
              "      <th>tBodyAcc-std()-Y</th>\n",
              "      <th>tBodyAcc-std()-Z</th>\n",
              "      <th>tBodyAcc-mad()-X</th>\n",
              "      <th>tBodyAcc-mad()-Y</th>\n",
              "      <th>tBodyAcc-mad()-Z</th>\n",
              "      <th>tBodyAcc-max()-X</th>\n",
              "      <th>...</th>\n",
              "      <th>fBodyBodyGyroJerkMag-meanFreq()</th>\n",
              "      <th>fBodyBodyGyroJerkMag-skewness()</th>\n",
              "      <th>fBodyBodyGyroJerkMag-kurtosis()</th>\n",
              "      <th>angle(tBodyAccMean,gravity)</th>\n",
              "      <th>angle(tBodyAccJerkMean),gravityMean)</th>\n",
              "      <th>angle(tBodyGyroMean,gravityMean)</th>\n",
              "      <th>angle(tBodyGyroJerkMean,gravityMean)</th>\n",
              "      <th>angle(X,gravityMean)</th>\n",
              "      <th>angle(Y,gravityMean)</th>\n",
              "      <th>angle(Z,gravityMean)</th>\n",
              "    </tr>\n",
              "  </thead>\n",
              "  <tbody>\n",
              "    <tr>\n",
              "      <th>count</th>\n",
              "      <td>5881.000000</td>\n",
              "      <td>5881.000000</td>\n",
              "      <td>5881.000000</td>\n",
              "      <td>5881.000000</td>\n",
              "      <td>5881.000000</td>\n",
              "      <td>5881.000000</td>\n",
              "      <td>5881.000000</td>\n",
              "      <td>5881.000000</td>\n",
              "      <td>5881.000000</td>\n",
              "      <td>5881.000000</td>\n",
              "      <td>...</td>\n",
              "      <td>5881.000000</td>\n",
              "      <td>5881.000000</td>\n",
              "      <td>5881.000000</td>\n",
              "      <td>5881.000000</td>\n",
              "      <td>5881.000000</td>\n",
              "      <td>5881.000000</td>\n",
              "      <td>5881.000000</td>\n",
              "      <td>5881.000000</td>\n",
              "      <td>5881.000000</td>\n",
              "      <td>5881.000000</td>\n",
              "    </tr>\n",
              "    <tr>\n",
              "      <th>mean</th>\n",
              "      <td>0.274811</td>\n",
              "      <td>-0.017799</td>\n",
              "      <td>-0.109396</td>\n",
              "      <td>-0.603138</td>\n",
              "      <td>-0.509815</td>\n",
              "      <td>-0.604058</td>\n",
              "      <td>-0.628151</td>\n",
              "      <td>-0.525944</td>\n",
              "      <td>-0.605374</td>\n",
              "      <td>-0.465490</td>\n",
              "      <td>...</td>\n",
              "      <td>0.126955</td>\n",
              "      <td>-0.305883</td>\n",
              "      <td>-0.623548</td>\n",
              "      <td>0.008524</td>\n",
              "      <td>-0.001185</td>\n",
              "      <td>0.009340</td>\n",
              "      <td>-0.007099</td>\n",
              "      <td>-0.491501</td>\n",
              "      <td>0.059299</td>\n",
              "      <td>-0.054594</td>\n",
              "    </tr>\n",
              "    <tr>\n",
              "      <th>std</th>\n",
              "      <td>0.067614</td>\n",
              "      <td>0.039422</td>\n",
              "      <td>0.058373</td>\n",
              "      <td>0.448807</td>\n",
              "      <td>0.501815</td>\n",
              "      <td>0.417319</td>\n",
              "      <td>0.424345</td>\n",
              "      <td>0.485115</td>\n",
              "      <td>0.413043</td>\n",
              "      <td>0.544995</td>\n",
              "      <td>...</td>\n",
              "      <td>0.249176</td>\n",
              "      <td>0.322808</td>\n",
              "      <td>0.310371</td>\n",
              "      <td>0.339730</td>\n",
              "      <td>0.447197</td>\n",
              "      <td>0.608190</td>\n",
              "      <td>0.476738</td>\n",
              "      <td>0.509069</td>\n",
              "      <td>0.297340</td>\n",
              "      <td>0.278479</td>\n",
              "    </tr>\n",
              "    <tr>\n",
              "      <th>min</th>\n",
              "      <td>-0.503823</td>\n",
              "      <td>-0.684893</td>\n",
              "      <td>-1.000000</td>\n",
              "      <td>-1.000000</td>\n",
              "      <td>-0.999844</td>\n",
              "      <td>-0.999667</td>\n",
              "      <td>-1.000000</td>\n",
              "      <td>-0.999419</td>\n",
              "      <td>-1.000000</td>\n",
              "      <td>-1.000000</td>\n",
              "      <td>...</td>\n",
              "      <td>-0.965725</td>\n",
              "      <td>-0.979261</td>\n",
              "      <td>-0.999765</td>\n",
              "      <td>-0.976580</td>\n",
              "      <td>-1.000000</td>\n",
              "      <td>-1.000000</td>\n",
              "      <td>-1.000000</td>\n",
              "      <td>-1.000000</td>\n",
              "      <td>-1.000000</td>\n",
              "      <td>-0.980143</td>\n",
              "    </tr>\n",
              "    <tr>\n",
              "      <th>25%</th>\n",
              "      <td>0.262919</td>\n",
              "      <td>-0.024877</td>\n",
              "      <td>-0.121051</td>\n",
              "      <td>-0.992774</td>\n",
              "      <td>-0.977680</td>\n",
              "      <td>-0.980127</td>\n",
              "      <td>-0.993602</td>\n",
              "      <td>-0.977865</td>\n",
              "      <td>-0.980112</td>\n",
              "      <td>-0.936067</td>\n",
              "      <td>...</td>\n",
              "      <td>-0.021610</td>\n",
              "      <td>-0.541969</td>\n",
              "      <td>-0.845985</td>\n",
              "      <td>-0.122361</td>\n",
              "      <td>-0.294369</td>\n",
              "      <td>-0.481718</td>\n",
              "      <td>-0.373345</td>\n",
              "      <td>-0.811397</td>\n",
              "      <td>-0.018203</td>\n",
              "      <td>-0.141555</td>\n",
              "    </tr>\n",
              "    <tr>\n",
              "      <th>50%</th>\n",
              "      <td>0.277154</td>\n",
              "      <td>-0.017221</td>\n",
              "      <td>-0.108781</td>\n",
              "      <td>-0.943933</td>\n",
              "      <td>-0.844575</td>\n",
              "      <td>-0.856352</td>\n",
              "      <td>-0.948501</td>\n",
              "      <td>-0.849266</td>\n",
              "      <td>-0.849896</td>\n",
              "      <td>-0.878729</td>\n",
              "      <td>...</td>\n",
              "      <td>0.133887</td>\n",
              "      <td>-0.342923</td>\n",
              "      <td>-0.712677</td>\n",
              "      <td>0.010278</td>\n",
              "      <td>0.005146</td>\n",
              "      <td>0.011448</td>\n",
              "      <td>-0.000847</td>\n",
              "      <td>-0.709441</td>\n",
              "      <td>0.182893</td>\n",
              "      <td>0.003951</td>\n",
              "    </tr>\n",
              "    <tr>\n",
              "      <th>75%</th>\n",
              "      <td>0.288526</td>\n",
              "      <td>-0.010920</td>\n",
              "      <td>-0.098163</td>\n",
              "      <td>-0.242130</td>\n",
              "      <td>-0.034499</td>\n",
              "      <td>-0.262690</td>\n",
              "      <td>-0.291138</td>\n",
              "      <td>-0.068857</td>\n",
              "      <td>-0.268539</td>\n",
              "      <td>-0.013690</td>\n",
              "      <td>...</td>\n",
              "      <td>0.288944</td>\n",
              "      <td>-0.127371</td>\n",
              "      <td>-0.501158</td>\n",
              "      <td>0.154985</td>\n",
              "      <td>0.285030</td>\n",
              "      <td>0.499857</td>\n",
              "      <td>0.356236</td>\n",
              "      <td>-0.511330</td>\n",
              "      <td>0.248435</td>\n",
              "      <td>0.111932</td>\n",
              "    </tr>\n",
              "    <tr>\n",
              "      <th>max</th>\n",
              "      <td>1.000000</td>\n",
              "      <td>1.000000</td>\n",
              "      <td>1.000000</td>\n",
              "      <td>1.000000</td>\n",
              "      <td>0.916238</td>\n",
              "      <td>1.000000</td>\n",
              "      <td>1.000000</td>\n",
              "      <td>0.967664</td>\n",
              "      <td>1.000000</td>\n",
              "      <td>1.000000</td>\n",
              "      <td>...</td>\n",
              "      <td>0.946700</td>\n",
              "      <td>0.989538</td>\n",
              "      <td>0.956845</td>\n",
              "      <td>1.000000</td>\n",
              "      <td>1.000000</td>\n",
              "      <td>0.998702</td>\n",
              "      <td>0.996078</td>\n",
              "      <td>0.977344</td>\n",
              "      <td>0.478157</td>\n",
              "      <td>1.000000</td>\n",
              "    </tr>\n",
              "  </tbody>\n",
              "</table>\n",
              "<p>8 rows × 561 columns</p>\n",
              "</div>\n",
              "    <div class=\"colab-df-buttons\">\n",
              "\n",
              "  <div class=\"colab-df-container\">\n",
              "    <button class=\"colab-df-convert\" onclick=\"convertToInteractive('df-f04ac9aa-e700-404f-8671-736732004bd6')\"\n",
              "            title=\"Convert this dataframe to an interactive table.\"\n",
              "            style=\"display:none;\">\n",
              "\n",
              "  <svg xmlns=\"http://www.w3.org/2000/svg\" height=\"24px\" viewBox=\"0 -960 960 960\">\n",
              "    <path d=\"M120-120v-720h720v720H120Zm60-500h600v-160H180v160Zm220 220h160v-160H400v160Zm0 220h160v-160H400v160ZM180-400h160v-160H180v160Zm440 0h160v-160H620v160ZM180-180h160v-160H180v160Zm440 0h160v-160H620v160Z\"/>\n",
              "  </svg>\n",
              "    </button>\n",
              "\n",
              "  <style>\n",
              "    .colab-df-container {\n",
              "      display:flex;\n",
              "      gap: 12px;\n",
              "    }\n",
              "\n",
              "    .colab-df-convert {\n",
              "      background-color: #E8F0FE;\n",
              "      border: none;\n",
              "      border-radius: 50%;\n",
              "      cursor: pointer;\n",
              "      display: none;\n",
              "      fill: #1967D2;\n",
              "      height: 32px;\n",
              "      padding: 0 0 0 0;\n",
              "      width: 32px;\n",
              "    }\n",
              "\n",
              "    .colab-df-convert:hover {\n",
              "      background-color: #E2EBFA;\n",
              "      box-shadow: 0px 1px 2px rgba(60, 64, 67, 0.3), 0px 1px 3px 1px rgba(60, 64, 67, 0.15);\n",
              "      fill: #174EA6;\n",
              "    }\n",
              "\n",
              "    .colab-df-buttons div {\n",
              "      margin-bottom: 4px;\n",
              "    }\n",
              "\n",
              "    [theme=dark] .colab-df-convert {\n",
              "      background-color: #3B4455;\n",
              "      fill: #D2E3FC;\n",
              "    }\n",
              "\n",
              "    [theme=dark] .colab-df-convert:hover {\n",
              "      background-color: #434B5C;\n",
              "      box-shadow: 0px 1px 3px 1px rgba(0, 0, 0, 0.15);\n",
              "      filter: drop-shadow(0px 1px 2px rgba(0, 0, 0, 0.3));\n",
              "      fill: #FFFFFF;\n",
              "    }\n",
              "  </style>\n",
              "\n",
              "    <script>\n",
              "      const buttonEl =\n",
              "        document.querySelector('#df-f04ac9aa-e700-404f-8671-736732004bd6 button.colab-df-convert');\n",
              "      buttonEl.style.display =\n",
              "        google.colab.kernel.accessAllowed ? 'block' : 'none';\n",
              "\n",
              "      async function convertToInteractive(key) {\n",
              "        const element = document.querySelector('#df-f04ac9aa-e700-404f-8671-736732004bd6');\n",
              "        const dataTable =\n",
              "          await google.colab.kernel.invokeFunction('convertToInteractive',\n",
              "                                                    [key], {});\n",
              "        if (!dataTable) return;\n",
              "\n",
              "        const docLinkHtml = 'Like what you see? Visit the ' +\n",
              "          '<a target=\"_blank\" href=https://colab.research.google.com/notebooks/data_table.ipynb>data table notebook</a>'\n",
              "          + ' to learn more about interactive tables.';\n",
              "        element.innerHTML = '';\n",
              "        dataTable['output_type'] = 'display_data';\n",
              "        await google.colab.output.renderOutput(dataTable, element);\n",
              "        const docLink = document.createElement('div');\n",
              "        docLink.innerHTML = docLinkHtml;\n",
              "        element.appendChild(docLink);\n",
              "      }\n",
              "    </script>\n",
              "  </div>\n",
              "\n",
              "\n",
              "    <div id=\"df-712509af-be51-443a-910c-4bbd7b225825\">\n",
              "      <button class=\"colab-df-quickchart\" onclick=\"quickchart('df-712509af-be51-443a-910c-4bbd7b225825')\"\n",
              "                title=\"Suggest charts\"\n",
              "                style=\"display:none;\">\n",
              "\n",
              "<svg xmlns=\"http://www.w3.org/2000/svg\" height=\"24px\"viewBox=\"0 0 24 24\"\n",
              "     width=\"24px\">\n",
              "    <g>\n",
              "        <path d=\"M19 3H5c-1.1 0-2 .9-2 2v14c0 1.1.9 2 2 2h14c1.1 0 2-.9 2-2V5c0-1.1-.9-2-2-2zM9 17H7v-7h2v7zm4 0h-2V7h2v10zm4 0h-2v-4h2v4z\"/>\n",
              "    </g>\n",
              "</svg>\n",
              "      </button>\n",
              "\n",
              "<style>\n",
              "  .colab-df-quickchart {\n",
              "      --bg-color: #E8F0FE;\n",
              "      --fill-color: #1967D2;\n",
              "      --hover-bg-color: #E2EBFA;\n",
              "      --hover-fill-color: #174EA6;\n",
              "      --disabled-fill-color: #AAA;\n",
              "      --disabled-bg-color: #DDD;\n",
              "  }\n",
              "\n",
              "  [theme=dark] .colab-df-quickchart {\n",
              "      --bg-color: #3B4455;\n",
              "      --fill-color: #D2E3FC;\n",
              "      --hover-bg-color: #434B5C;\n",
              "      --hover-fill-color: #FFFFFF;\n",
              "      --disabled-bg-color: #3B4455;\n",
              "      --disabled-fill-color: #666;\n",
              "  }\n",
              "\n",
              "  .colab-df-quickchart {\n",
              "    background-color: var(--bg-color);\n",
              "    border: none;\n",
              "    border-radius: 50%;\n",
              "    cursor: pointer;\n",
              "    display: none;\n",
              "    fill: var(--fill-color);\n",
              "    height: 32px;\n",
              "    padding: 0;\n",
              "    width: 32px;\n",
              "  }\n",
              "\n",
              "  .colab-df-quickchart:hover {\n",
              "    background-color: var(--hover-bg-color);\n",
              "    box-shadow: 0 1px 2px rgba(60, 64, 67, 0.3), 0 1px 3px 1px rgba(60, 64, 67, 0.15);\n",
              "    fill: var(--button-hover-fill-color);\n",
              "  }\n",
              "\n",
              "  .colab-df-quickchart-complete:disabled,\n",
              "  .colab-df-quickchart-complete:disabled:hover {\n",
              "    background-color: var(--disabled-bg-color);\n",
              "    fill: var(--disabled-fill-color);\n",
              "    box-shadow: none;\n",
              "  }\n",
              "\n",
              "  .colab-df-spinner {\n",
              "    border: 2px solid var(--fill-color);\n",
              "    border-color: transparent;\n",
              "    border-bottom-color: var(--fill-color);\n",
              "    animation:\n",
              "      spin 1s steps(1) infinite;\n",
              "  }\n",
              "\n",
              "  @keyframes spin {\n",
              "    0% {\n",
              "      border-color: transparent;\n",
              "      border-bottom-color: var(--fill-color);\n",
              "      border-left-color: var(--fill-color);\n",
              "    }\n",
              "    20% {\n",
              "      border-color: transparent;\n",
              "      border-left-color: var(--fill-color);\n",
              "      border-top-color: var(--fill-color);\n",
              "    }\n",
              "    30% {\n",
              "      border-color: transparent;\n",
              "      border-left-color: var(--fill-color);\n",
              "      border-top-color: var(--fill-color);\n",
              "      border-right-color: var(--fill-color);\n",
              "    }\n",
              "    40% {\n",
              "      border-color: transparent;\n",
              "      border-right-color: var(--fill-color);\n",
              "      border-top-color: var(--fill-color);\n",
              "    }\n",
              "    60% {\n",
              "      border-color: transparent;\n",
              "      border-right-color: var(--fill-color);\n",
              "    }\n",
              "    80% {\n",
              "      border-color: transparent;\n",
              "      border-right-color: var(--fill-color);\n",
              "      border-bottom-color: var(--fill-color);\n",
              "    }\n",
              "    90% {\n",
              "      border-color: transparent;\n",
              "      border-bottom-color: var(--fill-color);\n",
              "    }\n",
              "  }\n",
              "</style>\n",
              "\n",
              "      <script>\n",
              "        async function quickchart(key) {\n",
              "          const quickchartButtonEl =\n",
              "            document.querySelector('#' + key + ' button');\n",
              "          quickchartButtonEl.disabled = true;  // To prevent multiple clicks.\n",
              "          quickchartButtonEl.classList.add('colab-df-spinner');\n",
              "          try {\n",
              "            const charts = await google.colab.kernel.invokeFunction(\n",
              "                'suggestCharts', [key], {});\n",
              "          } catch (error) {\n",
              "            console.error('Error during call to suggestCharts:', error);\n",
              "          }\n",
              "          quickchartButtonEl.classList.remove('colab-df-spinner');\n",
              "          quickchartButtonEl.classList.add('colab-df-quickchart-complete');\n",
              "        }\n",
              "        (() => {\n",
              "          let quickchartButtonEl =\n",
              "            document.querySelector('#df-712509af-be51-443a-910c-4bbd7b225825 button');\n",
              "          quickchartButtonEl.style.display =\n",
              "            google.colab.kernel.accessAllowed ? 'block' : 'none';\n",
              "        })();\n",
              "      </script>\n",
              "    </div>\n",
              "\n",
              "    </div>\n",
              "  </div>\n"
            ],
            "application/vnd.google.colaboratory.intrinsic+json": {
              "type": "dataframe"
            }
          },
          "metadata": {},
          "execution_count": 44
        }
      ],
      "source": [
        "#전체 데이터의 수치형 변수 분포 확인\n",
        "train.describe()"
      ]
    },
    {
      "cell_type": "code",
      "execution_count": null,
      "metadata": {
        "id": "Jn78I6JFpr3n",
        "colab": {
          "base_uri": "https://localhost:8080/"
        },
        "outputId": "bb9171f0-5ccf-4c75-d1cd-67626b9ab050"
      },
      "outputs": [
        {
          "output_type": "stream",
          "name": "stdout",
          "text": [
            "<class 'pandas.core.frame.DataFrame'>\n",
            "RangeIndex: 5881 entries, 0 to 5880\n",
            "Columns: 562 entries, tBodyAcc-mean()-X to Activity\n",
            "dtypes: float64(561), object(1)\n",
            "memory usage: 25.2+ MB\n",
            "None\n",
            "------------------------------\n",
            "Index(['tBodyAcc-mean()-X', 'tBodyAcc-mean()-Y', 'tBodyAcc-mean()-Z',\n",
            "       'tBodyAcc-std()-X', 'tBodyAcc-std()-Y', 'tBodyAcc-std()-Z',\n",
            "       'tBodyAcc-mad()-X', 'tBodyAcc-mad()-Y', 'tBodyAcc-mad()-Z',\n",
            "       'tBodyAcc-max()-X',\n",
            "       ...\n",
            "       'fBodyBodyGyroJerkMag-skewness()', 'fBodyBodyGyroJerkMag-kurtosis()',\n",
            "       'angle(tBodyAccMean,gravity)', 'angle(tBodyAccJerkMean),gravityMean)',\n",
            "       'angle(tBodyGyroMean,gravityMean)',\n",
            "       'angle(tBodyGyroJerkMean,gravityMean)', 'angle(X,gravityMean)',\n",
            "       'angle(Y,gravityMean)', 'angle(Z,gravityMean)', 'Activity'],\n",
            "      dtype='object', length=562)\n"
          ]
        }
      ],
      "source": [
        "#전체 데이터의 모든 변수 확인\n",
        "print(train.info())\n",
        "print('-'*30)\n",
        "print(train.columns)"
      ]
    },
    {
      "cell_type": "markdown",
      "metadata": {
        "id": "O38e5xai7SIW"
      },
      "source": [
        "## 2.데이터 전처리"
      ]
    },
    {
      "cell_type": "markdown",
      "metadata": {
        "id": "5vKH3MU30d8H"
      },
      "source": [
        "* 세부 요구사항\n",
        "    - Label 추가 : 1단계 모델을 위한 레이블 추가\n",
        "    - train : val = 8 : 2 혹은 7 : 3\n",
        "    - random_state 옵션을 사용하여 다른 모델과 비교를 위해 성능이 재현되도록 합니다."
      ]
    },
    {
      "cell_type": "markdown",
      "metadata": {
        "id": "wHxeKHxze2uL"
      },
      "source": [
        "### (1) 1단계 모델링을 위한 레이블"
      ]
    },
    {
      "cell_type": "code",
      "execution_count": null,
      "metadata": {
        "id": "bT3ScKtUe76_",
        "colab": {
          "base_uri": "https://localhost:8080/",
          "height": 178
        },
        "outputId": "71fe4700-d865-4402-d521-6385e0192284"
      },
      "outputs": [
        {
          "output_type": "execute_result",
          "data": {
            "text/plain": [
              "is_dynamic\n",
              "0    3234\n",
              "1    2647\n",
              "Name: count, dtype: int64"
            ],
            "text/html": [
              "<div>\n",
              "<style scoped>\n",
              "    .dataframe tbody tr th:only-of-type {\n",
              "        vertical-align: middle;\n",
              "    }\n",
              "\n",
              "    .dataframe tbody tr th {\n",
              "        vertical-align: top;\n",
              "    }\n",
              "\n",
              "    .dataframe thead th {\n",
              "        text-align: right;\n",
              "    }\n",
              "</style>\n",
              "<table border=\"1\" class=\"dataframe\">\n",
              "  <thead>\n",
              "    <tr style=\"text-align: right;\">\n",
              "      <th></th>\n",
              "      <th>count</th>\n",
              "    </tr>\n",
              "    <tr>\n",
              "      <th>is_dynamic</th>\n",
              "      <th></th>\n",
              "    </tr>\n",
              "  </thead>\n",
              "  <tbody>\n",
              "    <tr>\n",
              "      <th>0</th>\n",
              "      <td>3234</td>\n",
              "    </tr>\n",
              "    <tr>\n",
              "      <th>1</th>\n",
              "      <td>2647</td>\n",
              "    </tr>\n",
              "  </tbody>\n",
              "</table>\n",
              "</div><br><label><b>dtype:</b> int64</label>"
            ]
          },
          "metadata": {},
          "execution_count": 46
        }
      ],
      "source": [
        "#Lable 추가(1단계 모델:정적(0), 동적(1) 행동 분류 모델 생성 )\n",
        "# 6개의 행동을 정적(0) / 동적(1)으로 나눕니다.\n",
        "# 정적: STANDING, SITTING, LAYING\n",
        "# 동적: WALKING, WALKING_UPSTAIRS, WALKING_DOWNSTAIRS\n",
        "\n",
        "train['is_dynamic'] = train['Activity'].apply(\n",
        "    lambda x: 0 if x in ['STANDING', 'SITTING', 'LAYING'] else 1\n",
        ")\n",
        "\n",
        "# 추가되었는지 확인\n",
        "train[['Activity', 'is_dynamic']].head(10)\n",
        "train['is_dynamic'].value_counts()"
      ]
    },
    {
      "cell_type": "markdown",
      "metadata": {
        "id": "uAsBmDupKQX8"
      },
      "source": [
        "### (2) x, y 분리"
      ]
    },
    {
      "cell_type": "code",
      "execution_count": null,
      "metadata": {
        "id": "JVOseiQLKMoq"
      },
      "outputs": [],
      "source": [
        "#x,y 분리하기\n",
        "x = train.drop(['Activity', 'is_dynamic'], axis=1)\n",
        "y = train['is_dynamic']"
      ]
    },
    {
      "cell_type": "markdown",
      "metadata": {
        "id": "A8hxVzM3Agvw"
      },
      "source": [
        "### (3) 스케일링\n"
      ]
    },
    {
      "cell_type": "markdown",
      "metadata": {
        "id": "8OHAQJ9HJZP8"
      },
      "source": [
        "* 세부 요구사항\n",
        "    - 스케일링을 필요로 하는 알고리즘 사용을 위해서 코드 수행\n",
        "    - min-max 방식 혹은 standard 방식 중 한가지 사용."
      ]
    },
    {
      "cell_type": "code",
      "execution_count": null,
      "metadata": {
        "id": "egLANGC5BMmk"
      },
      "outputs": [],
      "source": [
        "#스케일링 방식을 선택해서 스케일링을 진행합니다.\n",
        "scaler = MinMaxScaler()"
      ]
    },
    {
      "cell_type": "markdown",
      "metadata": {
        "id": "TH_rqRv6jA9V"
      },
      "source": [
        "### (4) 데이터 분할\n",
        "* train, val 분할"
      ]
    },
    {
      "cell_type": "code",
      "execution_count": null,
      "metadata": {
        "id": "EATFZQZpx5yR"
      },
      "outputs": [],
      "source": [
        "#데이터 분할 진행(train:val = 8:2 혹은 7:3 권장)\n",
        "x_train, x_val, y_train, y_val = train_test_split(x, y, test_size=0.2, random_state=42, stratify=y)\n",
        "\n",
        "x_train = scaler.fit_transform(x_train)\n",
        "x_val = scaler.transform(x_val)"
      ]
    },
    {
      "cell_type": "markdown",
      "metadata": {
        "id": "bue7ZTLABQzi"
      },
      "source": [
        "## **3.단계별 모델링**"
      ]
    },
    {
      "cell_type": "markdown",
      "metadata": {
        "id": "fCpsgFz40pJ3"
      },
      "source": [
        "### (1) 단계1"
      ]
    },
    {
      "cell_type": "markdown",
      "metadata": {
        "id": "JtwoYR2e0pJ3"
      },
      "source": [
        "* 세부 요구사항\n",
        "    * 적절한 단계로 구분한 후, 1단계를 분류하는 모델 생성\n",
        "        * 예시 : 정적 행동(Laying, Sitting, Standing)과 동적 행동(동적 : Walking, Walking-Up, Walking-Down)을 구분하는 모델 생성.\n",
        "    * 몇 가지 모델을 만들고 가장 성능이 좋은 모델을 선정하시오.(기본 모델링 참고)"
      ]
    },
    {
      "cell_type": "code",
      "source": [
        "from tensorflow.keras.layers import Input\n",
        "from tensorflow.keras.models import Sequential\n",
        "from tensorflow.keras.optimizers import Adam\n",
        "from tensorflow.keras.layers import Dropout\n",
        "from tensorflow.keras.callbacks import EarlyStopping"
      ],
      "metadata": {
        "id": "TltTAkQC0jGk"
      },
      "execution_count": null,
      "outputs": []
    },
    {
      "cell_type": "markdown",
      "metadata": {
        "id": "cWYtB_nUD6zu"
      },
      "source": [
        "#### 1) 모델1"
      ]
    },
    {
      "cell_type": "code",
      "execution_count": null,
      "metadata": {
        "id": "6lV2HRaPf4k8",
        "colab": {
          "base_uri": "https://localhost:8080/",
          "height": 294
        },
        "outputId": "dd417213-b35f-42ff-d6cf-f49b9f405f9f"
      },
      "outputs": [
        {
          "output_type": "display_data",
          "data": {
            "text/plain": [
              "\u001b[1mModel: \"sequential\"\u001b[0m\n"
            ],
            "text/html": [
              "<pre style=\"white-space:pre;overflow-x:auto;line-height:normal;font-family:Menlo,'DejaVu Sans Mono',consolas,'Courier New',monospace\"><span style=\"font-weight: bold\">Model: \"sequential\"</span>\n",
              "</pre>\n"
            ]
          },
          "metadata": {}
        },
        {
          "output_type": "display_data",
          "data": {
            "text/plain": [
              "┏━━━━━━━━━━━━━━━━━━━━━━━━━━━━━━━━━┳━━━━━━━━━━━━━━━━━━━━━━━━┳━━━━━━━━━━━━━━━┓\n",
              "┃\u001b[1m \u001b[0m\u001b[1mLayer (type)                   \u001b[0m\u001b[1m \u001b[0m┃\u001b[1m \u001b[0m\u001b[1mOutput Shape          \u001b[0m\u001b[1m \u001b[0m┃\u001b[1m \u001b[0m\u001b[1m      Param #\u001b[0m\u001b[1m \u001b[0m┃\n",
              "┡━━━━━━━━━━━━━━━━━━━━━━━━━━━━━━━━━╇━━━━━━━━━━━━━━━━━━━━━━━━╇━━━━━━━━━━━━━━━┩\n",
              "│ dense (\u001b[38;5;33mDense\u001b[0m)                   │ (\u001b[38;5;45mNone\u001b[0m, \u001b[38;5;34m256\u001b[0m)            │       \u001b[38;5;34m143,872\u001b[0m │\n",
              "├─────────────────────────────────┼────────────────────────┼───────────────┤\n",
              "│ dense_1 (\u001b[38;5;33mDense\u001b[0m)                 │ (\u001b[38;5;45mNone\u001b[0m, \u001b[38;5;34m128\u001b[0m)            │        \u001b[38;5;34m32,896\u001b[0m │\n",
              "├─────────────────────────────────┼────────────────────────┼───────────────┤\n",
              "│ dense_2 (\u001b[38;5;33mDense\u001b[0m)                 │ (\u001b[38;5;45mNone\u001b[0m, \u001b[38;5;34m128\u001b[0m)            │        \u001b[38;5;34m16,512\u001b[0m │\n",
              "├─────────────────────────────────┼────────────────────────┼───────────────┤\n",
              "│ dense_3 (\u001b[38;5;33mDense\u001b[0m)                 │ (\u001b[38;5;45mNone\u001b[0m, \u001b[38;5;34m64\u001b[0m)             │         \u001b[38;5;34m8,256\u001b[0m │\n",
              "├─────────────────────────────────┼────────────────────────┼───────────────┤\n",
              "│ dense_4 (\u001b[38;5;33mDense\u001b[0m)                 │ (\u001b[38;5;45mNone\u001b[0m, \u001b[38;5;34m1\u001b[0m)              │            \u001b[38;5;34m65\u001b[0m │\n",
              "└─────────────────────────────────┴────────────────────────┴───────────────┘\n"
            ],
            "text/html": [
              "<pre style=\"white-space:pre;overflow-x:auto;line-height:normal;font-family:Menlo,'DejaVu Sans Mono',consolas,'Courier New',monospace\">┏━━━━━━━━━━━━━━━━━━━━━━━━━━━━━━━━━┳━━━━━━━━━━━━━━━━━━━━━━━━┳━━━━━━━━━━━━━━━┓\n",
              "┃<span style=\"font-weight: bold\"> Layer (type)                    </span>┃<span style=\"font-weight: bold\"> Output Shape           </span>┃<span style=\"font-weight: bold\">       Param # </span>┃\n",
              "┡━━━━━━━━━━━━━━━━━━━━━━━━━━━━━━━━━╇━━━━━━━━━━━━━━━━━━━━━━━━╇━━━━━━━━━━━━━━━┩\n",
              "│ dense (<span style=\"color: #0087ff; text-decoration-color: #0087ff\">Dense</span>)                   │ (<span style=\"color: #00d7ff; text-decoration-color: #00d7ff\">None</span>, <span style=\"color: #00af00; text-decoration-color: #00af00\">256</span>)            │       <span style=\"color: #00af00; text-decoration-color: #00af00\">143,872</span> │\n",
              "├─────────────────────────────────┼────────────────────────┼───────────────┤\n",
              "│ dense_1 (<span style=\"color: #0087ff; text-decoration-color: #0087ff\">Dense</span>)                 │ (<span style=\"color: #00d7ff; text-decoration-color: #00d7ff\">None</span>, <span style=\"color: #00af00; text-decoration-color: #00af00\">128</span>)            │        <span style=\"color: #00af00; text-decoration-color: #00af00\">32,896</span> │\n",
              "├─────────────────────────────────┼────────────────────────┼───────────────┤\n",
              "│ dense_2 (<span style=\"color: #0087ff; text-decoration-color: #0087ff\">Dense</span>)                 │ (<span style=\"color: #00d7ff; text-decoration-color: #00d7ff\">None</span>, <span style=\"color: #00af00; text-decoration-color: #00af00\">128</span>)            │        <span style=\"color: #00af00; text-decoration-color: #00af00\">16,512</span> │\n",
              "├─────────────────────────────────┼────────────────────────┼───────────────┤\n",
              "│ dense_3 (<span style=\"color: #0087ff; text-decoration-color: #0087ff\">Dense</span>)                 │ (<span style=\"color: #00d7ff; text-decoration-color: #00d7ff\">None</span>, <span style=\"color: #00af00; text-decoration-color: #00af00\">64</span>)             │         <span style=\"color: #00af00; text-decoration-color: #00af00\">8,256</span> │\n",
              "├─────────────────────────────────┼────────────────────────┼───────────────┤\n",
              "│ dense_4 (<span style=\"color: #0087ff; text-decoration-color: #0087ff\">Dense</span>)                 │ (<span style=\"color: #00d7ff; text-decoration-color: #00d7ff\">None</span>, <span style=\"color: #00af00; text-decoration-color: #00af00\">1</span>)              │            <span style=\"color: #00af00; text-decoration-color: #00af00\">65</span> │\n",
              "└─────────────────────────────────┴────────────────────────┴───────────────┘\n",
              "</pre>\n"
            ]
          },
          "metadata": {}
        },
        {
          "output_type": "display_data",
          "data": {
            "text/plain": [
              "\u001b[1m Total params: \u001b[0m\u001b[38;5;34m201,601\u001b[0m (787.50 KB)\n"
            ],
            "text/html": [
              "<pre style=\"white-space:pre;overflow-x:auto;line-height:normal;font-family:Menlo,'DejaVu Sans Mono',consolas,'Courier New',monospace\"><span style=\"font-weight: bold\"> Total params: </span><span style=\"color: #00af00; text-decoration-color: #00af00\">201,601</span> (787.50 KB)\n",
              "</pre>\n"
            ]
          },
          "metadata": {}
        },
        {
          "output_type": "display_data",
          "data": {
            "text/plain": [
              "\u001b[1m Trainable params: \u001b[0m\u001b[38;5;34m201,601\u001b[0m (787.50 KB)\n"
            ],
            "text/html": [
              "<pre style=\"white-space:pre;overflow-x:auto;line-height:normal;font-family:Menlo,'DejaVu Sans Mono',consolas,'Courier New',monospace\"><span style=\"font-weight: bold\"> Trainable params: </span><span style=\"color: #00af00; text-decoration-color: #00af00\">201,601</span> (787.50 KB)\n",
              "</pre>\n"
            ]
          },
          "metadata": {}
        },
        {
          "output_type": "display_data",
          "data": {
            "text/plain": [
              "\u001b[1m Non-trainable params: \u001b[0m\u001b[38;5;34m0\u001b[0m (0.00 B)\n"
            ],
            "text/html": [
              "<pre style=\"white-space:pre;overflow-x:auto;line-height:normal;font-family:Menlo,'DejaVu Sans Mono',consolas,'Courier New',monospace\"><span style=\"font-weight: bold\"> Non-trainable params: </span><span style=\"color: #00af00; text-decoration-color: #00af00\">0</span> (0.00 B)\n",
              "</pre>\n"
            ]
          },
          "metadata": {}
        }
      ],
      "source": [
        "# 모델 설계\n",
        "clear_session()\n",
        "\n",
        "nfeatures = x_train.shape[1]\n",
        "\n",
        "# 1단계: 정적(0) vs 동적(1) 분류\n",
        "model1 = Sequential([\n",
        "    Input(shape=(nfeatures,)),\n",
        "    Dense(256, activation='relu'),\n",
        "    Dense(128, activation='relu'),\n",
        "    Dense(128, activation='relu'),\n",
        "    Dense(64, activation='relu'),\n",
        "    Dense(1, activation='sigmoid')  # 이진 분류\n",
        "])\n",
        "\n",
        "model1.summary()"
      ]
    },
    {
      "cell_type": "code",
      "execution_count": null,
      "metadata": {
        "id": "oq7lvKmE0rrO"
      },
      "outputs": [],
      "source": [
        "# 컴파일 및 학습\n",
        "model1.compile(optimizer=Adam(learning_rate=0.001),\n",
        "               loss='binary_crossentropy',\n",
        "               metrics=['accuracy'])\n",
        "\n",
        "hist = model1.fit(x_train, y_train, epochs=250, validation_split=0.2, verbose=0, validation_data=(x_val, y_val)).history"
      ]
    },
    {
      "cell_type": "code",
      "execution_count": null,
      "metadata": {
        "id": "vmBi9eq40rnu"
      },
      "outputs": [],
      "source": [
        "# 학습곡선\n",
        "dl_history_plot(hist)"
      ]
    },
    {
      "cell_type": "code",
      "execution_count": null,
      "metadata": {
        "id": "TU_j8dTy7yaJ"
      },
      "outputs": [],
      "source": [
        "# 예측 및 평가\n",
        "loss, accuracy = model1.evaluate(x_val, y_val)\n",
        "print(f\"모델1 최종 검증 정확도: {accuracy * 100:.2f}%\")\n",
        "\n",
        "y_pred = model1.predict(x_val)\n",
        "y_pred = np.argmax(y_pred, axis=1)\n",
        "\n",
        "print(confusion_matrix(y_val, y_pred))\n",
        "print(classification_report(y_val, y_pred))"
      ]
    },
    {
      "cell_type": "markdown",
      "metadata": {
        "id": "Xo6HcoOUh8I5"
      },
      "source": [
        "#### 2) 모델2"
      ]
    },
    {
      "cell_type": "code",
      "execution_count": null,
      "metadata": {
        "id": "rgQFTyrn0uLA"
      },
      "outputs": [],
      "source": [
        "# 모델 설계\n",
        "clear_session()\n",
        "\n",
        "nfeatures = x_train.shape[1]\n",
        "\n",
        "# 1단계: 정적(0) vs 동적(1) 분류\n",
        "model2 = Sequential([\n",
        "    Input(shape=(nfeatures,)),\n",
        "    Dense(256, activation='relu'),\n",
        "    Dropout(0.5),\n",
        "    Dense(128, activation='relu'),\n",
        "    Dropout(0.5),\n",
        "    Dense(1, activation='sigmoid')\n",
        "])\n",
        "\n",
        "model2.summary()"
      ]
    },
    {
      "cell_type": "markdown",
      "source": [
        "epochs를 150으로 줄임"
      ],
      "metadata": {
        "id": "-rYlZkfj41k6"
      }
    },
    {
      "cell_type": "code",
      "execution_count": null,
      "metadata": {
        "id": "Mjl9LNyQ0uIm"
      },
      "outputs": [],
      "source": [
        "# 컴파일 및 학습\n",
        "model1.compile(optimizer=Adam(learning_rate=0.001),\n",
        "               loss='binary_crossentropy',\n",
        "               metrics=['accuracy'])\n",
        "\n",
        "early_stopping = EarlyStopping(monitor='val_loss', patience=5, verbose=1)\n",
        "\n",
        "hist2 = model1.fit(x_train, y_train, epochs=250, validation_split=0.2, verbose=0, validation_data=(x_val, y_val), callbacks=[early_stopping]).history"
      ]
    },
    {
      "cell_type": "code",
      "execution_count": null,
      "metadata": {
        "id": "zZ05bc900uFd"
      },
      "outputs": [],
      "source": [
        "# 학습곡선\n",
        "dl_history_plot(hist2)"
      ]
    },
    {
      "cell_type": "code",
      "execution_count": null,
      "metadata": {
        "id": "wmE7BGyO7yaK"
      },
      "outputs": [],
      "source": [
        "# 예측 및 평가\n",
        "loss, accuracy = model2.evaluate(x_val, y_val)\n",
        "print(f\"모델2 최종 검증 정확도: {accuracy * 100:.2f}%\")\n",
        "\n",
        "y_pred = model2.predict(x_val)\n",
        "y_pred = np.argmax(y_pred, axis=1)\n",
        "\n",
        "print(confusion_matrix(y_val, y_pred))\n",
        "print(classification_report(y_val, y_pred))"
      ]
    },
    {
      "cell_type": "markdown",
      "metadata": {
        "id": "cK9A9XmW0pJ8"
      },
      "source": [
        "### (2) 단계2"
      ]
    },
    {
      "cell_type": "markdown",
      "metadata": {
        "id": "uPFEN7aniicS"
      },
      "source": [
        "#### 1) 단계2-1 : 정적 동작 세부 분류"
      ]
    },
    {
      "cell_type": "markdown",
      "metadata": {
        "id": "S8v3DgDX0pJ8"
      },
      "source": [
        "* 세부 요구사항\n",
        "    * 정적 행동(Laying, Sitting, Standing)인 데이터 추출\n",
        "    * Laying, Sitting, Standing 를 분류하는 모델을 생성\n",
        "    * 몇가지 모델을 만들고 가장 성능이 좋은 모델을 선정하시오."
      ]
    },
    {
      "cell_type": "code",
      "execution_count": null,
      "metadata": {
        "id": "ZUnIqQ3O0yrb"
      },
      "outputs": [],
      "source": [
        "# (tip) 정적 행동(0)인 데이터 추출\n",
        "static_df = train[train['is_dynamic'] == 0].copy()\n",
        "static_df['Activity'].value_counts()"
      ]
    },
    {
      "cell_type": "code",
      "execution_count": null,
      "metadata": {
        "id": "PY2uBvF90ynr"
      },
      "outputs": [],
      "source": [
        "# (tip) 인코딩 진행, map 활용해서 숫자레이블로 매핑\n",
        "\n",
        "# 레이블 인코딩: Activity -> 0, 1, 2\n",
        "label_map = {'LAYING': 0, 'SITTING': 1, 'STANDING': 2}\n",
        "static_df['target'] = static_df['Activity'].map(label_map)\n",
        "static_df[['Activity', 'label']].head()"
      ]
    },
    {
      "cell_type": "code",
      "execution_count": null,
      "metadata": {
        "id": "rUcp7mTm0ykX"
      },
      "outputs": [],
      "source": [
        "# 모델 설계\n",
        "x_st = static_df.drop(['Activity', 'is_dynamic', 'label'], axis=1)\n",
        "y_st = static_df['label']\n",
        "\n",
        "x_st_scaled = scaler.transform(x_st)\n",
        "\n",
        "x_train_st, x_val_st, y_train_st, y_val_st = train_test_split(\n",
        "    x_st_scaled, y_st, test_size=0.2, random_state=1, stratify=y_st\n",
        ")\n",
        "\n",
        "clear_session()\n",
        "\n",
        "nfeatures = x_train_st.shape[1]\n",
        "model_static = Sequential([\n",
        "    Input(shape=(nfeatures,)),\n",
        "    Dense(128, activation='relu'),\n",
        "    Dropout(0.5),\n",
        "    Dense(64, activation='relu'),\n",
        "    Dense(3, activation='softmax')\n",
        "])\n",
        "\n",
        "model_static.summary()"
      ]
    },
    {
      "cell_type": "code",
      "execution_count": null,
      "metadata": {
        "id": "GQRLw2Rj7yaK"
      },
      "outputs": [],
      "source": [
        "# 컴파일 및 학습\n",
        "model_static.compile(optimizer=Adam(learning_rate=0.0005),\n",
        "                     loss='sparse_categorical_crossentropy',\n",
        "                     metrics=['accuracy'])\n",
        "\n",
        "early_stopping = EarlyStopping(monitor='val_loss', patience=5, verbose=1, restore_best_weights=True)\n",
        "\n",
        "history_static = model_static.fit(X_train_st, y_train_st,\n",
        "                                  epochs=100,\n",
        "                                  batch_size=64,\n",
        "                                  validation_data=(X_val_st, y_val_st),\n",
        "                                  callbacks=[early_stopping],\n",
        "                                  verbose=1).history"
      ]
    },
    {
      "cell_type": "code",
      "execution_count": null,
      "metadata": {
        "id": "xJYaou8M7yaK"
      },
      "outputs": [],
      "source": [
        "# 학습곡선\n",
        "dl_history_plot(hist.history_static)"
      ]
    },
    {
      "cell_type": "code",
      "execution_count": null,
      "metadata": {
        "id": "YMue7cqv7yaK"
      },
      "outputs": [],
      "source": [
        "# 예측 및 평가\n",
        "loss, accuracy = model_static.evaluate(X_val_st, y_val_st)\n",
        "print(f\"정적 동작 분류 모델 최종 검증 정확도: {accuracy * 100:.2f}%\")\n",
        "\n",
        "y_pred = model_static.predict(X_val)\n",
        "y_pred = np.argmax(y_pred, axis=1)\n",
        "\n",
        "print(classification_report(y_val, y_pred, zero_division=0))"
      ]
    },
    {
      "cell_type": "markdown",
      "metadata": {
        "id": "WFaqIRAy0pJ-"
      },
      "source": [
        "#### 2) 단계2-2 : 동적 동작 세부 분류"
      ]
    },
    {
      "cell_type": "markdown",
      "metadata": {
        "id": "dwGTMsJ60pJ-"
      },
      "source": [
        "* 세부 요구사항\n",
        "    * 동적 행동(Walking, Walking Upstairs, Walking Downstairs)인 데이터 추출\n",
        "    * Walking, Walking Upstairs, Walking Downstairs 를 분류하는 모델을 생성\n",
        "    * 몇가지 모델을 만들고 가장 성능이 좋은 모델을 선정하시오."
      ]
    },
    {
      "cell_type": "code",
      "execution_count": null,
      "metadata": {
        "id": "tfLclxZB00V9"
      },
      "outputs": [],
      "source": [
        "# (tip) 동적 행동(1)인 데이터 추출\n",
        "dynamic_df = train_df[train_df['is_dynamic'] == 1].copy()\n",
        "\n",
        "dynamic_df['Activity'].value_counts()"
      ]
    },
    {
      "cell_type": "code",
      "execution_count": null,
      "metadata": {
        "id": "ErvefaZL00SZ"
      },
      "outputs": [],
      "source": [
        "# (tip) map 활용해서 숫자레이블로 매핑핑\n",
        "dynamic_labels_map = {'WALKING': 0, 'WALKING_UPSTAIRS': 1, 'WALKING_DOWNSTAIRS': 2}\n",
        "dynamic_df['label'] = dynamic_df['Activity'].map(dynamic_labels_map)\n",
        "\n",
        "dynamic_df[['Activity', 'label']].head()"
      ]
    },
    {
      "cell_type": "code",
      "execution_count": null,
      "metadata": {
        "id": "-pG1CDkk00PJ"
      },
      "outputs": [],
      "source": [
        "# 모델 설계\n",
        "X_dy = dynamic_df.drop(['Activity', 'is_dynamic', 'label'], axis=1)\n",
        "y_dy = dynamic_df['label']\n",
        "\n",
        "X_dy_scaled = scaler.transform(X_dy)\n",
        "\n",
        "X_train_dy, X_val_dy, y_train_dy, y_val_dy = train_test_split(\n",
        "    X_dy_scaled, y_dy, test_size=0.2, random_state=42, stratify=y_dy\n",
        ")\n",
        "\n",
        "clear_session()\n",
        "\n",
        "nfeatures = X_train_dy.shape[1]\n",
        "\n",
        "model_dynamic = Sequential([\n",
        "    Input(shape=(nfeatures,)),\n",
        "    Dense(128, activation='relu'),\n",
        "    Dropout(0.5),\n",
        "    Dense(64, activation='relu'),\n",
        "    Dense(3, activation='softmax')\n",
        "])\n",
        "\n",
        "model_dynamic.summary()"
      ]
    },
    {
      "cell_type": "code",
      "execution_count": null,
      "metadata": {
        "id": "gZInTcq37yaL"
      },
      "outputs": [],
      "source": [
        "model_dynamic.compile(optimizer=Adam(learning_rate=0.0005),\n",
        "                      loss='sparse_categorical_crossentropy',\n",
        "                      metrics=['accuracy'])\n",
        "\n",
        "history_dynamic = model_dynamic.fit(X_train_dy, y_train_dy,\n",
        "                                    epochs=100,\n",
        "                                    batch_size=64,\n",
        "                                    validation_data=(X_val_dy, y_val_dy),\n",
        "                                    callbacks=[early_stopping],\n",
        "                                    verbose=1).history"
      ]
    },
    {
      "cell_type": "code",
      "execution_count": null,
      "metadata": {
        "id": "b1pmUHiu7yaL"
      },
      "outputs": [],
      "source": [
        "# 학습곡선\n",
        "dl_history_plot(hist.history_dynamic)"
      ]
    },
    {
      "cell_type": "code",
      "execution_count": null,
      "metadata": {
        "id": "bRViXGns7yaL"
      },
      "outputs": [],
      "source": [
        "# 예측 및 평가\n",
        "loss, accuracy = model_dynamic.evaluate(X_val_dy, y_val_dy)\n",
        "print(f\"동적 동작 분류 모델 최종 검증 정확도: {accuracy * 100:.2f}%\")\n",
        "\n",
        "y_pred = model_dynamic.predict(X_val)\n",
        "y_pred = np.argmax(y_pred, axis=1)\n",
        "\n",
        "print(classification_report(y_val, y_pred, zero_division=0))"
      ]
    },
    {
      "cell_type": "markdown",
      "metadata": {
        "id": "G0vxLxBy1MHk"
      },
      "source": [
        "### (3) (옵션) 분류 모델 파이프라인 구성\n"
      ]
    },
    {
      "cell_type": "markdown",
      "metadata": {
        "id": "6ypgwVbm1MHl"
      },
      "source": [
        "* 세부 요구사항\n",
        "    * 두 단계 모델을 통합하고, 새로운 데이터(test)에 대해서 최종 예측결과와 성능평가가 나오도록 함수로 만들기\n",
        "    * 데이터 파이프라인 구축 : test데이터가 로딩되어 전처리 과정을 거치고, 예측 및 성능 평가 수행"
      ]
    },
    {
      "cell_type": "markdown",
      "metadata": {
        "id": "J6mVuIA51MHm"
      },
      "source": [
        "* 예시\n",
        "![](https://github.com/DA4BAM/image/blob/main/pipeline%20function.png?raw=true)"
      ]
    },
    {
      "cell_type": "markdown",
      "metadata": {
        "id": "Re6LpNYhi5d3"
      },
      "source": [
        "#### 1) 함수 만들기"
      ]
    },
    {
      "cell_type": "code",
      "execution_count": null,
      "metadata": {
        "id": "THvjpwK31MHn"
      },
      "outputs": [],
      "source": [
        "#(tip) 함수 만들기\n",
        "# 1. 전처리\n",
        "# 1-1. 스케일링\n",
        "# 1-2. 입력값 만들기\n",
        "#-------------------\n",
        "# 2. 예측하기\n",
        "# 2-1. 단계1을 모델로 0,1 구분\n",
        "# 2-2. 단계 1의 결과로 데이터 나누기\n",
        "# 2-3. 단계2 모델로 예측\n",
        "# 2-4. 예측 결과 원래 값으로 변환\n",
        "# 2-5. 하나로 합쳐보기\n",
        "#-------------------\n",
        "# 3. 최종 성능평가 하기"
      ]
    },
    {
      "cell_type": "code",
      "execution_count": null,
      "metadata": {
        "id": "ZdO7GTOq1Vtl"
      },
      "outputs": [],
      "source": [
        "# (옵션) 위 참고해서 분류모델 파이프라인 만들어보기"
      ]
    },
    {
      "cell_type": "markdown",
      "metadata": {
        "id": "pk2Efe1K1MHn"
      },
      "source": [
        "#### 2) test 셋으로 예측하고 평가하기"
      ]
    },
    {
      "cell_type": "code",
      "execution_count": null,
      "metadata": {
        "id": "eVLnQbdfUyx9"
      },
      "outputs": [],
      "source": [
        "# test 셋의 구조 한번 확인해보고 성능평가 해보기"
      ]
    },
    {
      "cell_type": "code",
      "execution_count": null,
      "metadata": {
        "id": "ApfVsX_Zzr7r"
      },
      "outputs": [],
      "source": []
    }
  ],
  "metadata": {
    "colab": {
      "provenance": [],
      "include_colab_link": true
    },
    "kernelspec": {
      "display_name": "base",
      "language": "python",
      "name": "python3"
    },
    "language_info": {
      "codemirror_mode": {
        "name": "ipython",
        "version": 3
      },
      "file_extension": ".py",
      "mimetype": "text/x-python",
      "name": "python",
      "nbconvert_exporter": "python",
      "pygments_lexer": "ipython3",
      "version": "3.12.4"
    }
  },
  "nbformat": 4,
  "nbformat_minor": 0
}